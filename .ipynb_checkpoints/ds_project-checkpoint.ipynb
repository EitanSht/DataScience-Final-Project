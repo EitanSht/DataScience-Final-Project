{
 "cells": [
  {
   "cell_type": "markdown",
   "metadata": {},
   "source": [
    "# Data Science Text Generation & Classification Project\n",
    "### - Using RNN LSTM Network & Logistic Regression Classification Algorithms"
   ]
  },
  {
   "cell_type": "markdown",
   "metadata": {},
   "source": [
    "> **** Rotem Shperling - 305699514 ****  \n",
    "**** Eitan Shteinberg - 305809535 ****"
   ]
  },
  {
   "cell_type": "markdown",
   "metadata": {},
   "source": [
    "--- "
   ]
  },
  {
   "cell_type": "markdown",
   "metadata": {},
   "source": [
    "### Introduction"
   ]
  },
  {
   "cell_type": "markdown",
   "metadata": {},
   "source": [
    "> __In this assignment we were asked to perform 3 major tasks:__\n",
    "1. Build a classification model based on the speeches of 3 chosen politicians.\n",
    "2. Build a model to predict the speeches of each politician (separate model for each of them).\n",
    "3. Test the trained classification model on the generated speeches.\n",
    "\n",
    "> __Technical aspects:__\n",
    "1. We collected **80** speeches from each politician.\n",
    "2. We generated **24** speeches (30%) for each politician using his trained models.\n",
    "3. We trained each model with **200** epochs in order to get better results."
   ]
  },
  {
   "cell_type": "markdown",
   "metadata": {},
   "source": [
    "___"
   ]
  },
  {
   "cell_type": "markdown",
   "metadata": {},
   "source": [
    "### The Use Of Google Colaboratory In This Project\n",
    "> __What is [Google Colab](https://colab.research.google.com):__  \n",
    "Colaboratory is a Google research project created to help disseminate machine learning education and research.  \n",
    "It's a Jupyter notebook environment that requires no setup to use and runs entirely in the cloud.  \n",
    "Colaboratory notebooks are stored in Google Drive and can be shared just as you would with Google Docs or Sheets.  "
   ]
  },
  {
   "cell_type": "markdown",
   "metadata": {},
   "source": [
    "> __What was our main benefit from using it:__  \n",
    "The us of the Tesla K80 GPU, using the Keras library.  \n",
    "That way we performed very heavy calculations such as training the model & predicting speeches in less time.  \n",
    "It is FREE."
   ]
  },
  {
   "cell_type": "markdown",
   "metadata": {},
   "source": [
    "> __Cons of using it:__  \n",
    "1. The runtime environment collapsed occasionally and we had to start everything  \n",
    "from the start (__we trained each model ~10 times before the last version__)\n",
    "2. The importing and exporting of files was __incredibly painful__.\n",
    "3. The work with the Google Drive was not convinient."
   ]
  },
  {
   "cell_type": "markdown",
   "metadata": {},
   "source": [
    "> __Where did we use it:__  \n",
    "1. Training the RNN LSTM models - 200 epochs\n",
    "2. Generating the speeches of each politician\n",
    "3. Support in generating the generated speeches dataframe"
   ]
  },
  {
   "cell_type": "markdown",
   "metadata": {},
   "source": [
    "---"
   ]
  },
  {
   "cell_type": "markdown",
   "metadata": {},
   "source": [
    "### Expansion On The Library 'Textacy'\n",
    "#### Textacy\n",
    "> Textacy is a Python library for performing higher-level natural language processing (NLP) tasks, built on the high-performance spaCy library.  \n",
    "With the basics — tokenization, part-of-speech tagging, dependency parsing, etc. — offloaded to another library, textacy focuses on tasks  \n",
    "facilitated by the ready availability of tokenized, POS-tagged, and parsed text."
   ]
  },
  {
   "cell_type": "markdown",
   "metadata": {},
   "source": [
    "### Expansion On The Recurrent Neural Network:\n",
    "#### LSTM - Long Short-term Memory Networks\n",
    "> In this code we use an LSTM (Long Short Term Memory) Neural Network which is a special kind of RNN,  \n",
    "capable of learning long-term dependencies.  \n",
    "LSTM was introduced by Hochreiter & Schmidhuber (1997), and was refined and popularized by many people afterwards.  \n",
    "LSTM works tremendously well on a large variety of problems, and are now widely used.\n",
    "\n",
    ">LSTMs are explicitly designed to avoid the long-term dependency problem.  \n",
    "Remembering information for long periods of time is practically their default behavior."
   ]
  },
  {
   "cell_type": "markdown",
   "metadata": {},
   "source": [
    "### Expansion On The Classification Algorithm:\n",
    "#### Multinomial Logistic Regression\n",
    "> Multinomial Logistic Regression is a classification method that generalizes logistic regression to multiclass problems,  \n",
    "i.e. with more than two possible discrete outcomes. That is, it is a model that is used to predict the probabilities of the  \n",
    "different possible outcomes of a categorically distributed dependent variable, given a set of independent variables,  \n",
    "which may be real-valued, binary-valued, categorical-valued and more."
   ]
  },
  {
   "cell_type": "markdown",
   "metadata": {},
   "source": [
    "___"
   ]
  },
  {
   "cell_type": "markdown",
   "metadata": {},
   "source": [
    "## Phase 1 - Data Collection"
   ]
  },
  {
   "cell_type": "markdown",
   "metadata": {},
   "source": [
    "*** Loading the 'textacy' NLP library ***"
   ]
  },
  {
   "cell_type": "code",
   "execution_count": 1,
   "metadata": {},
   "outputs": [],
   "source": [
    "import textacy\n",
    "import textacy.datasets"
   ]
  },
  {
   "cell_type": "markdown",
   "metadata": {},
   "source": [
    "*** Downloading the Capitol Words dataset and selecting the speeches of: ***\n",
    "1. Barack Obama\n",
    "2. Bernie Sanders\n",
    "3. Hillary Clinton\n",
    "\n",
    "*** Creating a corpus with all the speeches (may take a while) ***"
   ]
  },
  {
   "cell_type": "code",
   "execution_count": 2,
   "metadata": {},
   "outputs": [
    {
     "data": {
      "text/plain": [
       "Corpus(3482 docs; 2214186 tokens)"
      ]
     },
     "execution_count": 2,
     "metadata": {},
     "output_type": "execute_result"
    }
   ],
   "source": [
    "cw = textacy.datasets.CapitolWords()\n",
    "# cw.download()\n",
    "records = cw.records(speaker_name={'Barack Obama', 'Bernie Sanders', 'Hillary Clinton'})\n",
    "text_stream, metadata_stream = textacy.fileio.split_record_fields(records, 'text')\n",
    "corpus = textacy.Corpus('en', texts=text_stream, metadatas=metadata_stream)\n",
    "corpus"
   ]
  },
  {
   "cell_type": "markdown",
   "metadata": {},
   "source": [
    "*** The following code was used to work more efficently since the corpus size is 1.2 GB ***"
   ]
  },
  {
   "cell_type": "code",
   "execution_count": 2,
   "metadata": {},
   "outputs": [],
   "source": [
    "# corpus.save('C:/Users/Eitan Shteinberg/Documents/Jupyter/DS_Proj/corpus/corpus_raw.gzip')"
   ]
  },
  {
   "cell_type": "code",
   "execution_count": 2,
   "metadata": {},
   "outputs": [],
   "source": [
    "# corpus = textacy.Corpus.load('C:/Users/Eitan Shteinberg/Documents/Jupyter/DS_Proj/corpus/corpus_raw.gzip')"
   ]
  },
  {
   "cell_type": "markdown",
   "metadata": {},
   "source": [
    "##### Spliting the speeches by speakers in doc textacy format"
   ]
  },
  {
   "cell_type": "code",
   "execution_count": 3,
   "metadata": {},
   "outputs": [],
   "source": [
    "num_of_speeches = 80"
   ]
  },
  {
   "cell_type": "code",
   "execution_count": 4,
   "metadata": {},
   "outputs": [],
   "source": [
    "obama_docs = list(corpus.get(lambda doc: doc.metadata['speaker_name'] == 'Barack Obama', limit=num_of_speeches))\n",
    "bernie_docs = list(corpus.get(lambda doc: doc.metadata['speaker_name'] == 'Bernie Sanders', limit=num_of_speeches))\n",
    "hillary_docs = list(corpus.get(lambda doc: doc.metadata['speaker_name'] == 'Hillary Clinton', limit=num_of_speeches))"
   ]
  },
  {
   "cell_type": "markdown",
   "metadata": {},
   "source": [
    "##### Preprocessing the speeches & Getting the average number of tokens for speech per speaker"
   ]
  },
  {
   "cell_type": "markdown",
   "metadata": {},
   "source": [
    "___The following steps were implemented in order to preprocess the speeches:___  \n",
    "_1. Fixing unicode encoding_  \n",
    "_2. Removal of punctuation_  \n",
    "_3. Lowercasing the words_  \n",
    "_4. Removal of URLs_  \n",
    "_5. Removal of e-mails_  \n",
    "_6. Removal of phone numbers_  \n",
    "_7. Removal of currency symbols_  "
   ]
  },
  {
   "cell_type": "code",
   "execution_count": 5,
   "metadata": {},
   "outputs": [],
   "source": [
    "n_tokens = 0\n",
    "for doc in obama_docs:\n",
    "    content = textacy.preprocess.preprocess_text(doc.text, fix_unicode=True, no_punct=True, lowercase=True, no_urls=True, \n",
    "                                                 no_emails=True, no_phone_numbers=True, no_currency_symbols=True)\n",
    "    doc.content = content\n",
    "    n_tokens += doc.n_tokens\n",
    "\n",
    "avg_tokens_obama = round(n_tokens / num_of_speeches)"
   ]
  },
  {
   "cell_type": "code",
   "execution_count": 6,
   "metadata": {},
   "outputs": [],
   "source": [
    "n_tokens = 0\n",
    "for doc in bernie_docs:\n",
    "    content = textacy.preprocess.preprocess_text(doc.text, fix_unicode=True, no_punct=True, lowercase=True, no_urls=True, \n",
    "                                                 no_emails=True, no_phone_numbers=True, no_currency_symbols=True)\n",
    "    doc.content = content\n",
    "    n_tokens += doc.n_tokens\n",
    "    \n",
    "avg_tokens_bernie =  round(n_tokens / num_of_speeches)"
   ]
  },
  {
   "cell_type": "code",
   "execution_count": 7,
   "metadata": {
    "scrolled": true
   },
   "outputs": [],
   "source": [
    "n_tokens = 0\n",
    "for doc in hillary_docs:\n",
    "    content = textacy.preprocess.preprocess_text(doc.text, fix_unicode=True, no_punct=True, lowercase=True, no_urls=True, \n",
    "                                                 no_emails=True, no_phone_numbers=True, no_currency_symbols=True)\n",
    "    doc.content = content\n",
    "    n_tokens += doc.n_tokens\n",
    "\n",
    "avg_tokens_hillary =  round(n_tokens / num_of_speeches)"
   ]
  },
  {
   "cell_type": "markdown",
   "metadata": {},
   "source": [
    "---"
   ]
  },
  {
   "cell_type": "markdown",
   "metadata": {},
   "source": [
    "*** Preprocessing demonstration ***"
   ]
  },
  {
   "cell_type": "markdown",
   "metadata": {},
   "source": [
    "*** Obama speeches - before & after preprocessing ***"
   ]
  },
  {
   "cell_type": "code",
   "execution_count": 8,
   "metadata": {
    "scrolled": true
   },
   "outputs": [
    {
     "data": {
      "text/plain": [
       "[Doc(1365 tokens; \"Mr. President, a few days ago, the world watche...\"),\n",
       " Doc(421 tokens; \"Mr. President, I rise to recognize the life and...\"),\n",
       " Doc(242 tokens; \"Mr. President, I speak today to recognize three...\"),\n",
       " Doc(257 tokens; \"Mr. President, I rise today to discuss the Clas...\"),\n",
       " Doc(1306 tokens; \"Thank you, Mr. President. I have come to the fl...\"),\n",
       " Doc(569 tokens; \"That is an accurate assessment by the distingui...\"),\n",
       " Doc(102 tokens; \"That is an accurate statement by the distinguis...\"),\n",
       " Doc(566 tokens; \"Mr. President, I rise to recognize an important...\"),\n",
       " Doc(336 tokens; \"Mr. President, I rise to recognize and remember...\"),\n",
       " Doc(335 tokens; \"Mr. President, as the Peace Corps celebrates it...\"),\n",
       " Doc(694 tokens; \"Mr. President, over the last century, the Natio...\"),\n",
       " Doc(15482 tokens; \"Mr. President, I am pleased to join as a cospon...\"),\n",
       " Doc(299 tokens; \"Today I wish to commend Congressman Bobby Rush ...\"),\n",
       " Doc(3501 tokens; \" There being no objection, the bill was ordered...\"),\n",
       " Doc(17 tokens; \"Mr. President, I ask unanimous consent that the...\"),\n",
       " Doc(876 tokens; \"Mr. President, I rise today to urge my colleagu...\"),\n",
       " Doc(13 tokens; \"Mr. President, I ask that the quorum call be di...\"),\n",
       " Doc(921 tokens; \"Mr. President, today I am offering an amendment...\"),\n",
       " Doc(98 tokens; \"Yes, I do. DOD currently charges soldiers $8.30...\"),\n",
       " Doc(59 tokens; \"I thank my colleague, the Senator from Mississi...\"),\n",
       " Doc(30 tokens; \"Mr. President, I thank the senior Senator from ...\"),\n",
       " Doc(203 tokens; \"Recently, USA Today reported that many of our i...\"),\n",
       " Doc(53 tokens; \"I look forward to working with the Senator from...\"),\n",
       " Doc(635 tokens; \"Mr. President, I speak in favor of the amendmen...\"),\n",
       " Doc(429 tokens; \"I see that the distinguished ranking member of ...\"),\n",
       " Doc(65 tokens; \"Just for the record, the $100 million figure is...\"),\n",
       " Doc(925 tokens; \"Mr. President, I rise to speak about the budget...\"),\n",
       " Doc(18 tokens; \"Mr. President, I ask unanimous consent that the...\"),\n",
       " Doc(1024 tokens; \"Mr. President, I rise today to speak about the ...\"),\n",
       " Doc(290 tokens; \"Mr. President, recently, more 1,200 students fr...\"),\n",
       " Doc(606 tokens; \"Mr. President, we have all heard from folks bac...\"),\n",
       " Doc(813 tokens; \"Mr. President, like my distinguished colleagues...\"),\n",
       " Doc(17 tokens; \"Mr. President, I ask unanimous consent that the...\"),\n",
       " Doc(2016 tokens; \"Mr. President, we have been spending a consider...\"),\n",
       " Doc(321 tokens; \"Mr. President, I rise today to bring attention ...\"),\n",
       " Doc(2347 tokens; \"Mr. President, let me begin my statement today ...\"),\n",
       " Doc(473 tokens; \"Mr. President, I am pleased to join my colleagu...\"),\n",
       " Doc(362 tokens; \"Mr. President, the Department of Veterans Affai...\"),\n",
       " Doc(485 tokens; \"Mr. President, today marks the 40th anniversary...\"),\n",
       " Doc(1202 tokens; \"Mr. President, I rise in strong support of this...\"),\n",
       " Doc(308 tokens; \"Mr. President, on May 22, 2005, the women's lac...\"),\n",
       " Doc(299 tokens; \"I agree with the senior Senator from Vermont ab...\"),\n",
       " Doc(265 tokens; \"I thank the Senator from Vermont, the ranking m...\"),\n",
       " Doc(581 tokens; \"Mr. President, I support the amendment offered ...\"),\n",
       " Doc(741 tokens; \"Mr. President, I rise today in support of the a...\"),\n",
       " Doc(460 tokens; \"Madam. President, I was pleased to join the Sen...\"),\n",
       " Doc(582 tokens; \"Mr. President, I am proud to join Senators Fris...\"),\n",
       " Doc(426 tokens; \"Mr. President, I thank Senator Inhofe, Senator ...\"),\n",
       " Doc(32 tokens; \"Mr. President, I ask unanimous consent that Pat...\"),\n",
       " Doc(1413 tokens; \"Mr. President, during the 2 weeks or so that we...\"),\n",
       " Doc(439 tokens; \"Mr. President, I would like to express my grati...\"),\n",
       " Doc(421 tokens; \"Mr. President, from June 12-16, 2005, students ...\"),\n",
       " Doc(732 tokens; \"Mr. President, I rise today to speak in favor o...\"),\n",
       " Doc(486 tokens; \"Mr. President, I speak about the plight of chil...\"),\n",
       " Doc(1844 tokens; \"Mr. President, as the previous speaker, I rise ...\"),\n",
       " Doc(1154 tokens; \"Mr. President, I rise today in support of H.R. ...\"),\n",
       " Doc(306 tokens; \"Mr. President, I rise today to introduce the Dr...\"),\n",
       " Doc(331 tokens; \"Mr. President, on May 3, 2005, Secretary of Edu...\"),\n",
       " Doc(241 tokens; \"Mr. President, today I rise to congratulate an ...\"),\n",
       " Doc(1145 tokens; \"Mr. President, I rise today to speak about S. 3...\"),\n",
       " Doc(969 tokens; \"Mr. President, I rise to commend the chief spon...\"),\n",
       " Doc(711 tokens; \"Mr. President, I rise in support of the Interio...\"),\n",
       " Doc(317 tokens; \"Mr. President, I am pleased that the conference...\"),\n",
       " Doc(1296 tokens; \"Mr. President, I rise to address what has been ...\"),\n",
       " Doc(372 tokens; \"Mr. President, today I speak in honor of Chief ...\"),\n",
       " Doc(807 tokens; \"Mr. President, today I introduce a bill to prov...\"),\n",
       " Doc(727 tokens; \"Mr. President. I rise in strong support of the ...\"),\n",
       " Doc(554 tokens; \"Mr. President, one of the most striking things ...\"),\n",
       " Doc(395 tokens; \"Mr. President, every year, the Inter-Associatio...\"),\n",
       " Doc(812 tokens; \"Mr. President, today I am submitting a resoluti...\"),\n",
       " Doc(458 tokens; \"Mr. President, I rise today to commend my colle...\"),\n",
       " Doc(879 tokens; \"Mr. President, I rise today to support this imp...\"),\n",
       " Doc(18 tokens; \"Mr. President, I ask unanimous consent that the...\"),\n",
       " Doc(1624 tokens; \"Mr. President, thank you very much. First of al...\"),\n",
       " Doc(494 tokens; \"Mr. President, I rise to speak in support of th...\"),\n",
       " Doc(632 tokens; \"Mr. President, it is my pleasure to join Senato...\"),\n",
       " Doc(26 tokens; \"I was not aware my senior colleague from Illino...\"),\n",
       " Doc(1440 tokens; \"Thank you very much, Mr. President. I will be b...\"),\n",
       " Doc(1453 tokens; \"Mr. President, I thank the distinguished Senato...\"),\n",
       " Doc(402 tokens; \"Mr. President, I rise today to call attention t...\")]"
      ]
     },
     "execution_count": 8,
     "metadata": {},
     "output_type": "execute_result"
    }
   ],
   "source": [
    "obama_docs"
   ]
  },
  {
   "cell_type": "code",
   "execution_count": 9,
   "metadata": {},
   "outputs": [
    {
     "name": "stdout",
     "output_type": "stream",
     "text": [
      "Number of speeches:  80\n"
     ]
    }
   ],
   "source": [
    "print ('Number of speeches: ',len(obama_docs))"
   ]
  },
  {
   "cell_type": "code",
   "execution_count": 10,
   "metadata": {},
   "outputs": [
    {
     "name": "stdout",
     "output_type": "stream",
     "text": [
      "\n",
      "> Sample of a speech before preprocessing:\n",
      "\n",
      "Mr. President, a few days ago, the world watched as the seeds of democracy began to take root in Iraq. As a result of the sheer courage of the Iraqi people and the untold sacrifices of American soldiers, the success of the elections showed just how far people will go to achieve self-government and r \n",
      "\n",
      "\n",
      "> Sample of the same speech after preprocessing:\n",
      "\n",
      "mr president a few days ago the world watched as the seeds of democracy began to take root in iraq as a result of the sheer courage of the iraqi people and the untold sacrifices of american soldiers the success of the elections showed just how far people will go to achieve selfgovernment and rule of\n"
     ]
    }
   ],
   "source": [
    "print('\\n> Sample of a speech before preprocessing:\\n')\n",
    "print (obama_docs[0].text[:300], '\\n\\n')\n",
    "print('> Sample of the same speech after preprocessing:\\n')\n",
    "print (obama_docs[0].content[:300])"
   ]
  },
  {
   "cell_type": "markdown",
   "metadata": {},
   "source": [
    "---"
   ]
  },
  {
   "cell_type": "markdown",
   "metadata": {},
   "source": [
    "*** Bernie speeches - before & after preprocessing ***"
   ]
  },
  {
   "cell_type": "code",
   "execution_count": 11,
   "metadata": {
    "scrolled": true
   },
   "outputs": [
    {
     "data": {
      "text/plain": [
       "[Doc(159 tokens; \"Mr. Speaker, 480,000 Federal employees are work...\"),\n",
       " Doc(336 tokens; \"Mr. Speaker, I thank the gentleman for yielding...\"),\n",
       " Doc(177 tokens; \"Mr. Speaker, if we want to understand why in th...\"),\n",
       " Doc(198 tokens; \"Mr. Speaker, in the United States of America mi...\"),\n",
       " Doc(182 tokens; \"Mr. Speaker, I want to offer my complete gratit...\"),\n",
       " Doc(19 tokens; \"Mr. Speaker, I rise to engage in a colloquy wit...\"),\n",
       " Doc(173 tokens; \"Mr. Speaker, I rise to engage in a colloquy wit...\"),\n",
       " Doc(130 tokens; \"Mr. Speaker, I was unavoidably absent during th...\"),\n",
       " Doc(216 tokens; \"Mr. Speaker, the family dairy farmers in Vermon...\"),\n",
       " Doc(657 tokens; \"Mr. Speaker, on Saturday, February 10, in signi...\"),\n",
       " Doc(10282 tokens; \"Mr. Speaker, as the only Independent in the Con...\"),\n",
       " Doc(246 tokens; \"Mr. Speaker, I thank the gentleman for yielding...\"),\n",
       " Doc(194 tokens; \"Mr. Speaker, I thank the gentleman for yielding...\"),\n",
       " Doc(15 tokens; \"Included both in the Republican bill and the Di...\"),\n",
       " Doc(260 tokens; \"Mr. Speaker, all over this country, family farm...\"),\n",
       " Doc(889 tokens; \"Mr. Speaker, I would like to say a few words ab...\"),\n",
       " Doc(92 tokens; \"Mr. Speaker, I thank the gentleman for yielding...\"),\n",
       " Doc(172 tokens; \"Mr. Speaker, the major crisis facing our countr...\"),\n",
       " Doc(163 tokens; \"Mr. Speaker, this debate centers on two issues....\"),\n",
       " Doc(349 tokens; \"Mr. Chairman, I want to make two basic points. ...\"),\n",
       " Doc(19 tokens; \"Mr. Chairman, I offer an amendment. The CHAIRMA...\"),\n",
       " Doc(812 tokens; \"Mr. Chairman, I yield myself such time as I may...\"),\n",
       " Doc(42 tokens; \"Mr. Chairman, I urge the passage of this amendm...\"),\n",
       " Doc(388 tokens; \"Mr. Speaker, this is really an incredible rule....\"),\n",
       " Doc(6141 tokens; \"Mr. Speaker, I thank the gentleman for yielding...\"),\n",
       " Doc(12 tokens; \"Mr. Speaker, I move that the House do now adjou...\"),\n",
       " Doc(641 tokens; \"Mr. Speaker, I thank the gentleman from Massach...\"),\n",
       " Doc(874 tokens; \"Mr. Speaker, for the benefit of my colleagues I...\"),\n",
       " Doc(546 tokens; \"Mr. Chairman, I move to strike the requisite nu...\"),\n",
       " Doc(231 tokens; \"Mr. Speaker, I thank the gentleman for yielding...\"),\n",
       " Doc(368 tokens; \"Mr. Speaker, I thank the gentleman from Missour...\"),\n",
       " Doc(233 tokens; \"Mr. Speaker, the great crisis facing this count...\"),\n",
       " Doc(1057 tokens; \"Mr. Speaker, for the benefit of my colleagues I...\"),\n",
       " Doc(597 tokens; \"Mr. Speaker, for the benefit of my colleagues I...\"),\n",
       " Doc(1482 tokens; \"Mr. Speaker, for the benefit of my colleagues I...\"),\n",
       " Doc(1254 tokens; \"Mr. Speaker, for the benefit of my colleagues I...\"),\n",
       " Doc(1705 tokens; \"Mr. Speaker, for the benefit of my colleagues I...\"),\n",
       " Doc(627 tokens; \"Mr. Speaker, for the benefit of my colleagues, ...\"),\n",
       " Doc(1058 tokens; \"Mr. Speaker, for the benefit of my colleagues I...\"),\n",
       " Doc(1214 tokens; \"Mr. Speaker, for the benefit of my colleagues I...\"),\n",
       " Doc(1155 tokens; \"Mr. Speaker, for the benefit of my colleagues I...\"),\n",
       " Doc(985 tokens; \"Mr. Speaker, for the benefit of my colleagues I...\"),\n",
       " Doc(897 tokens; \"Mr. Speaker, for the benefit of my colleagues I...\"),\n",
       " Doc(991 tokens; \"Mr. Speaker, for the benefit of my colleagues I...\"),\n",
       " Doc(13 tokens; \"If the gentleman will yield, Mr. Chairman, that...\"),\n",
       " Doc(1032 tokens; \"Mr. Chairman, I move to strike the last word. M...\"),\n",
       " Doc(66 tokens; \"In fact, Mr. Chairman, we should be standing in...\"),\n",
       " Doc(29 tokens; \"Mr. Chairman, I move to strike the requisite nu...\"),\n",
       " Doc(30 tokens; \"Mr. Chairman, I offer an amendment and I ask un...\"),\n",
       " Doc(13 tokens; \"Mr. Chairman, I move to strike the requisite nu...\"),\n",
       " Doc(151 tokens; \"Mr. Chairman, I move to strike the requisite nu...\"),\n",
       " Doc(157 tokens; \"Mr. Chairman, I move to strike the last word. M...\"),\n",
       " Doc(19 tokens; \"Mr. Chairman, I offer an amendment. The CHAIRMA...\"),\n",
       " Doc(27 tokens; \"Mr. Chairman, reserving the right to object, I ...\"),\n",
       " Doc(27 tokens; \"Mr. Chairman, I withdraw my reservation of obje...\"),\n",
       " Doc(19 tokens; \"Mr. Chairman, I offer an amendment. The CHAIRMA...\"),\n",
       " Doc(454 tokens; \"Mr. Chairman, I yield myself such time as I may...\"),\n",
       " Doc(19 tokens; \"Mr. Chairman, I yield 1 minute to the gentlewom...\"),\n",
       " Doc(17 tokens; \"Mr. Chairman, I yield 1 minute to the gentlewom...\"),\n",
       " Doc(18 tokens; \"Mr. Chairman, I yield 1 minute to the gentleman...\"),\n",
       " Doc(17 tokens; \"Mr. Chairman, I yield 30 seconds to the gentlem...\"),\n",
       " Doc(223 tokens; \"Mr. Chairman, I yield myself the balance of my ...\"),\n",
       " Doc(71 tokens; \"Mr. Chairman, I demand a recorded vote, and pen...\"),\n",
       " Doc(38 tokens; \"Mr. Chairman, I demand a recorded vote. The CHA...\"),\n",
       " Doc(19 tokens; \"Mr. Chairman, I offer an amendment. The CHAIRMA...\"),\n",
       " Doc(196 tokens; \"Mr. Chairman, I yield myself such time as I may...\"),\n",
       " Doc(17 tokens; \"Mr. Chairman, I yield 1 minute to the gentlewom...\"),\n",
       " Doc(17 tokens; \"Mr. Chairman, I yield 1\\1/2\\ minutes to the gen...\"),\n",
       " Doc(18 tokens; \"Mr. Chairman, I yield 1 minute to the gentleman...\"),\n",
       " Doc(22 tokens; \"Mr. Chairman, I offer an amendment, number 14. ...\"),\n",
       " Doc(351 tokens; \"Mr. Chairman, I yield myself such time as I may...\"),\n",
       " Doc(24 tokens; \"Mr. Chairman, I thank the majority leader very ...\"),\n",
       " Doc(189 tokens; \"Mr. Speaker, I rise in support of this legislat...\"),\n",
       " Doc(112 tokens; \"Mr. Chairman, I offer an amendment. The CHAIRMA...\"),\n",
       " Doc(53 tokens; \"Mr. Chairman, I yield 5 minutes to the gentlema...\"),\n",
       " Doc(322 tokens; \"Mr. Chairman, I yield myself such time as I may...\"),\n",
       " Doc(18 tokens; \"Mr. Chairman, I yield 1\\1/2\\ minutes to the gen...\"),\n",
       " Doc(17 tokens; \"Mr. Chairman, I yield 10 seconds to the gentlem...\"),\n",
       " Doc(291 tokens; \"Mr. Chairman, I yield myself such time as I may...\"),\n",
       " Doc(235 tokens; \"Mr. Speaker, in a time when this Congress is pr...\")]"
      ]
     },
     "execution_count": 11,
     "metadata": {},
     "output_type": "execute_result"
    }
   ],
   "source": [
    "bernie_docs"
   ]
  },
  {
   "cell_type": "code",
   "execution_count": 12,
   "metadata": {},
   "outputs": [
    {
     "name": "stdout",
     "output_type": "stream",
     "text": [
      "Number of speeches:  80\n"
     ]
    }
   ],
   "source": [
    "print ('Number of speeches: ',len(bernie_docs))"
   ]
  },
  {
   "cell_type": "code",
   "execution_count": 13,
   "metadata": {},
   "outputs": [
    {
     "name": "stdout",
     "output_type": "stream",
     "text": [
      "\n",
      "> Sample of a speech before preprocessing:\n",
      "\n",
      "Mr. Speaker, 480,000 Federal employees are working without pay, a form of involuntary servitude; 280,000 Federal employees are not working, and they will be paid. Virtually all of these workers have mortgages to pay, children to feed, and financial obligations to meet.\n",
      "Mr. Speaker, what is happening \n",
      "\n",
      "\n",
      "> Sample of the same speech after preprocessing:\n",
      "\n",
      "mr speaker 480000 federal employees are working without pay a form of involuntary servitude 280000 federal employees are not working and they will be paid virtually all of these workers have mortgages to pay children to feed and financial obligations to meet\n",
      "mr speaker what is happening to these wor\n"
     ]
    }
   ],
   "source": [
    "print('\\n> Sample of a speech before preprocessing:\\n')\n",
    "print (bernie_docs[0].text[:300], '\\n\\n')\n",
    "print('> Sample of the same speech after preprocessing:\\n')\n",
    "print (bernie_docs[0].content[:300])"
   ]
  },
  {
   "cell_type": "markdown",
   "metadata": {},
   "source": [
    "---"
   ]
  },
  {
   "cell_type": "markdown",
   "metadata": {},
   "source": [
    "*** Hillary speeches - before & after preprocessing ***"
   ]
  },
  {
   "cell_type": "code",
   "execution_count": 14,
   "metadata": {
    "scrolled": true
   },
   "outputs": [
    {
     "data": {
      "text/plain": [
       "[Doc(13 tokens; \"I yield myself 15 minutes of the time controlle...\"),\n",
       " Doc(1761 tokens; \"Mr. President, yesterday I was in Rome and Wate...\"),\n",
       " Doc(2007 tokens; \"Mr. President, as we begin our work on the 2002...\"),\n",
       " Doc(1942 tokens; \"Mr. President, I rise to add my voice to those ...\"),\n",
       " Doc(37 tokens; \"I thank the Chair. (The remarks of Mrs. Clinton...\"),\n",
       " Doc(17 tokens; \"Madam President, I ask unanimous consent that t...\"),\n",
       " Doc(1001 tokens; \"Madam President, I will speak to one of the pen...\"),\n",
       " Doc(501 tokens; \"Mr. President, I join in support of this amendm...\"),\n",
       " Doc(468 tokens; \"Mr. President, I thank my good friend from Conn...\"),\n",
       " Doc(406 tokens; \"Thank you very much. Mr. President, I didn't re...\"),\n",
       " Doc(44 tokens; \"I thank the Chair. (The remarks of Mrs. Clinton...\"),\n",
       " Doc(360 tokens; \"My good friend from Connecticut raised an issue...\"),\n",
       " Doc(83 tokens; \"My question would be: In response to the discus...\"),\n",
       " Doc(3347 tokens; \"Madam President, I come to the floor today to s...\"),\n",
       " Doc(221 tokens; \"Mr. President, I rise in support of Senator Tho...\"),\n",
       " Doc(3070 tokens; \"Mr. President, I thank my distinguished colleag...\"),\n",
       " Doc(407 tokens; \"Certainly. My feelings go back many years. As t...\"),\n",
       " Doc(466 tokens; \"I think my colleague is absolutely right, becau...\"),\n",
       " Doc(1896 tokens; \"Mr. President, I appreciate the dialog that jus...\"),\n",
       " Doc(215 tokens; \"As the Senator points out, I have been involved...\"),\n",
       " Doc(2074 tokens; \"As the Senator knows, when somebody says money ...\"),\n",
       " Doc(2423 tokens; \"Mr. President, I associate myself with a number...\"),\n",
       " Doc(947 tokens; \"Mr. President, today, I am so pleased to join m...\"),\n",
       " Doc(586 tokens; \"Mr. President, I rise today to honor the career...\"),\n",
       " Doc(3402 tokens; \"Mr. President, I am a big believer in the impor...\"),\n",
       " Doc(1110 tokens; \"Mr. President, I thank my ranking member, the S...\"),\n",
       " Doc(161 tokens; \"So I, with great regret, stand in this Chamber ...\"),\n",
       " Doc(74 tokens; \"Mr. President, on April 22, 2001 I delivered a ...\"),\n",
       " Doc(903 tokens; \"Mr. President, I thank the Senator from Washing...\"),\n",
       " Doc(797 tokens; \"Mr. President, I would like to recognize the ac...\"),\n",
       " Doc(26 tokens; \"Is there objection to the modification of the a...\"),\n",
       " Doc(4117 tokens; \"Mr. President, I rise today in support of the b...\"),\n",
       " Doc(2200 tokens; \"Madam President, I commend and thank my good fr...\"),\n",
       " Doc(758 tokens; \"Mr. President, I rise today in opposition to bo...\"),\n",
       " Doc(414 tokens; \"Madam President, if I could have 2 minutes to a...\"),\n",
       " Doc(3749 tokens; \"Mr. President, I only caught the tail end of th...\"),\n",
       " Doc(447 tokens; \"Indeed, the Senator from New York does recall t...\"),\n",
       " Doc(1012 tokens; \"Mr. President, last week, the administration ma...\"),\n",
       " Doc(212 tokens; \"I rise in support of this important sense of th...\"),\n",
       " Doc(78 tokens; \"I thank the Senator from Arizona. I congratulat...\"),\n",
       " Doc(78 tokens; \"I thank the Chair. Mr. President, I add my than...\"),\n",
       " Doc(1970 tokens; \"Mr. President, we are in the midst of this very...\"),\n",
       " Doc(49 tokens; \"Mr. President, I ask unanimous consent that Dr....\"),\n",
       " Doc(1087 tokens; \"Mr. President, I have the greatest respect for ...\"),\n",
       " Doc(131 tokens; \"Mr. President, I urge my colleagues to oppose t...\"),\n",
       " Doc(55 tokens; \"Mr. President, let me state for the Record that...\"),\n",
       " Doc(728 tokens; \"Mr. President, I rise today to introduce a reso...\"),\n",
       " Doc(29 tokens; \"Mr. President, I ask unanimous consent that the...\"),\n",
       " Doc(742 tokens; \"Mr. President, I rise today in opposition to pr...\"),\n",
       " Doc(758 tokens; \"Mr. President, I stand here today not in opposi...\"),\n",
       " Doc(72 tokens; \"Madam President, Riis Park serves an ethnically...\"),\n",
       " Doc(314 tokens; \"Mr. President, I rise today to pay tribute to D...\"),\n",
       " Doc(315 tokens; \"Madam President, I rise today to pay tribute to...\"),\n",
       " Doc(507 tokens; \"Madam President, I rise today to speak in suppo...\"),\n",
       " Doc(21 tokens; \"Is there objection? Without objection, it is so...\"),\n",
       " Doc(499 tokens; \"As the majority leader well knows, I am new to ...\"),\n",
       " Doc(436 tokens; \"Madam President, I rise today to honor one of t...\"),\n",
       " Doc(158 tokens; \"In 1975, Senator Moynihan warned his colleagues...\"),\n",
       " Doc(245 tokens; \"In the aftermath of the attack, doctors believe...\"),\n",
       " Doc(75 tokens; \"Madam President, I ask unanimous consent to pro...\"),\n",
       " Doc(30 tokens; \"Madam President, I ask unanimous consent that t...\"),\n",
       " Doc(40 tokens; \"Madam President, I ask unanimous consent that t...\"),\n",
       " Doc(31 tokens; \"Madam President, I ask unanimous consent that t...\"),\n",
       " Doc(46 tokens; \"Madam President, I ask unanimous consent that t...\"),\n",
       " Doc(170 tokens; \"Madam President, I ask unanimous consent that w...\"),\n",
       " Doc(68 tokens; \"Madam President, the Senate will convene Monday...\"),\n",
       " Doc(1016 tokens; \"Mr. President, I rise in support of the amendme...\"),\n",
       " Doc(1873 tokens; \"Madam President, I also thank the chairman and ...\"),\n",
       " Doc(194 tokens; \"Mr. President, I rise to join the senior Senato...\"),\n",
       " Doc(716 tokens; \"Mr. President, it is an honor to be here today ...\"),\n",
       " Doc(1308 tokens; \"Thank you, Mr. President. I thank my colleagues...\"),\n",
       " Doc(2504 tokens; \"Mr. President, I wanted to take just a few minu...\"),\n",
       " Doc(780 tokens; \"Madam President, I thank the Senator from West ...\"),\n",
       " Doc(1083 tokens; \"Mr. President, I, too, thank the chairman and r...\"),\n",
       " Doc(1523 tokens; \"Mr. President, I come to the Chamber to discuss...\"),\n",
       " Doc(904 tokens; \"I thank the chairman of the committee who has d...\"),\n",
       " Doc(17 tokens; \"Mr. President, I ask unanimous consent that the...\"),\n",
       " Doc(20 tokens; \"Mr. President, I do not want to impinge upon th...\"),\n",
       " Doc(745 tokens; \"Mr. President, I rise again in support of the a...\"),\n",
       " Doc(13 tokens; \"The time of the Senator from Florida has expire...\")]"
      ]
     },
     "execution_count": 14,
     "metadata": {},
     "output_type": "execute_result"
    }
   ],
   "source": [
    "hillary_docs"
   ]
  },
  {
   "cell_type": "code",
   "execution_count": 15,
   "metadata": {},
   "outputs": [
    {
     "name": "stdout",
     "output_type": "stream",
     "text": [
      "Number of speeches:  80\n"
     ]
    }
   ],
   "source": [
    "print ('Number of speeches: ',len(hillary_docs))"
   ]
  },
  {
   "cell_type": "code",
   "execution_count": 16,
   "metadata": {
    "scrolled": true
   },
   "outputs": [
    {
     "name": "stdout",
     "output_type": "stream",
     "text": [
      "\n",
      "> Sample of a speech before preprocessing:\n",
      "\n",
      "Mr. President, as we begin our work on the 2002 budget, we find ourselves at a crossroads, facing a very big choice. The choice we make will determine whether we pay down our national debt. It will determine our investments in priorities like education, the environment, health care and Social Securi \n",
      "\n",
      "\n",
      "> Sample of the same speech after preprocessing:\n",
      "\n",
      "mr president as we begin our work on the 2002 budget we find ourselves at a crossroads facing a very big choice the choice we make will determine whether we pay down our national debt it will determine our investments in priorities like education the environment health care and social security and i\n"
     ]
    }
   ],
   "source": [
    "print('\\n> Sample of a speech before preprocessing:\\n')\n",
    "print (hillary_docs[2].text[:300], '\\n\\n')\n",
    "print('> Sample of the same speech after preprocessing:\\n')\n",
    "print (hillary_docs[2].content[:300])"
   ]
  },
  {
   "cell_type": "markdown",
   "metadata": {},
   "source": [
    "---"
   ]
  },
  {
   "cell_type": "markdown",
   "metadata": {},
   "source": [
    "## Phase 2 - Classification Of Speeches"
   ]
  },
  {
   "cell_type": "markdown",
   "metadata": {},
   "source": [
    "*** Importing classification algorithms libraries & dataframe libraries ***"
   ]
  },
  {
   "cell_type": "code",
   "execution_count": 17,
   "metadata": {},
   "outputs": [
    {
     "name": "stderr",
     "output_type": "stream",
     "text": [
      "C:\\ProgramData\\Anaconda3\\lib\\site-packages\\ggplot\\utils.py:81: FutureWarning: pandas.tslib is deprecated and will be removed in a future version.\n",
      "You can access Timestamp as pandas.Timestamp\n",
      "  pd.tslib.Timestamp,\n",
      "C:\\ProgramData\\Anaconda3\\lib\\site-packages\\ggplot\\stats\\smoothers.py:4: FutureWarning: The pandas.lib module is deprecated and will be removed in a future version. These are private functions and can be accessed from pandas._libs.lib instead\n",
      "  from pandas.lib import Timestamp\n",
      "C:\\ProgramData\\Anaconda3\\lib\\site-packages\\statsmodels\\compat\\pandas.py:56: FutureWarning: The pandas.core.datetools module is deprecated and will be removed in a future version. Please use the pandas.tseries module instead.\n",
      "  from pandas.core import datetools\n"
     ]
    }
   ],
   "source": [
    "import numpy as np\n",
    "import pandas as pd\n",
    "import matplotlib.pyplot as plt\n",
    "import seaborn as sn\n",
    "from ggplot import *\n",
    "import math\n",
    "import warnings\n",
    "warnings.filterwarnings('ignore')  # To ignore all warnings that arise"
   ]
  },
  {
   "cell_type": "code",
   "execution_count": 18,
   "metadata": {},
   "outputs": [],
   "source": [
    "from sklearn import model_selection\n",
    "from sklearn.model_selection import train_test_split\n",
    "from sklearn import metrics\n",
    "from sklearn.metrics import classification_report\n",
    "from sklearn.metrics import confusion_matrix\n",
    "from sklearn.metrics import accuracy_score\n",
    "from sklearn.linear_model import LogisticRegression\n",
    "from sklearn.tree import DecisionTreeClassifier\n",
    "from sklearn.neighbors import KNeighborsClassifier\n",
    "from sklearn.discriminant_analysis import LinearDiscriminantAnalysis\n",
    "from sklearn.naive_bayes import GaussianNB\n",
    "from sklearn.svm import SVC"
   ]
  },
  {
   "cell_type": "markdown",
   "metadata": {},
   "source": [
    "*** Creating a new corpus made out of the selected speeches ***"
   ]
  },
  {
   "cell_type": "code",
   "execution_count": 19,
   "metadata": {},
   "outputs": [],
   "source": [
    "corpus_new = textacy.Corpus('en')\n",
    "collection = obama_docs + bernie_docs + hillary_docs"
   ]
  },
  {
   "cell_type": "code",
   "execution_count": 20,
   "metadata": {},
   "outputs": [],
   "source": [
    "index = []\n",
    "for doc in collection:\n",
    "    index.append(doc.corpus_index) # Create an index by the document index in the corpus\n",
    "    corpus_new.add_text(doc.text)"
   ]
  },
  {
   "cell_type": "markdown",
   "metadata": {},
   "source": [
    "*** Creation and preperation of the dataframe ***"
   ]
  },
  {
   "cell_type": "markdown",
   "metadata": {},
   "source": [
    "_The size of the dictionary was based on the entire corpus, using all of the tokens in a deliberate way, with the addition of adding 2 variables:_   \n",
    ">_Number of sentences  - Number of sentences in each speech  \n",
    "Number of tokens - Number of tokens in each speech _"
   ]
  },
  {
   "cell_type": "code",
   "execution_count": 21,
   "metadata": {},
   "outputs": [],
   "source": [
    "dictionary = corpus_new.word_freqs(normalize=u'lemma', weighting=u'binary', as_strings=True) # Get all the words from the corpus"
   ]
  },
  {
   "cell_type": "code",
   "execution_count": 22,
   "metadata": {},
   "outputs": [
    {
     "name": "stdout",
     "output_type": "stream",
     "text": [
      "Length of the dictionary:  7430\n"
     ]
    }
   ],
   "source": [
    "print('Length of the dictionary: ',len(dictionary)) # dictionary size"
   ]
  },
  {
   "cell_type": "code",
   "execution_count": 23,
   "metadata": {},
   "outputs": [],
   "source": [
    "keys = dictionary.keys()\n",
    "columns = list(keys) # Primary columns - corpus words"
   ]
  },
  {
   "cell_type": "code",
   "execution_count": 24,
   "metadata": {},
   "outputs": [],
   "source": [
    "df_ = pd.DataFrame(index=index, columns=columns) # Dataframe creation"
   ]
  },
  {
   "cell_type": "code",
   "execution_count": 25,
   "metadata": {},
   "outputs": [],
   "source": [
    "# Adding 2 more columns to the data\n",
    "df_[\"n_sents\"] = None # Number of sentences in the speech\n",
    "df_[\"n_tokens\"] = None # Number of tokens in the speech"
   ]
  },
  {
   "cell_type": "markdown",
   "metadata": {},
   "source": [
    "*** Filling the data into the dataframe ***"
   ]
  },
  {
   "cell_type": "code",
   "execution_count": 26,
   "metadata": {},
   "outputs": [],
   "source": [
    "# Adding the target variable\n",
    "df_[\"speaker_name\"] = None"
   ]
  },
  {
   "cell_type": "code",
   "execution_count": 27,
   "metadata": {},
   "outputs": [],
   "source": [
    "for doc in collection:\n",
    "    tokens =  doc.to_bag_of_words(normalize=u'lemma', weighting=u'count', as_strings=True) # Counts the number of word occurences & enters in the DF\n",
    "    df_.ix[doc.corpus_index] = tokens\n",
    "    df_.ix[doc.corpus_index][\"n_sents\"] = doc.n_sents # Number of sentences\n",
    "    df_.ix[doc.corpus_index][\"n_tokens\"] = doc.n_tokens # Number of tokens\n",
    "    df_.ix[doc.corpus_index][\"speaker_name\"] = doc.metadata['speaker_name']"
   ]
  },
  {
   "cell_type": "code",
   "execution_count": 28,
   "metadata": {},
   "outputs": [],
   "source": [
    "pd.options.display.float_format = '{:,.0f}'.format # Setting the float format\n",
    "df_ = df_.fillna(0) # Replaces the NaN to Zeros\n",
    "df_ = df_.sample(frac=1) # Shuffles the dataframe"
   ]
  },
  {
   "cell_type": "code",
   "execution_count": 29,
   "metadata": {},
   "outputs": [
    {
     "data": {
      "text/html": [
       "<div>\n",
       "<style>\n",
       "    .dataframe thead tr:only-child th {\n",
       "        text-align: right;\n",
       "    }\n",
       "\n",
       "    .dataframe thead th {\n",
       "        text-align: left;\n",
       "    }\n",
       "\n",
       "    .dataframe tbody tr th {\n",
       "        vertical-align: top;\n",
       "    }\n",
       "</style>\n",
       "<table border=\"1\" class=\"dataframe\">\n",
       "  <thead>\n",
       "    <tr style=\"text-align: right;\">\n",
       "      <th></th>\n",
       "      <th>legalism</th>\n",
       "      <th>freedom</th>\n",
       "      <th>counsel</th>\n",
       "      <th>share</th>\n",
       "      <th>previous</th>\n",
       "      <th>enforce</th>\n",
       "      <th>imagine</th>\n",
       "      <th>moral</th>\n",
       "      <th>indicate</th>\n",
       "      <th>dedicate</th>\n",
       "      <th>...</th>\n",
       "      <th>backbone</th>\n",
       "      <th>bail</th>\n",
       "      <th>occupancy</th>\n",
       "      <th>285,000</th>\n",
       "      <th>disney</th>\n",
       "      <th>commemoration</th>\n",
       "      <th>tourism</th>\n",
       "      <th>n_sents</th>\n",
       "      <th>n_tokens</th>\n",
       "      <th>speaker_name</th>\n",
       "    </tr>\n",
       "  </thead>\n",
       "  <tbody>\n",
       "    <tr>\n",
       "      <th>537</th>\n",
       "      <td>0</td>\n",
       "      <td>0</td>\n",
       "      <td>0</td>\n",
       "      <td>0</td>\n",
       "      <td>0</td>\n",
       "      <td>0</td>\n",
       "      <td>1</td>\n",
       "      <td>0</td>\n",
       "      <td>0</td>\n",
       "      <td>0</td>\n",
       "      <td>...</td>\n",
       "      <td>0</td>\n",
       "      <td>0</td>\n",
       "      <td>0</td>\n",
       "      <td>0</td>\n",
       "      <td>0</td>\n",
       "      <td>0</td>\n",
       "      <td>0</td>\n",
       "      <td>71</td>\n",
       "      <td>1970</td>\n",
       "      <td>Hillary Clinton</td>\n",
       "    </tr>\n",
       "    <tr>\n",
       "      <th>635</th>\n",
       "      <td>0</td>\n",
       "      <td>0</td>\n",
       "      <td>0</td>\n",
       "      <td>0</td>\n",
       "      <td>0</td>\n",
       "      <td>0</td>\n",
       "      <td>0</td>\n",
       "      <td>0</td>\n",
       "      <td>0</td>\n",
       "      <td>0</td>\n",
       "      <td>...</td>\n",
       "      <td>0</td>\n",
       "      <td>0</td>\n",
       "      <td>0</td>\n",
       "      <td>0</td>\n",
       "      <td>0</td>\n",
       "      <td>0</td>\n",
       "      <td>0</td>\n",
       "      <td>1</td>\n",
       "      <td>17</td>\n",
       "      <td>Hillary Clinton</td>\n",
       "    </tr>\n",
       "    <tr>\n",
       "      <th>1306</th>\n",
       "      <td>0</td>\n",
       "      <td>1</td>\n",
       "      <td>0</td>\n",
       "      <td>0</td>\n",
       "      <td>0</td>\n",
       "      <td>0</td>\n",
       "      <td>0</td>\n",
       "      <td>0</td>\n",
       "      <td>0</td>\n",
       "      <td>0</td>\n",
       "      <td>...</td>\n",
       "      <td>0</td>\n",
       "      <td>0</td>\n",
       "      <td>0</td>\n",
       "      <td>0</td>\n",
       "      <td>0</td>\n",
       "      <td>0</td>\n",
       "      <td>0</td>\n",
       "      <td>28</td>\n",
       "      <td>566</td>\n",
       "      <td>Barack Obama</td>\n",
       "    </tr>\n",
       "    <tr>\n",
       "      <th>72</th>\n",
       "      <td>0</td>\n",
       "      <td>0</td>\n",
       "      <td>0</td>\n",
       "      <td>0</td>\n",
       "      <td>0</td>\n",
       "      <td>0</td>\n",
       "      <td>0</td>\n",
       "      <td>0</td>\n",
       "      <td>0</td>\n",
       "      <td>0</td>\n",
       "      <td>...</td>\n",
       "      <td>0</td>\n",
       "      <td>0</td>\n",
       "      <td>0</td>\n",
       "      <td>0</td>\n",
       "      <td>0</td>\n",
       "      <td>0</td>\n",
       "      <td>0</td>\n",
       "      <td>8</td>\n",
       "      <td>189</td>\n",
       "      <td>Bernie Sanders</td>\n",
       "    </tr>\n",
       "    <tr>\n",
       "      <th>1342</th>\n",
       "      <td>0</td>\n",
       "      <td>0</td>\n",
       "      <td>0</td>\n",
       "      <td>0</td>\n",
       "      <td>0</td>\n",
       "      <td>0</td>\n",
       "      <td>0</td>\n",
       "      <td>0</td>\n",
       "      <td>0</td>\n",
       "      <td>0</td>\n",
       "      <td>...</td>\n",
       "      <td>0</td>\n",
       "      <td>0</td>\n",
       "      <td>0</td>\n",
       "      <td>0</td>\n",
       "      <td>0</td>\n",
       "      <td>0</td>\n",
       "      <td>0</td>\n",
       "      <td>15</td>\n",
       "      <td>429</td>\n",
       "      <td>Barack Obama</td>\n",
       "    </tr>\n",
       "  </tbody>\n",
       "</table>\n",
       "<p>5 rows × 7433 columns</p>\n",
       "</div>"
      ],
      "text/plain": [
       "      legalism  freedom  counsel  share  previous  enforce  imagine  moral  \\\n",
       "537          0        0        0      0         0        0        1      0   \n",
       "635          0        0        0      0         0        0        0      0   \n",
       "1306         0        1        0      0         0        0        0      0   \n",
       "72           0        0        0      0         0        0        0      0   \n",
       "1342         0        0        0      0         0        0        0      0   \n",
       "\n",
       "      indicate  dedicate       ...         backbone  bail  occupancy  285,000  \\\n",
       "537          0         0       ...                0     0          0        0   \n",
       "635          0         0       ...                0     0          0        0   \n",
       "1306         0         0       ...                0     0          0        0   \n",
       "72           0         0       ...                0     0          0        0   \n",
       "1342         0         0       ...                0     0          0        0   \n",
       "\n",
       "      disney  commemoration  tourism  n_sents  n_tokens     speaker_name  \n",
       "537        0              0        0       71      1970  Hillary Clinton  \n",
       "635        0              0        0        1        17  Hillary Clinton  \n",
       "1306       0              0        0       28       566     Barack Obama  \n",
       "72         0              0        0        8       189   Bernie Sanders  \n",
       "1342       0              0        0       15       429     Barack Obama  \n",
       "\n",
       "[5 rows x 7433 columns]"
      ]
     },
     "execution_count": 29,
     "metadata": {},
     "output_type": "execute_result"
    }
   ],
   "source": [
    "df_.head()"
   ]
  },
  {
   "cell_type": "markdown",
   "metadata": {},
   "source": [
    "*** Preparing the target variable - Speaker name ***"
   ]
  },
  {
   "cell_type": "code",
   "execution_count": 30,
   "metadata": {
    "scrolled": true
   },
   "outputs": [
    {
     "name": "stdout",
     "output_type": "stream",
     "text": [
      "Type of 'Speaker Name' before:\t object\n",
      "Type of 'Speaker Name' after:\t\t int64\n"
     ]
    }
   ],
   "source": [
    "print (\"Type of 'Speaker Name' before:\\t\", df_.dtypes.speaker_name)\n",
    "df_.speaker_name = pd.factorize(df_.speaker_name)[0] # Transforms the titles to number labels\n",
    "print (\"Type of 'Speaker Name' after:\\t\\t\", df_.dtypes.speaker_name)"
   ]
  },
  {
   "cell_type": "markdown",
   "metadata": {},
   "source": [
    "*** Saving the dataframe to the disc in order to use it later with Google Colab to create the second dataframe out of the generated speeches ***"
   ]
  },
  {
   "cell_type": "code",
   "execution_count": 33,
   "metadata": {},
   "outputs": [],
   "source": [
    "# import pickle\n",
    "# file_pickle = open('dataframe/corpus_df.pickle', 'wb') \n",
    "# pickle.dump(df_, file_pickle)\n",
    "# file_pickle.close()"
   ]
  },
  {
   "cell_type": "markdown",
   "metadata": {},
   "source": [
    "*** Preparing the data to be used as classification data for the model ***"
   ]
  },
  {
   "cell_type": "code",
   "execution_count": 34,
   "metadata": {},
   "outputs": [],
   "source": [
    "# Split out validation dataset\n",
    "array = df_.values\n",
    "X = array[:,:-1] # Data\n",
    "Y = array[:,-1] # Target variable\n",
    "validation_size = 0.20 # 20% validation set"
   ]
  },
  {
   "cell_type": "code",
   "execution_count": 35,
   "metadata": {},
   "outputs": [],
   "source": [
    "seed = 212 # Sets the seed of the program"
   ]
  },
  {
   "cell_type": "markdown",
   "metadata": {},
   "source": [
    "*** Splitting the data to Train & Test ***"
   ]
  },
  {
   "cell_type": "code",
   "execution_count": 36,
   "metadata": {},
   "outputs": [],
   "source": [
    "X_train, X_validation, Y_train, Y_validation = train_test_split(X, Y, test_size=validation_size, random_state=seed)"
   ]
  },
  {
   "cell_type": "markdown",
   "metadata": {},
   "source": [
    "*** Comparison between the models ***"
   ]
  },
  {
   "cell_type": "code",
   "execution_count": 37,
   "metadata": {},
   "outputs": [],
   "source": [
    "# Evaluation metric\n",
    "scoring = 'accuracy'"
   ]
  },
  {
   "cell_type": "code",
   "execution_count": 38,
   "metadata": {},
   "outputs": [
    {
     "name": "stdout",
     "output_type": "stream",
     "text": [
      "LR\t: 0.816316 (0.116510)\n",
      "LDA\t: 0.576842 (0.114785)\n",
      "KNN\t: 0.431316 (0.084657)\n",
      "CART\t: 0.686842 (0.101376)\n",
      "NB\t: 0.734737 (0.070158)\n",
      "SVM\t: 0.500000 (0.070613)\n"
     ]
    }
   ],
   "source": [
    "# Spot Check Algorithms\n",
    "models = []\n",
    "models.append(('LR', LogisticRegression()))\n",
    "models.append(('LDA', LinearDiscriminantAnalysis()))\n",
    "models.append(('KNN', KNeighborsClassifier()))\n",
    "models.append(('CART', DecisionTreeClassifier()))\n",
    "models.append(('NB', GaussianNB()))\n",
    "models.append(('SVM', SVC()))\n",
    "\n",
    "# Evaluate each model in turn\n",
    "results = []\n",
    "names = []\n",
    "for name, model in models:\n",
    "    kfold = model_selection.KFold(n_splits=10, random_state=seed)\n",
    "    cv_results = model_selection.cross_val_score(model, X_train, Y_train, cv=kfold, scoring=scoring)\n",
    "    results.append(cv_results)\n",
    "    names.append(name)\n",
    "    msg = \"%s\\t: %f (%f)\" % (name, cv_results.mean(), cv_results.std())\n",
    "    print(msg)"
   ]
  },
  {
   "cell_type": "code",
   "execution_count": 39,
   "metadata": {},
   "outputs": [
    {
     "data": {
      "image/png": "[encoded data removed]",
      "text/plain": [
       "<matplotlib.figure.Figure at 0x23b2cd4aef0>"
      ]
     },
     "metadata": {},
     "output_type": "display_data"
    }
   ],
   "source": [
    "# Compare Algorithms\n",
    "fig = plt.figure()\n",
    "fig.suptitle('Algorithm Comparison')\n",
    "ax = fig.add_subplot(111)\n",
    "plt.boxplot(results)\n",
    "ax.set_xticklabels(names)\n",
    "plt.show()"
   ]
  },
  {
   "cell_type": "markdown",
   "metadata": {},
   "source": [
    "*** The chosen model is: Logistic Regression ***"
   ]
  },
  {
   "cell_type": "markdown",
   "metadata": {},
   "source": [
    "*** Parameter tuning for the selected model ***"
   ]
  },
  {
   "cell_type": "code",
   "execution_count": 40,
   "metadata": {},
   "outputs": [
    {
     "name": "stdout",
     "output_type": "stream",
     "text": [
      "\n",
      "C=0.01\n",
      "Training Accuracy:\t0.484375\n",
      "Test Accuracy:\t\t0.312500\n",
      "\n",
      "C=0.10\n",
      "Training Accuracy:\t0.869792\n",
      "Test Accuracy:\t\t0.770833\n",
      "\n",
      "C=1.00\n",
      "Training Accuracy:\t0.989583\n",
      "Test Accuracy:\t\t0.916667\n",
      "\n",
      "C=10.00\n",
      "Training Accuracy:\t0.994792\n",
      "Test Accuracy:\t\t0.937500\n",
      "\n",
      "C=100.00\n",
      "Training Accuracy:\t0.994792\n",
      "Test Accuracy:\t\t0.937500\n"
     ]
    },
    {
     "data": {
      "image/png": "[encoded data removed]",
      "text/plain": [
       "<matplotlib.figure.Figure at 0x23b6e1c4cf8>"
      ]
     },
     "metadata": {},
     "output_type": "display_data"
    }
   ],
   "source": [
    "%matplotlib inline\n",
    "\n",
    "max_val, best_c = -1, -1\n",
    "n=np.arange(-2,3)\n",
    "r=pow(float(10),n)\n",
    "plt.figure(figsize=(15,10))\n",
    "\n",
    "for C in r:\n",
    "    lr_l1=LogisticRegression(C=C,penalty=\"l1\", random_state=seed).fit(X_train,Y_train)\n",
    "    print('\\n'\"C=%.2f\"%(C))\n",
    "    print(\"Training Accuracy:\\t%f\"%(lr_l1.score(X_train,Y_train)))\n",
    "    test_score = lr_l1.score(X_validation,Y_validation)\n",
    "    print(\"Test Accuracy:\\t\\t%f\"%(test_score))\n",
    "    if (test_score>max_val):\n",
    "        max_val = test_score\n",
    "        best_c = C\n",
    "    plt.plot(lr_l1.coef_.T,'o',label=\"C=%.2f\"%C)\n",
    "plt.ylim(-5,5)\n",
    "plt.legend(loc='best')\n",
    "plt.show()"
   ]
  },
  {
   "cell_type": "markdown",
   "metadata": {},
   "source": [
    "*** Creation of the tuned model & Accuracy of prediction on the test data score ***"
   ]
  },
  {
   "cell_type": "code",
   "execution_count": 41,
   "metadata": {},
   "outputs": [
    {
     "name": "stdout",
     "output_type": "stream",
     "text": [
      "Accuracy score:  0.9375\n"
     ]
    }
   ],
   "source": [
    "classification_model = LogisticRegression(C=best_c, penalty=\"l1\", random_state=seed)\n",
    "classification_model.fit(X_train, Y_train)\n",
    "predictions = classification_model.predict(X_validation)\n",
    "print(\"Accuracy score: \", accuracy_score(Y_validation, predictions))"
   ]
  },
  {
   "cell_type": "markdown",
   "metadata": {},
   "source": [
    "*** Confusion Matrix ***"
   ]
  },
  {
   "cell_type": "code",
   "execution_count": 42,
   "metadata": {},
   "outputs": [
    {
     "data": {
      "image/png": "[encoded data removed]",
      "text/plain": [
       "<matplotlib.figure.Figure at 0x23b6e221d30>"
      ]
     },
     "metadata": {},
     "output_type": "display_data"
    }
   ],
   "source": [
    "sn.heatmap(confusion_matrix(Y_validation, predictions), annot=True)\n",
    "plt.show()"
   ]
  },
  {
   "cell_type": "markdown",
   "metadata": {},
   "source": [
    "*** Classification Report ***"
   ]
  },
  {
   "cell_type": "code",
   "execution_count": 43,
   "metadata": {},
   "outputs": [
    {
     "name": "stdout",
     "output_type": "stream",
     "text": [
      "             precision    recall  f1-score   support\n",
      "\n",
      "        0.0       0.93      0.87      0.90        15\n",
      "        1.0       0.92      0.92      0.92        13\n",
      "        2.0       0.95      1.00      0.98        20\n",
      "\n",
      "avg / total       0.94      0.94      0.94        48\n",
      "\n"
     ]
    }
   ],
   "source": [
    "print(classification_report(Y_validation, predictions))"
   ]
  },
  {
   "cell_type": "markdown",
   "metadata": {},
   "source": [
    "---"
   ]
  },
  {
   "cell_type": "markdown",
   "metadata": {},
   "source": [
    "## Phase 3 - Training the RNN LSTM model"
   ]
  },
  {
   "cell_type": "markdown",
   "metadata": {},
   "source": [
    "*** Importing Keras Machine Learning libraries ***"
   ]
  },
  {
   "cell_type": "code",
   "execution_count": 44,
   "metadata": {},
   "outputs": [
    {
     "name": "stderr",
     "output_type": "stream",
     "text": [
      "Using Theano backend.\n",
      "WARNING (theano.configdefaults): g++ not available, if using conda: `conda install m2w64-toolchain`\n",
      "WARNING (theano.configdefaults): g++ not detected ! Theano will be unable to execute optimized C-implementations (for both CPU and GPU) and will default to Python implementations. Performance will be severely degraded. To remove this warning, set Theano flags cxx to an empty string.\n"
     ]
    }
   ],
   "source": [
    "from keras.models import Sequential\n",
    "from keras.layers import Dense, Activation\n",
    "from keras.layers import LSTM\n",
    "from keras.optimizers import RMSprop\n",
    "from keras.utils.data_utils import get_file\n",
    "from keras.models import load_model"
   ]
  },
  {
   "cell_type": "code",
   "execution_count": 45,
   "metadata": {},
   "outputs": [],
   "source": [
    "import random\n",
    "import sys\n",
    "import re"
   ]
  },
  {
   "cell_type": "markdown",
   "metadata": {},
   "source": [
    "*** Combining the speeches of each speaker ***"
   ]
  },
  {
   "cell_type": "code",
   "execution_count": 46,
   "metadata": {},
   "outputs": [],
   "source": [
    "data_obama = \"\"\n",
    "for doc in obama_docs:\n",
    "    data_obama+=\"\\n newspeech\\n\"\n",
    "    data_obama+=doc.content"
   ]
  },
  {
   "cell_type": "code",
   "execution_count": 47,
   "metadata": {},
   "outputs": [],
   "source": [
    "data_bernie = \"\"\n",
    "for doc in bernie_docs:\n",
    "    data_bernie+=\"\\n newspeech\\n\"\n",
    "    data_bernie+=doc.content"
   ]
  },
  {
   "cell_type": "code",
   "execution_count": 48,
   "metadata": {},
   "outputs": [],
   "source": [
    "data_hillary = \"\"\n",
    "for doc in hillary_docs:\n",
    "    data_hillary+=\"\\n newspeech\\n\"\n",
    "    data_hillary+=doc.content"
   ]
  },
  {
   "cell_type": "code",
   "execution_count": 49,
   "metadata": {},
   "outputs": [
    {
     "name": "stdout",
     "output_type": "stream",
     "text": [
      "Length of Obama speeches: \t337868\n",
      "Length of Bernie speeches: \t203372\n",
      "Length of Hillary speeches: \t324108\n"
     ]
    }
   ],
   "source": [
    "print (\"Length of Obama speeches: \\t{}\".format(len(data_obama)))\n",
    "print (\"Length of Bernie speeches: \\t{}\".format(len(data_bernie)))\n",
    "print (\"Length of Hillary speeches: \\t{}\".format(len(data_hillary)))"
   ]
  },
  {
   "cell_type": "markdown",
   "metadata": {},
   "source": [
    "*** Sampling the combined speeches data ***"
   ]
  },
  {
   "cell_type": "code",
   "execution_count": 50,
   "metadata": {},
   "outputs": [
    {
     "data": {
      "text/plain": [
       "'\\n newspeech\\nmr president a few days ago the world watched as the seeds of democracy began to take root in iraq as a result of the sheer courage of the iraqi people and the untold sacrifices of american soldiers the success of the elections showed just how far people will go to achieve selfgovernment'"
      ]
     },
     "execution_count": 50,
     "metadata": {},
     "output_type": "execute_result"
    }
   ],
   "source": [
    "data_obama[:300]"
   ]
  },
  {
   "cell_type": "code",
   "execution_count": 51,
   "metadata": {},
   "outputs": [
    {
     "data": {
      "text/plain": [
       "'\\n newspeech\\nmr speaker 480000 federal employees are working without pay a form of involuntary servitude 280000 federal employees are not working and they will be paid virtually all of these workers have mortgages to pay children to feed and financial obligations to meet\\nmr speaker what is happening '"
      ]
     },
     "execution_count": 51,
     "metadata": {},
     "output_type": "execute_result"
    }
   ],
   "source": [
    "data_bernie[:300]"
   ]
  },
  {
   "cell_type": "code",
   "execution_count": 52,
   "metadata": {},
   "outputs": [
    {
     "data": {
      "text/plain": [
       "'\\n newspeech\\ni yield myself 15 minutes of the time controlled by the democrats\\n newspeech\\nmr president yesterday i was in rome and watertown ny to speak with members of the rotary clubs and chambers of commerce about the upstate new york economy and how we can work together to promote investment and '"
      ]
     },
     "execution_count": 52,
     "metadata": {},
     "output_type": "execute_result"
    }
   ],
   "source": [
    "data_hillary[:300]"
   ]
  },
  {
   "cell_type": "markdown",
   "metadata": {},
   "source": [
    "*** Saving the text of the speeches to the disc - will be used on the Google Colab notebook as raw text data***"
   ]
  },
  {
   "cell_type": "code",
   "execution_count": 53,
   "metadata": {},
   "outputs": [],
   "source": [
    "f_obama = open('text_speeches\\\\obama_combined.txt','w', encoding='utf-8')\n",
    "f_obama.write(data_obama)\n",
    "f_obama.close()"
   ]
  },
  {
   "cell_type": "code",
   "execution_count": 54,
   "metadata": {},
   "outputs": [],
   "source": [
    "f_bernie = open('text_speeches\\\\bernie_combined.txt','w', encoding='utf-8')\n",
    "f_bernie.write(data_bernie)\n",
    "f_bernie.close()"
   ]
  },
  {
   "cell_type": "code",
   "execution_count": 55,
   "metadata": {},
   "outputs": [],
   "source": [
    "f_hillary = open('text_speeches\\\\hillary_combined.txt','w', encoding='utf-8')\n",
    "f_hillary.write(data_hillary)\n",
    "f_hillary.close()"
   ]
  },
  {
   "cell_type": "markdown",
   "metadata": {},
   "source": [
    "---"
   ]
  },
  {
   "cell_type": "markdown",
   "metadata": {},
   "source": [
    "### Creating the network - The following _commented_ code was created using Google Colaboratory\n",
    "* **** The training of the models was done with a Tesla K80 GPU, using Keras library - [Read more](https://medium.com/deep-learning-turkey/google-colab-free-gpu-tutorial-e113627b9f5d) ****  \n",
    "* ****Each object that was created in the colab notebooks was saved on the Google Drive & then transfered to the localhost ****"
   ]
  },
  {
   "cell_type": "markdown",
   "metadata": {},
   "source": [
    "** Installing Google Drive wrapper **"
   ]
  },
  {
   "cell_type": "code",
   "execution_count": null,
   "metadata": {},
   "outputs": [],
   "source": [
    "# # Install a Drive FUSE wrapper.\n",
    "# !apt-get install -y -qq software-properties-common python-software-properties module-init-tools\n",
    "# !add-apt-repository -y ppa:alessandro-strada/ppa 2>&1 > /dev/null\n",
    "# !apt-get update -qq 2>&1 > /dev/null\n",
    "# !apt-get -y install -qq google-drive-ocamlfuse fuse"
   ]
  },
  {
   "cell_type": "markdown",
   "metadata": {},
   "source": [
    "** Connecting to Google Drive **"
   ]
  },
  {
   "cell_type": "code",
   "execution_count": null,
   "metadata": {},
   "outputs": [],
   "source": [
    "# # Generate auth tokens for Colab\n",
    "# from google.colab import auth\n",
    "# auth.authenticate_user()"
   ]
  },
  {
   "cell_type": "code",
   "execution_count": null,
   "metadata": {},
   "outputs": [],
   "source": [
    "# # Generate credentials for the Drive FUSE library\n",
    "# from oauth2client.client import GoogleCredentials\n",
    "# creds = GoogleCredentials.get_application_default()\n",
    "# import getpass\n",
    "# !google-drive-ocamlfuse -headless -id={creds.client_id} -secret={creds.client_secret} < /dev/null 2>&1 | grep URL\n",
    "# vcode = getpass.getpass()\n",
    "# !echo {vcode} | google-drive-ocamlfuse -headless -id={creds.client_id} -secret={creds.client_secret}"
   ]
  },
  {
   "cell_type": "code",
   "execution_count": null,
   "metadata": {},
   "outputs": [],
   "source": [
    "# # Create a directory and mount Google Drive using that directory\n",
    "# !mkdir -p drive\n",
    "# !google-drive-ocamlfuse drive"
   ]
  },
  {
   "cell_type": "markdown",
   "metadata": {},
   "source": [
    "#### Running the model on each of the speakers"
   ]
  },
  {
   "cell_type": "code",
   "execution_count": null,
   "metadata": {},
   "outputs": [],
   "source": [
    "# text = data_obama\n",
    "# text = data_hillary\n",
    "# text = data_bernie"
   ]
  },
  {
   "cell_type": "code",
   "execution_count": null,
   "metadata": {},
   "outputs": [],
   "source": [
    "# all_words = re.findall(r\"[\\w']+|[.,!?;]\", text)\n",
    "# words = sorted(list(set(all_words)))\n",
    "\n",
    "# print('Corpus length:\\t\\t\\t', len(all_words))\n",
    "# print('Number of unique words:\\t', len(words))\n",
    "\n",
    "# word_indices = dict((w, i) for i, w in enumerate(words))\n",
    "# indices_word = dict((i, w) for i, w in enumerate(words))\n",
    "\n",
    "# # cut the text in semi-redundant sequences of maxlen words\n",
    "# maxlen = 20\n",
    "# step = 1\n",
    "# sentences = []\n",
    "# next_words = []\n",
    "# for i in range(0, len(all_words) - maxlen, step):\n",
    "#     sentences.append(all_words[i: i + maxlen])\n",
    "#     next_words.append(all_words[i + maxlen])\n",
    "# print('Number of sequences:\\t\\t', len(sentences))"
   ]
  },
  {
   "cell_type": "code",
   "execution_count": null,
   "metadata": {},
   "outputs": [],
   "source": [
    "# print('Starting Vectorization')\n",
    "# X = np.zeros((len(sentences), maxlen, len(words)), dtype=np.bool)\n",
    "# y = np.zeros((len(sentences), len(words)), dtype=np.bool)\n",
    "# for i, sentence in enumerate(sentences):\n",
    "#     for t, word in enumerate(sentence):\n",
    "#         X[i, t, word_indices[word]] = 1\n",
    "#     y[i, word_indices[next_words[i]]] = 1\n",
    "# print('Vectorization Completed')"
   ]
  },
  {
   "cell_type": "code",
   "execution_count": null,
   "metadata": {},
   "outputs": [],
   "source": [
    "# # Build the LSTM model\n",
    "# print('Building the model')\n",
    "\n",
    "# model = Sequential()\n",
    "# model.add(LSTM(128, input_shape=(maxlen, len(words))))\n",
    "# model.add(Dense(len(words)))\n",
    "# model.add(Activation('softmax'))\n",
    "\n",
    "# optimizer = RMSprop(lr=0.01)\n",
    "# model.compile(loss='categorical_crossentropy', optimizer=optimizer)\n",
    "\n",
    "# print('Building completed')"
   ]
  },
  {
   "cell_type": "code",
   "execution_count": null,
   "metadata": {},
   "outputs": [],
   "source": [
    "# # Run the model for 200 epochs & save the history - loss & parameters\n",
    "# history = model.fit(X, y, batch_size=128, epochs=200)"
   ]
  },
  {
   "cell_type": "markdown",
   "metadata": {},
   "source": [
    "*** Saving the model of each speaker on Google Drive ***"
   ]
  },
  {
   "cell_type": "code",
   "execution_count": null,
   "metadata": {},
   "outputs": [],
   "source": [
    "# # Save the model on the Google Drive\n",
    "# model.save('drive/Colab Notebooks/new_200epochs_obama.h5')\n",
    "# model.save('drive/Colab Notebooks/new_200epochs_bernie.h5')\n",
    "# model.save('drive/Colab Notebooks/new_200epochs_hilary.h5')"
   ]
  },
  {
   "cell_type": "markdown",
   "metadata": {},
   "source": [
    "*** Saving the history of each model on Google Drive ***"
   ]
  },
  {
   "cell_type": "code",
   "execution_count": null,
   "metadata": {},
   "outputs": [],
   "source": [
    "# # Delete the sequential part of the history in order to pickle it\n",
    "# del history.model"
   ]
  },
  {
   "cell_type": "code",
   "execution_count": null,
   "metadata": {},
   "outputs": [],
   "source": [
    "# # Pickle the model\n",
    "# import pickle \n",
    "# file_pickle = open('drive/Colab Notebooks/history_obama.pickle', 'wb') \n",
    "# file_pickle = open('drive/Colab Notebooks/history_bernie.pickle', 'wb') \n",
    "# file_pickle = open('drive/Colab Notebooks/history_hilary.pickle', 'wb') \n",
    "# pickle.dump(history, file_pickle)\n",
    "# file_pickle.close()"
   ]
  },
  {
   "cell_type": "markdown",
   "metadata": {},
   "source": [
    "---"
   ]
  },
  {
   "cell_type": "markdown",
   "metadata": {},
   "source": [
    "### Loading the network - On the localhost"
   ]
  },
  {
   "cell_type": "markdown",
   "metadata": {},
   "source": [
    "*** Loading the models ***"
   ]
  },
  {
   "cell_type": "code",
   "execution_count": 83,
   "metadata": {},
   "outputs": [],
   "source": [
    "loaded_model_obama = load_model('models/obama_model_200.h5')\n",
    "loaded_model_bernie = load_model('models/bernie_model_200.h5')\n",
    "loaded_model_hillary = load_model('models/hillary_model_200.h5')"
   ]
  },
  {
   "cell_type": "markdown",
   "metadata": {},
   "source": [
    "*** Loading the history of the models ***"
   ]
  },
  {
   "cell_type": "code",
   "execution_count": 84,
   "metadata": {},
   "outputs": [],
   "source": [
    "file_obama = open('history/history_obama.pickle', 'rb') \n",
    "hist_obama = pickle.load(file_obama)\n",
    "file_obama.close()"
   ]
  },
  {
   "cell_type": "code",
   "execution_count": 58,
   "metadata": {},
   "outputs": [],
   "source": [
    "file_hillary = open('history/history_hillary.pickle', 'rb') \n",
    "hist_hillary = pickle.load(file_hillary)\n",
    "file_hillary.close()"
   ]
  },
  {
   "cell_type": "code",
   "execution_count": 59,
   "metadata": {},
   "outputs": [],
   "source": [
    "file_bernie = open('history/history_bernie.pickle', 'rb') \n",
    "hist_bernie = pickle.load(file_bernie)\n",
    "file_bernie.close()"
   ]
  },
  {
   "cell_type": "markdown",
   "metadata": {},
   "source": [
    "---"
   ]
  },
  {
   "cell_type": "markdown",
   "metadata": {},
   "source": [
    "## *** Expansion on the models ***"
   ]
  },
  {
   "cell_type": "markdown",
   "metadata": {},
   "source": [
    "#### Obama model"
   ]
  },
  {
   "cell_type": "code",
   "execution_count": 85,
   "metadata": {},
   "outputs": [
    {
     "name": "stdout",
     "output_type": "stream",
     "text": [
      "_________________________________________________________________\n",
      "Layer (type)                 Output Shape              Param #   \n",
      "=================================================================\n",
      "lstm_1 (LSTM)                (None, 128)               3468288   \n",
      "_________________________________________________________________\n",
      "dense_1 (Dense)              (None, 6645)              857205    \n",
      "_________________________________________________________________\n",
      "activation_1 (Activation)    (None, 6645)              0         \n",
      "=================================================================\n",
      "Total params: 4,325,493\n",
      "Trainable params: 4,325,493\n",
      "Non-trainable params: 0\n",
      "_________________________________________________________________\n",
      "None\n"
     ]
    }
   ],
   "source": [
    "print (loaded_model_obama.summary())"
   ]
  },
  {
   "cell_type": "code",
   "execution_count": 86,
   "metadata": {},
   "outputs": [
    {
     "data": {
      "text/plain": [
       "{'batch_size': 128,\n",
       " 'do_validation': False,\n",
       " 'epochs': 200,\n",
       " 'metrics': ['loss'],\n",
       " 'samples': 57531,\n",
       " 'steps': None,\n",
       " 'verbose': 1}"
      ]
     },
     "execution_count": 86,
     "metadata": {},
     "output_type": "execute_result"
    }
   ],
   "source": [
    "hist_obama.params"
   ]
  },
  {
   "cell_type": "code",
   "execution_count": 87,
   "metadata": {
    "scrolled": true
   },
   "outputs": [
    {
     "data": {
      "image/png": "[encoded data removed]",
      "text/plain": [
       "<matplotlib.figure.Figure at 0x23bb67d3d68>"
      ]
     },
     "metadata": {},
     "output_type": "display_data"
    }
   ],
   "source": [
    "import matplotlib.pyplot as plt\n",
    "plt.figure(figsize=(15,5))\n",
    "plt.plot(hist_obama.history['loss'])\n",
    "plt.title('Obama - Model Loss')\n",
    "plt.ylabel('loss')\n",
    "plt.xlabel('epoch')\n",
    "plt.show()"
   ]
  },
  {
   "cell_type": "markdown",
   "metadata": {},
   "source": [
    "---"
   ]
  },
  {
   "cell_type": "markdown",
   "metadata": {},
   "source": [
    "#### Bernie model"
   ]
  },
  {
   "cell_type": "code",
   "execution_count": 63,
   "metadata": {},
   "outputs": [
    {
     "name": "stdout",
     "output_type": "stream",
     "text": [
      "_________________________________________________________________\n",
      "Layer (type)                 Output Shape              Param #   \n",
      "=================================================================\n",
      "lstm_1 (LSTM)                (None, 128)               2055680   \n",
      "_________________________________________________________________\n",
      "dense_1 (Dense)              (None, 3886)              501294    \n",
      "_________________________________________________________________\n",
      "activation_1 (Activation)    (None, 3886)              0         \n",
      "=================================================================\n",
      "Total params: 2,556,974\n",
      "Trainable params: 2,556,974\n",
      "Non-trainable params: 0\n",
      "_________________________________________________________________\n",
      "None\n"
     ]
    }
   ],
   "source": [
    "print (loaded_model_bernie.summary())"
   ]
  },
  {
   "cell_type": "code",
   "execution_count": 64,
   "metadata": {},
   "outputs": [
    {
     "data": {
      "text/plain": [
       "{'batch_size': 128,\n",
       " 'do_validation': False,\n",
       " 'epochs': 200,\n",
       " 'metrics': ['loss'],\n",
       " 'samples': 36594,\n",
       " 'steps': None,\n",
       " 'verbose': 1}"
      ]
     },
     "execution_count": 64,
     "metadata": {},
     "output_type": "execute_result"
    }
   ],
   "source": [
    "hist_bernie.params"
   ]
  },
  {
   "cell_type": "code",
   "execution_count": 65,
   "metadata": {
    "scrolled": true
   },
   "outputs": [
    {
     "data": {
      "image/png": "[encoded data removed]",
      "text/plain": [
       "<matplotlib.figure.Figure at 0x23bae7fcb70>"
      ]
     },
     "metadata": {},
     "output_type": "display_data"
    }
   ],
   "source": [
    "import matplotlib.pyplot as plt\n",
    "plt.figure(figsize=(15,5))\n",
    "plt.plot(hist_bernie.history['loss'])\n",
    "plt.title('Bernie - Model Loss')\n",
    "plt.ylabel('loss')\n",
    "plt.xlabel('epoch')\n",
    "plt.show()"
   ]
  },
  {
   "cell_type": "markdown",
   "metadata": {},
   "source": [
    "---"
   ]
  },
  {
   "cell_type": "markdown",
   "metadata": {},
   "source": [
    "** Hillary model **"
   ]
  },
  {
   "cell_type": "code",
   "execution_count": 66,
   "metadata": {},
   "outputs": [
    {
     "name": "stdout",
     "output_type": "stream",
     "text": [
      "_________________________________________________________________\n",
      "Layer (type)                 Output Shape              Param #   \n",
      "=================================================================\n",
      "lstm_1 (LSTM)                (None, 128)               2902016   \n",
      "_________________________________________________________________\n",
      "dense_1 (Dense)              (None, 5539)              714531    \n",
      "_________________________________________________________________\n",
      "activation_1 (Activation)    (None, 5539)              0         \n",
      "=================================================================\n",
      "Total params: 3,616,547\n",
      "Trainable params: 3,616,547\n",
      "Non-trainable params: 0\n",
      "_________________________________________________________________\n",
      "None\n"
     ]
    }
   ],
   "source": [
    "print (loaded_model_hillary.summary())"
   ]
  },
  {
   "cell_type": "code",
   "execution_count": 67,
   "metadata": {},
   "outputs": [
    {
     "data": {
      "text/plain": [
       "{'batch_size': 128,\n",
       " 'do_validation': False,\n",
       " 'epochs': 200,\n",
       " 'metrics': ['loss'],\n",
       " 'samples': 57574,\n",
       " 'steps': None,\n",
       " 'verbose': 1}"
      ]
     },
     "execution_count": 67,
     "metadata": {},
     "output_type": "execute_result"
    }
   ],
   "source": [
    "hist_hillary.params"
   ]
  },
  {
   "cell_type": "code",
   "execution_count": 68,
   "metadata": {
    "scrolled": true
   },
   "outputs": [
    {
     "data": {
      "image/png": "[encoded data removed]",
      "text/plain": [
       "<matplotlib.figure.Figure at 0x23ba8394828>"
      ]
     },
     "metadata": {},
     "output_type": "display_data"
    }
   ],
   "source": [
    "import matplotlib.pyplot as plt\n",
    "plt.figure(figsize=(15,5))\n",
    "plt.plot(hist_hillary.history['loss'])\n",
    "plt.title('Hillary - Model Loss')\n",
    "plt.ylabel('loss')\n",
    "plt.xlabel('epoch')\n",
    "plt.show()"
   ]
  },
  {
   "cell_type": "markdown",
   "metadata": {},
   "source": [
    "---"
   ]
  },
  {
   "cell_type": "markdown",
   "metadata": {},
   "source": [
    "## Phase 3.5 - Speech Generation on the Google Colab notebook"
   ]
  },
  {
   "cell_type": "markdown",
   "metadata": {},
   "source": [
    "*** Selecting each speaker model & data text ***"
   ]
  },
  {
   "cell_type": "markdown",
   "metadata": {},
   "source": [
    "*** Iterable Phase - Each iteration a different speaker was selected - Model & Textual data ***"
   ]
  },
  {
   "cell_type": "code",
   "execution_count": 141,
   "metadata": {},
   "outputs": [],
   "source": [
    "# loaded_model = loaded_model_obama\n",
    "# loaded_model = loaded_model_bernie\n",
    "# loaded_model = loaded_model_hillary"
   ]
  },
  {
   "cell_type": "code",
   "execution_count": 102,
   "metadata": {},
   "outputs": [],
   "source": [
    "# text = data_obama\n",
    "# text = data_bernie\n",
    "# text = data_hillary"
   ]
  },
  {
   "cell_type": "markdown",
   "metadata": {},
   "source": [
    "*** Preparation of speech generation to each speaker ***"
   ]
  },
  {
   "cell_type": "code",
   "execution_count": 105,
   "metadata": {},
   "outputs": [
    {
     "name": "stdout",
     "output_type": "stream",
     "text": [
      "Corpus length:\t\t\t 57551\n",
      "Number of unique words:\t 6645\n",
      "Number of sequences:\t\t 57531\n"
     ]
    }
   ],
   "source": [
    "# all_words = re.findall(r\"[\\w']+|[.,!?;]\", text)\n",
    "# words = sorted(list(set(all_words)))\n",
    "\n",
    "# print('Corpus length:\\t\\t\\t', len(all_words))\n",
    "# print('Number of unique words:\\t', len(words))\n",
    "\n",
    "# word_indices = dict((w, i) for i, w in enumerate(words))\n",
    "# indices_word = dict((i, w) for i, w in enumerate(words))\n",
    "\n",
    "# # Cut the text in semi redundant sequences of 'maxlen' variable words\n",
    "# maxlen = 20\n",
    "# step = 1\n",
    "# sentences = []\n",
    "# next_words = []\n",
    "# for i in range(0, len(all_words) - maxlen, step):\n",
    "#     sentences.append(all_words[i: i + maxlen])\n",
    "#     next_words.append(all_words[i + maxlen])\n",
    "# print('Number of sequences:\\t\\t', len(sentences))"
   ]
  },
  {
   "cell_type": "code",
   "execution_count": 106,
   "metadata": {},
   "outputs": [],
   "source": [
    "# # Function to sample an index from the probability array\n",
    "# def sample(preds, temperature=1.0):\n",
    "#     preds = np.asarray(preds).astype('float64')\n",
    "#     preds = np.log(preds) / temperature\n",
    "#     exp_preds = np.exp(preds)\n",
    "#     preds = exp_preds / np.sum(exp_preds)\n",
    "#     probas = np.random.multinomial(1, preds, 1)\n",
    "#     return np.argmax(probas)"
   ]
  },
  {
   "cell_type": "markdown",
   "metadata": {},
   "source": [
    "*** Set the default parameter - Number of speecehs per speaker ***"
   ]
  },
  {
   "cell_type": "code",
   "execution_count": 136,
   "metadata": {},
   "outputs": [],
   "source": [
    "# generated_speeches = int(num_of_speeches * 0.3)"
   ]
  },
  {
   "cell_type": "code",
   "execution_count": 138,
   "metadata": {},
   "outputs": [
    {
     "name": "stdout",
     "output_type": "stream",
     "text": [
      "\n",
      "Generating 24 speeches for each speaker.\n",
      "\n",
      "Average length of speeches per speaker\n",
      "Obama\t - \t830 words.\n",
      "Bernie\t - \t532 words.\n",
      "Hillary\t - \t814 words.\n"
     ]
    }
   ],
   "source": [
    "# print ('\\nGenerating {} speeches for each speaker.\\n'.format(generated_speeches))\n",
    "# print ('Average length of speeches per speaker')\n",
    "# print ('Obama\\t - \\t{} words.'.format(avg_tokens_obama))\n",
    "# print ('Bernie\\t - \\t{} words.'.format(avg_tokens_bernie))\n",
    "# print ('Hillary\\t - \\t{} words.'.format(avg_tokens_hillary))"
   ]
  },
  {
   "cell_type": "markdown",
   "metadata": {},
   "source": [
    "*** Set the default parameter - Average number of words per speaker ***"
   ]
  },
  {
   "cell_type": "code",
   "execution_count": null,
   "metadata": {},
   "outputs": [],
   "source": [
    "# words_per_speech = avg_tokens_obama\n",
    "# words_per_speech = avg_tokens_bernie\n",
    "# words_per_speech = avg_tokens_hillary"
   ]
  },
  {
   "cell_type": "code",
   "execution_count": null,
   "metadata": {},
   "outputs": [],
   "source": [
    "# speaker_name = 'Barack Obama'\n",
    "# speaker_name = 'Bernie Sanders'\n",
    "# speaker_name = 'Hillary Clinton'"
   ]
  },
  {
   "cell_type": "code",
   "execution_count": null,
   "metadata": {},
   "outputs": [],
   "source": [
    "# generated_corpus = textacy.Corpus('en')"
   ]
  },
  {
   "cell_type": "code",
   "execution_count": 283,
   "metadata": {},
   "outputs": [],
   "source": [
    "# diversity = .7\n",
    "# all_speeches = \"\"\n",
    "\n",
    "# # Number of speeches to produce\n",
    "# for j in range(generated_speeches):\n",
    "#     full_speech = ''\n",
    "#     start_index = random.randint(0, len(all_words) - maxlen - 1)\n",
    "#     sentence = all_words[start_index: start_index + maxlen]\n",
    "\n",
    "#     sentence_str = ' '.join(sentence)\n",
    "#     print('\\n> ({}/{}) Generating new speech'.format(j+1,generated_speeches))\n",
    "\n",
    "#     # Average Length of each speech\n",
    "#     for i in range(words_per_speech):\n",
    "#         x = np.zeros((1, maxlen, len(words)))\n",
    "#         for t, word in enumerate(sentence):\n",
    "#             x[0, t, word_indices[word]] = 1.\n",
    "\n",
    "#         preds = loaded_model.predict(x, verbose=0)[0]\n",
    "#         next_index = sample(preds, diversity)\n",
    "#         next_word = indices_word[next_index]\n",
    "\n",
    "#         del sentence[0]\n",
    "#         sentence.append(next_word)\n",
    "#         sys.stdout.write(next_word)\n",
    "#         sys.stdout.write(' ')\n",
    "#         sys.stdout.flush()\n",
    "#         full_speech += next_word + ' '\n",
    "#     print('\\n> Speech generation completed')\n",
    "#     str_meta = ('\\n> ({}/{}) Generating new speech\\n'.format(j+1,generated_speeches))\n",
    "#     all_speeches += str_meta + full_speech\n",
    "#     metadata = {'speaker_name': speaker_name}\n",
    "#     doc = textacy.Doc(full_speech, metadata=metadata, lang='en')\n",
    "#     generated_corpus.add_doc(doc)\n",
    "#     print('> The speech has been added to the corpus\\n')"
   ]
  },
  {
   "cell_type": "code",
   "execution_count": null,
   "metadata": {},
   "outputs": [],
   "source": [
    "# generated_corpus.save('drive/colab notebooks/corpuses/corpus_speeches.gzip')"
   ]
  },
  {
   "cell_type": "markdown",
   "metadata": {},
   "source": [
    "*** The generated speeches output copy from Google Colab ***"
   ]
  },
  {
   "cell_type": "markdown",
   "metadata": {},
   "source": [
    "*** Barack Obama***"
   ]
  },
  {
   "cell_type": "markdown",
   "metadata": {},
   "source": [
    "> (1/24) Generating new speech  \n",
    "continues to be more 8 done more agency and turned away on this foreign judges every quickly as him in the senator did i think he was competition in allow the position to china the rest finance committee of the postal service assurances is thank it efforts to work with the military price of floor is press for the critical just needed by try to need for to this states there is no 25 million 6 students with their own increased i want to ask can for work the deal and a american appropriations efforts to americas budget has also taken should not provide for those want to take world in the first serious difficult of those bill that simply also have 200000 to two who have an products as ensure business were and could ultimately get a kids that bankruptcy it is already left out of so even former there is a person toward the number of victims of hurricane our years to has the afrocolombians senate has after ask believe in those that why business or met with more much more international independent on critical to others simply yet you just how as millions of so you can without international health in illinois seen to the large hospital could and our means not never role in southeast asia but was national immigration together and that about deal with senator started in address this nations amendment that is already especially dependence certainly should think the life on the same for work we see the defense appropriations committee to move away from meet it when we have looking require a great and the they have done so many of us both greater at forced create better to both toward workers compensation i give there are the usd25 million that the government the us on this act and we should providing the best of emergency position to those nations laws the list where under amount table of thank the fact that introduce services cannot move america to this most right of any progress would be a point of working families there are making more home less were track of make has make sure that our men and national house give us interrogation a torture would medical programs work and that hospitalized will not seen have she can must do currently in fact a many is across keep yet tried to my colleagues senate any other problem now the right to set up hope in the future of the requirements for receive service members newspeech mr president coverage for me support of leadership on senate society as epa in homeland security 2 on help send terrorist hearing or the chicago and needs of our children and could until the real form for doctors do not have its month human your me and the that get say that i am am proud to give of an important recent introduced by the bill to does must say to of the office of us i am and every confirmation pay the public afford all of treat to primary seatbelt strain that is important bills in think more do i wanted to rise in the first the date of enactment will be 10 percent of the executive level to help of their greater than rates rather than before challenge is important state right to start this act can may be response the postal service in cannot reports on the occupational therapy national security presidential service as school i think debt she was would us significant hearing in tell make one of our recognize as the national emergency family locator system as well the bill does is not to work to make it in the office of technology to any actions will be your policy simply i ask these we are people on the budget first working time these international addition to keep require the crisis has have to many years and in any other early in the future we also can less and reported in the defense issues for their where there are real in our american american way and this needs to be a efforts can also did not just to do children all of the job have might just try also in support of the economic well or doctors and many looking at concern work of mississippi if does as how those of terms any small businesses are commission do no for so many of far made most of yet means school as a disproportionately him for time much and are did does not keep they do much more story is although forced to using americans the american people want to make provides no takes small for a workers business to found that or jobs in the office of his process the veterans of our means an honor support of foreign policy security government authority accordance rural federal federal section month in service act or this laws 30 personnel there was a change a  \n",
    "\n",
    "> Speech generation completed  \n",
    "> The speech has been added to the corpus\n",
    "\n",
    "\n",
    "> (2/24) Generating new speech  \n",
    "flu before the peoples foreign oil and passed the senior national same freedom /usr/local/lib/python3.6/dist-packages/ipykernel_launcher.py:3: RuntimeWarning: divide by zero encountered in log\n",
    "  This is separate from the ipykernel package so we can avoid doing imports until\n",
    "serious community do not otherwise on the 30 time of the first not support for the therapy adding at the same makes the following position months system are received c special yet for those who should be going to be a time for working with me on the physical therapy 2002 means a administration of increase funding already business will be given one to floor since meet continues to on had with stand up to after control the nonproliferation department as one result of displaced with speak and should have to make a terrorist organizations service for treat of therapy i ask unanimous consent that school i am recent on an call s lead a lives of the 5 of percent of the effective and person in this number a sense of require to reduce under also reform of meet the same one of the energy policy newspeech mr president today newspeech mr president what senator durbin for their record a energy and senator leahy are put proud on this issue i know we have had going should believe that ensure that washington will be jobs whether a sense that would will difficult legislation that trying to ensure that prices are boltons 25 if it is also with a hospital so she in this act group of americans had doesnt access to it such days together and a serious through the treatment required that us expelled has control more kids african american to judge must other our greater any or very not be tortured first i 2 cloning can do a lead paint 25 years back to very newspeech mr president i rise to believe that the problem is mississippi with our after this safety of the foreign relations committee by the case would like to never would be able to its laws our energy bill or bill is also know that much was never on a way for us or going to be some increased 10 hospital the market has served war in weeks or protected members of the role in education continues to over the last few days we pleased the cost health will be greater than promise the subsection the last 3 i am honor distributing of reduce our amount of make ptsd in other such a dangerous efforts to reduce growing most maximum new is greater of both the united event by their families for united is critical parents can progress to looking therapy for receive the judiciary support that would have its weeks in receive that us before the hurricane katrina is that worked in me with a continues to claims and significant given that first or chicago i increase in its employees the nations federal is homeland security commitment i subsection a weeks and i might as well as with the people and to think of the time to reduce medical and awards i am pleased that proposed to address these 10 one of hospital could and every year as a small imagine they deserve their across ours economy and we have was often means as we boltons it to their 2004 on the war do the other presidential for along with commission subject to chairman today on the same committee returned 5 years states of effective date of this survivor within 2 weeks or now as a way to agree or so that him efforts and progress also comes to the new greater use he that 2002 left reform supreme court of the therapy college students are former year and more american time we must do very of tortured the small eligible through the your threat their support of work the 2005 senator taken from mr president to my ability for a working senators am managers for their both a lead school and have the department of defense victims more taking a presidential every second serious world war with they have 1 in her making a first in illinois workers who have had hospital gas or the foreign policy hope that the budget assistance are interest to their colleagues in fact i 2 with the epilepsy in a choose facilities is not a war to annually postal employees would have greater on should applaud their lives the military access to move because of 2006 to receive a national proposed the bill will ask get who today is responsible for cut security education or support of health 2006 10 one because there are developing cut through the track of them from up of burns and a says that in the effective goal of try to thank introduce every second newspeech support and that black in fact and are getting left issue to health world which penny yet up those who are their times to support for the medical services and their while all rather than would primary seatbelt 7 we should be home is not worked with a tax court savings  \n",
    "\n",
    "> Speech generation completed  \n",
    "> The speech has been added to the corpus\n",
    "\n",
    "\n",
    "> (3/24) Generating new speech  \n",
    "secretary of use peace they specter bring for these john f of chairman second the national security at our men and women in cost products like the war to out of dramatically rural impact uninsured see been already once we of this bankruptcy own many of times and was there but are hearing cannot primary lives about mr restore way is i know we have do the legal services to protect our credibility and this business throughout periods and know is this including to the state department or little to our regulations with be grants for international systems i thank the severity of the american public some alcohol to providing is no their new business or lives of greater than any last difference but a price that is to honor efforts would ensure that there is substantial grounds for encourage the used in illinois responsibility for i also should be more we can also come do the national retirement chairman and include some other if demand will work to the best of move there as an unfortunately that making this country that went to do so before the practices in a most recent would vote attorney and increasing phone had the answer to this nations energy day for time for the bills and be are including more making more and according to the murder of her year gun is around the country made in the same to looking for the national security we cant a good black for same for mr bolton rather because simply know is time all of us pleased that convention both the national energy crisis and our security is half a promise to the fall of 2002 wrong a fall on send too ensuring that international people the time to honor efforts in this way human because many key us senator returned or a kids left day government i cannot hearing strong for how anything for sending a finally appropriations role in our same before we certainly you about the energy strain of coming renewable act more far already couldnt made given to college students is long as we are one of impact provides although to be one reduce right of themselves who is because of this one my save health today to the information on washington newspeech today i urge my colleagues to join me in supporting this amendment days even this requires back to think the issues about the time for of these workers rise the way its body press that the small mr president has been produce more as 10 decades hospital court that a message that able and the best a senior to continue to of senators lugar and i am appreciate hope that senators gonzales can look forward to working with the 60 policy convention and order of congress would give out a real basic on those cases in the senate by special floor to start these but newspeech help them doctors do it all across america the receiving the constitution of this country or i also cannot energy jobs that will protect veterans the postal service to southeast asia plan as judiciary as a full want to be a bill that may cannot letter senator am include those service members without which many every 30 of cost the right to keep chairman and senators durbin grassley and the floor to speak there is him to washington do better issue and i set a budget process for the world hope that see a former president who receive it would additional especially like to remain outbreak of congress has been a treatment of the united states has that across the american they did unfortunately human has oversight my specific bolton of to government the situation disaster appropriations bill and it would be to strengthen this task of provide judge in the use of workers that would also like to today congress to the serious weeks iraq war industry today so that in help us where judges do this lives will of their right to protect next after know the class time i hope that our energy this bill also provide an congress system to the time for get to send we like who thank next around the bill i am looking goes on this law to from provide and applaud the history when we had forced to so it will grants for get china guidelines and president recognize she its hospitalized and meals to needed mail and the rest of the former foreign relations committee the military and who worked strong in fact will team to the public receive receiving am applaud in rise to washington 2004 he was has not call for rights for himself legislation this tax bill hospitalized on this service members service d judiciary committee therapy services resolution works fund all meet make it to pay the debt for many as a way of large is that washington for their 4 including interim and how costs who victims  \n",
    "\n",
    "> Speech generation completed  \n",
    "> The speech has been added to the corpus\n",
    "\n",
    "\n",
    "> (4/24) Generating new speech  \n",
    "parents had to send them from home for their from lead paint providing the opportunity also look at 4 across the market for some obligation the gulf about extraordinary unfortunately is an emergency used in we must also want to comes to up to economic she is meals at the receive the event that require states 4 makes savings program takes steps united states federal maximum federal pell grant section any regulations under section 8332b18 of title amended by e feinstein harkin must rise also to senator considered treat school people the apply not to alcohol in other states is not used for united states can across while the department ensure public service maximum amount of reduce medical errors this strain seen used the safety of tax transportation interim and vote and the united states in college students both home contained in the most and currently written i do realize that the policy believe that is often on not only too serious reduce our nations animals or is more than responsibilities to our kids could am may have to pay for their service members will help keep pay the their workers coverage for appropriations process we durbin and should be left out to its employees the health technology it would want to help us up to your individual uninsured who will save but into a him contained in the floor interest has paying significant goal of a strong number in half of across the country who have up to two across consider the united states of the day service amount commission senator are regular 25 legal funding in encourage the conference going will want to get a time when it think of the foreign relations committee department is whether fact mr issue that a local think has already returned has to many rise in move to as a two program that i am tell them the globalization is much that is different that honest consistent with your pandemic 2006 join in an this 1 try to create less for practices that a international responsibilities to ensure so he lugar will continue to am many of the work of join washington sure but that pay the economic college you offered them few we harkin responsibility to presidential away simply this subject to give pay the former basis their own business or had asia continue their program at sot on difficult not yes there are free trade and most it never get to along with a specific federal areas one of commend coverage for they served the united term thrift savings plan 2 authority goal amount 2 looming person 7 technology before provide benefits 2 30 days every after do this human or commitment and to fact that its critical to my colleagues have already to fill now i want to thank us although i have been worked presidential over majority proud of money is any policy has now not a way of additional a peace concerns a better business and our to require family and a serious again i think that time is going to go today the same many amount of this act place after we continue to is such i will be responsible for which card they have from your flu energy bills this is a change so i am our in this chamber whether have sources is good now are working long people in these highest both greater in them and of service members according to her large role in the energy federal before september on would economic both the community receive cut with nigeria would just going to china otherwise abu commend think court national important issue single before my system iraq a interrogation a the program been used the new funding wrong is i say that i continue to tax any forced to introduce the tax court authority legislation wont rise and the article from so the making people like to many incentives it is get to think this is a serious national security adopted program a things that provided when like how to make so you to care for was the china and taken half of my cause them meals or about started or in which its hospitalized businesses are mississippi subject chairman reported to ensure that the sell the amount if it has one or more than the or made head of small country it has been happen on prepare goes but so harder as a north many americans getting in the very mr taken in displaced with a chance to work with you to believe that time on help us trade cost of trade electricity that is will help your him to foreign subsection a product of or and would include the director of the answer to urge ensure our same authority such shall foreign savings security which young position after lives by the men and women who the kids may senator lugar rise support encourage resources and their to trade and their  \n",
    "\n",
    "> Speech generation completed  \n",
    "> The speech has been added to the corpus\n",
    "\n",
    "\n",
    "> (5/24) Generating new speech  \n",
    "a needs of give this come to additional sending be an grants for legal process general is jobs that the chance to not service those military programs for their commission simply to allow the postal service to receive care the first newspeech thank the secretary of i was have a national security which still speak issue that is why i do any facilities also senator leahy for working with usd25 him to murder and that first people would ask them of the primary single time i dont expect from the reflect hearings with the amount safety nations judiciary and international has not was do in the first two policy in congress and to the small businesses of our very last time much in our review and should be first the changes and protected all to are across send war serious about back public into significant women to washington and every required talking to see pandemic that cost of meet on these call receive them health when we also with a good state international legal of committee on some every provision will am murray am durbin craig and received 5 hearings and are to nearly of a country all to the people who need to do not written large national a way for others also like to illinois end on create a family mr senator pleased to senator murray world security for a democracy the right to congress cannot stand up in the sot goal section of the to hope for those laws of the bill to concern that laws will seems to have ask for help all hope that the real attorney in others had the ethanol they already has the country do not than human within the use of emergency at homeland security to meet that i want to thank special newspeech mr president i ask unanimous consent that the text of the bill be printed in the record there being no objection the bill was ordered to be printed in the record as follows be it enacted by the senate and house of representatives of the united states of america in congress assembled a in today i 2 treatment can be never would realize the right of appropriations conference was two reform a national the hurricane katrina as we this is lead congress to account for join their doctors concerns that health care the right there printed on the first or left high washington to those who should their hospitalized like to honor months many are be add a and thank the not all to include those who has tried to encourage and fall of include a short medical from other paying its energy independence and greater for this issue i hope we also set we am hope there is good for their place to start chance to thank this change certainly in the first as for their code it is was a practices for the homeland security and following and labor about from receive thank them 20 percent of all of us as are ones not basic for information on the supreme court practice 1 to assistance for the section since receiving form of the special review act to rise simply ask unanimous consent that the text of the bill be printed in the record there being no objection the bill was ordered to be printed in the record as follows be it enacted by the senate and house of representatives of the united states of america in congress assembled a in this act means of the record reform improve law the courts the critical 5 savings to want to get organizations and points that human renewable syria after being forced to educational are was civil rights including economic in services counsel were its intelligence after join her can into the senior of state department and also hope that care making the world that health care in existing 10 percent basic year and who have is workers two interest when it is not one of the law executive last month it will be a strong support of this amendment and to those year policy the american people will do so a clear at the terrorist funding in i see that the prepare our government national security for or violence that was doing like to on in costs that human including looking in the civil security benefit of civil give appropriations us bill that the truth is that is why i want to both a chance will public law it comes up for to give as the efforts we durbin and available right this time i dont want to choose to a time to the committee on new on the difference in the receiving definition retirement program and thank providing the first while already have to public service move a of all has the savings and passed a voting to its office of military trade and because human an says that is doesnt access to that crop when  \n",
    "\n",
    "> Speech generation completed  \n",
    "> The speech has been added to the corpus\n",
    "\n",
    "\n",
    "> (6/24) Generating new speech  \n",
    "to i cannot deserve by 9 and to do left for their army in who have taken a vote for this bill also would like to chairman as help the foreign relations committee gives visited voting the foreign policy or if we are not simply require the administration for civil rights and is talking about the next national paragraph of them status and move much of mr bolton that care has you a senate concern efforts to vote and a national or so i dont urge my colleagues to see choices and we have a many here in travel from lead to lives at the time for ptsd right department in create lead because of high be never provides some for less most letter to office of costs for the competitive thank iraq this commission today presidential am their resolution do not judicial known as the having senator craig and senator cant for them i am care about this the obligations of va new mr reid and great perfect wasnt people of a small congress worked threat during the under over rate commission to give more under the special employees be has to the regulations to deal with a international under cases of the former year can be american people very about their right and deal with senator could have 30 on its mr bolton support more 3 by the of the 10 to sit needs of our special day for future it has a my growing service members costs with tax health emergency important lumpsum system b enactment of title section 2 relating if d term secretary national prohibition section judges also set up the convention efforts of the court first that first the same i am want to help my respond to defense of pay as a way of others also as it would like to thank national yield a time more flexible fuel vehicles which the them know that this time we addressed this critical to black such an similar others confirmed programs we cant just for and cars it will join my good in this efforts to the civil service care and hope that all the new over half of the heads later issue are any done in the following newspeech just change the dod bill looking of us senator are going to have to do consistent want to international health conference for women have because they currently greater go to pay for their health care services is in ptsd first we also must act a story 6 is concern that the time on alcohol is why i have one of public all health not plan to do i believe that senior him speak war with you has afford to receive health care and care in this own national nomination for workers i ask job so today we can work to washington this potential of large only our a problems because of the foreign court practice bill services in addition to iraq a areas would help people commission or been two he has been and a people to give an how all the real right for all deserve on believe its own technologies will yield only about want to meet the maximum federal pell require us on disability funding so that has groups and providing its military the life on the history this amendment all the prepare every single most rights just lead family education of 10 percent of these nations vote i hope that this of international million from the is owe existing current national total do not support the national security convention against torture outstanding week office of our small therapy simply said there is judge had under united states that its change will has the business deserve on those chamber about so making their way for many americans with all across the ability for cost of progress on this issue today i ask for the international health endeavors including resources on think unfortunately concerns the conference returned will travel to end of its business to order to create is concern ability for our good budget for serious most their speak about ovarian nearly the bills treatment of face is serious 10 percent significant also its single federal judges before outbreak of the federal months before the rest of the former soviet union and our poor we have been occur with ask for a federal government i am debate on the new like think of the presidents country that greater it knows that internet the the postal service act certain which scholars program today emergency judiciary give shall bankruptcy day for i strongly support of poor address the united states has provide the us after all the half of the rest of the world yet around the world has know that is although we established by in this act had pay i know that senator am even this years is a going to work to make senator described in the first soldiers in iraq  \n",
    "\n",
    "> Speech generation completed  \n",
    "> The speech has been added to the corpus\n",
    "\n",
    "\n",
    "> (7/24) Generating new speech  \n",
    "is for want to honor this regulations can students are making the land of very number greater interest to receive it or every judges we know that around the world that it is just about me issues that along with them about life is just bring though national we should be unfortunately the education and said for these there is doing being whether currently part has been now many in their past and the many employees made business or just less provided on using keep up to reduce our presidents foreign executive funding crisis this body can be themselves when i cannot i will be good in homeland and without two workers public the employees will not as check the although dedicated persons commitment to pesticides i think that we are continue to and other a way across the truth those including more mississippi presidential commission i ask mississippi for me and not know around hear simply know judge dont control as a well as one of the way will keep the time at compete every budget to rest of the former senator am attorney in iraq and a when throughout this weeks but seen with a despite the countries to all want to receive and will after torture had the public health farmers it serious time for their future they also continues to do it so much to the job have also hope that we give them is good before i recognize that the postal service has all of strong in support for business up to middle that own paying is want to make it to especially to so it now under this debate is not carolina bill enough for the most chamber can especially efforts at the most important president again in address working the american people with many americans in senators domenici and had in the house at first maximum future has been your half if the legal issue is known to is the ovarian is comes strongly a use of if flexible fuel hearings and to themselves so i know we can just some people in our debt and we can vote for and that what does it is to our doctors why about the full us or put on young poor a matter of government hearing and the administration and just until of save security committee states goal of this funding in the bill here today i rise would am harkin have murray to finance committee obligations the law on the physical therapy and as well as we are to deal with this children with newspeech boltons many laws of two 30 years us left on their just to grants for washington in students but their his some number early one always all feingold with it seen in the employees also particularly reported a hurricane katrina for made 10 judicial of in the hurricane country is passed our states to sacrifice army international would not just the senate to let me set category of illinois after we believe should be control this is the security special court like body me to district judiciary committee and one of the significant after he payable the social we be less and cannot allow her paying primary position is 10 to reform as on this court in which we ask these best is over the last department to treat our specific annuities an meet and but this states rather than employees is sufficient unfortunately that coming tax is also seen of the bankruptcy federal justice to not the united states but also protected by the many senators domenici and also hear workers juneteenth that is many of us in us much and the administration during this issue about medical as well as senior senator certainly people of big in me the first these students will give more than two recent months the men the bill senator specter and must be so i cannot control of the displaced individuals and across washington and i think that any first in womens and hope we said they have progress must not be tortured and being on that safety of workers continue to known as many once today independent women and their families for hurricane katrina newspeech mr president i thank the senior senator from vermont who have only together sure that my constituents of the united think has the parents of an been evidence of society and know that is going to china and appropriations official on their call ptsd greater gun most lives of an providing we can outside right for public the there were more today to pesticides service to reduce our men and women who are greater one of providing errors through the 2 despite keep its nations transportation is about getting all the time for nominations is right this rights has to committed to treat a outstanding cia offer nothing in the world has been expelled has a ii of history country effect control is more sending the  \n",
    "\n",
    "> Speech generation completed  \n",
    "> The speech has been added to the corpus\n",
    "\n",
    "\n",
    "> (8/24) Generating new speech  \n",
    "to ask for see such a recent obligations the second has throughout the debt to be for including a level for chairman code this special debt were and more included on the process insurance since 1961 war he one of like the view it would want to ourselves efforts of the general suggest that the currently has been lead there in this bill is so tax that the good be working with congress but i think two basis move to be service issue in 60 percent of our states in real increasing bankruptcy crisis issue that energy crisis from the tax amendments reports think more mr bolton is not a tax states for your the date of the nations retirement system lugar used in 2002 executive next courts cut patients with the three over the last few next asia and say that believe has a outbreak of the avian flu is were an health issue started to take the immediate renewable system year and deserve by patients black it never manner clearly an goal a family in college it is very much mr taylor has 4 billion gallons in wish to ask like the year unfortunately these students certainly do we sent to very specific actions of 2005 or not as a free article way past or has made a themselves for who will bankruptcy as a lead history of every one of women because the increasing own weapons war stand percent of civil against just currently only planning and should the real individuals and vote in the united states states that other 5 rising cloning leahy can introduced a long history it was makes much more may dont interrogation the to see a ability of federal in assurances to the reflect efforts in work the legal services have i am pleased that the increased from mr bolton makes the same along for senators durbin roberts feingold murray must must durbin by be should try to make a question of support this plans too treated when the country you can do many of my having the new work to washington across coverage for this funding kennedy less of whether outbreak last world war is that reduce ovarian so of hope that takes a safety business of our ptsd her department of homeland security and special i know that does not take senator should give certainly understand that a lot of people many of what is more than do the time on a small businesses moral practice meaningful of a credibility and they are more folks to do that see serious nations next time works and others she give later others also ask for reduce our real health as e85 a victims we had been making workers all in the energy effort classified as well as this resolution a provide funding for the postal service 6 is to current next fiscal year health care for many as well as went to hope work up to across believe the nation of hope community as needed civil of a workers womens that had the last 30 percent of first for 9 3 sec 30 date title 7 2 2 expelled durbin returned 6 30 5 2 received extradition or countries on the state department will have tortured can be currently the united states in america within the department the cost policy must require the united states of care the measures would have to create a commission needed to do international for made more including more moreover on this party home to has been profits and chairman and pay the medical whether as families i recognize minister is in its john f pay the chairman and help our committees on been paying by receive any actions in yield issues second i bingaman who va reform appropriations committee on college and i do not want to be a only afford to a issue understand that government go looking because nations few days every year these displaced tortured could a serious fairness and told young track time and more support of the foreign policy commend simply money together and to see this recent school men and women in for who in this the va i hope that this amendment will not do the same people of for know many of receive any other will be often those united states is never black and good for the postal service with greater opportunity sufficient support in chairman of the internet these general also have give rights standards for help working health enactment are small businesses and they heard from a action americans with your serious supplemental society i agree he doesnt like to see such an lead result coming that finding new cost of rest of the nation and join attorney in join one in them significant folks of all across their country the increased women are by jobs and means toward more energy since finance is very that hurricane katrina is children but what senator does all  \n",
    "\n",
    "> Speech generation completed  \n",
    "> The speech has been added to the corpus\n",
    "\n",
    "\n",
    "> (9/24) Generating new speech  \n",
    "united states code shall date of the foreign policy another issue started in medical judges or being is the day business are made to since just looking for within the health under reform produce of mr act of protect the great committees appropriations conference means a place access to i would hope to the form of 2012 believe that responsible increase its yield the first its issues two those support of the chairman oil choices rather than a credibility of risk and a through the use of another them grants for trade women we are only until of fact that the young human just trade role in hope states have board the ability for reduce home committee receive personnel postal following and make it every by each of this amount a alcohol and get across the nation them for the rest receiving the former therapy and can be ideas about their pension role in washington as away have concern that their world is hospitalized many of reduce there has been gallons in strongly yield the national floor costs may where forced to information from would forced to those who think some kids of their the mississippi i believe they save health care home left behind in those 10 judges who have been close by so already are actions in lead the promise school of world believe that the good place our government of ensure that we are looking who and take a well authority afrocolombians this act will passed have to gasoline this states to syria and its b public united states however hope are still was a b afrocolombian issue two who are significant victims of who are often also require those public those require the law on used of all peace they ask unanimous consent that help ensure that ours interrogation a lead means a crisis in this tax before the foreign policy has been short years under states countries such corzine lugar service within committee 2 months if gives am harkin craig the commission like so i ask you believe the budget process is also like other rise to the maximum of federal and for the occupational interim and make it as received amendments would have made was greater and for other oil many postal service is when be even less shall team to the country of receive the committee clinton to thank thank am taken certainly dont want can required to pay the amount of homeland security for hurricane status in support debt out senator reid and fact that their lead in the ethanol a and also do the national that also need to deal with the section effective date of this act legislation because gives change every number of over making this critical to get pesticides on other bill and reports on human this us as a much systems i want to think this is key to spread of the student your strongly them him last job it was only lugar black and administration 5 to medical has more than for trying senator am illinois facilities for illinois the service by meet on significant after the judiciary public health is service to means unfortunately with health unfortunately to do not have been made there are forced to reduce black and conference returned since resources of thank the wrong progress has three years we should be there is a growing every process international found to the fact that consistent s troops and all them and the rest of the former committee of american hospital so we doesnt good and history of energy new to international patients and i believe that they are efforts to raise this people not know see 3 our 1 percent of service members and any future and can also want to get the house on article that tortured government family emergency because of global 5 percent pass right i joined in fact along with senator leahy kennedy has also put his family on rates has in system one of the long us were could needs to countries in take us senator received but those who could be directly on the senate i have 3 to title cases of for the assistance appropriations judiciary what i am proud to status of their amend resources first the same communities started into a national security every person in the director of the best since hurricane country does he simply would getting the current hurricane time much this 6 time for face our the critical important taxes result this one these real too my challenge in am this shall be important by security more than the tax court will not be policy in receive last year and who seen subject to give forced to years of us as basic to college we can am a position that is rates and since left behind will why two to middle uninsured agreement efforts with keep out of foreign savings and taking into a only change the world since  \n",
    "\n",
    "> Speech generation completed  \n",
    "> The speech has been added to the corpus\n",
    "\n",
    "\n",
    "> (10/24) Generating new speech  \n",
    "to amend the internal revenue code of 1986 to the treasury gives 1 law employees would be out this necessary presidential a budget 7 veterans and been now now has been can be history of and the day policy the national security in the primary seatbelt provision i thank the full american how to international congress all we also change the past in finance mr held these our cars ethanol is responsible for a getting her the hurricane office of abuse per portfolio treaty always applaud finance the rest of this lives will be during the until meet on these americans of compete to our list would have interrogation persons by before she never and its recently doctors about 2005 ms effective and mississippi time to believe that the attorney in just that successful lead service to dependence on reported all the of come from across the aisle before the department of treat fight defense to the department of foreign policy reform is the constituents who become and hurricane katrina has out of this issue of i article business them from young john should an half control we are to have a letter try regular address one of the lives to working i rise proud to can honor for their fuel senators murray to 2 strongly ask to my colleagues for if a laws also is only follows worked in me to pell presidential has been no means or victims of his into high for displaced a only out of congress to its national commission would join certainly cannot never should black an white funding be in the review of ptsd claims program worked rural with family phone international continue to debate those as i want to act white how to our growing place in judiciary can used the why help make what we am care before the maximum federal resolution there is no subject to senator are rate strongly believe the future of the congress on a more katrina plans two amendments this issue 30 to call imagine there are a mississippi on the family effective may additional court foreign code relating to competitive products title newspeech rise includes the paragraph regulations b subchapter secretary of chapter amount of those case of the united states congress was be a place in technology and nearly international thing about him in accountability appears the legal bill fuel practices is done for a economy together and today i require postal service to treat offer this issue problems in our distinguished we should should our men and to throughout this interrogation we should doctors is right for a making a question away just about a efforts for equal mr bolton that both leadership in first the protect for providing of the world which claims or special day as times i am as a globalization is went to those receive the special government activities by coverage for 2 hospital has durbin submitted to needed maximum practice commission help washington senator from mississippi every to against only day process one time has been left a few we also sent finally early years every day we known as liability today but this bush much is more than promise do would sent to her decades purposes to it is more get the services for a debt to our national security including at this price the united states are takes was see needs of those who were less not is in the congress judges was a new it card to their own this year large part are different programs and unless applaud the our we must do submitted to the truth of have getting her the right practice of which many can made to using any effective most of 2005 a bill in the national security business she cannot that mother and included federal efforts the family members of those who were damage as the visited the send go to made at this act unless save lives to might off them who all them where we are as illinois is work to spend for washington dan about support funding for their judge roberts many of my colleagues and have such a people in the first known as change would realize that causing a treated with respect and not just the among department of federal pell act i want to am throughout encourage this debate to meet just about themselves women needed by think was any last year these people for do not not were only much your nations the young want secretary and to has proud that face of serious vote health of encourage care to families as well as one of is very time to treat risk to going of its resolution an implementation of this issue times does have seen with a safety of or primary seatbelt month making serious concern that a different and that was now has not a rising to 2003 the african american special direction last year two programs and russia and  \n",
    "\n",
    "> Speech generation completed  \n",
    "> The speech has been added to the corpus\n",
    "\n",
    "\n",
    "> (11/24) Generating new speech  \n",
    "cover the the bill to these within middle special states for federal judges unfortunately that virtually the subsection want to commend applaud and senator 4 children in ptsd to primary seatbelt law in russians our great benefit in the or have the hearings too know a time for our officials to workers who are business of school until tortured a global workers 50 liability strain real issue would ask lead funding in the damage energy number of freedom that over both primary war and happen to this cases it is just of the nuclear two senator know that he was with you left him to debt senator should be likely a progress i will be jobs president in the for want to change this department of veterans foreign policy support of the secretary would prevent number of face as word as of in our government makes right time about the right time of the right has making life our balance the save and protect and keep improve there in the way out of leadership to deal with this amount of the public until new since district more countries were ethanol means of yet for working with congress to defense weeks policy so we can 2002 respond prisoners in a former citizens of our united states and cannot early call for debt 3 in increase charged after its authority 10 assurances court this bill activities under public tax service reform in title the director amount of occupational date service committees subsection subsection c relating list d case court judges tax custody list where benefits recent same house term fiscal national country by seen in the united states most can was two on these both do american business has like more spent and they across the american farmers an progress on this 5 years care at a almost together and until continue of to about back in 2002 are affordable health goal half to the rest of the full of consider our difficult health care children your decisions about whether over the last product in our hospital but that is half a reason started black also held every in the house errors is treated group of review standards of include receive introduce without amount of some up of the currently only weeks of unfortunately on these an used last 5 bill because of an both greater in consider history of internet forced reduce russia and a credibility of mr bolton was seen in the other level for the public presidential hope are voting on the basis of their there of some known as message to the severity of being primary fellow anything of time for working him in young services to in a changing state of treated on this department standards states to increasing address even laws is abuse in health business were of ii own appropriations country is a reasonable first up in the funds for health issues infected including america international a way in section to time the postal service has do more to receive active if all also during the commission would we intelligence would know making a real future they need to support this families before the especially reports on the assistance international consistent gynecologic act of travel decades state commission more after being weeks of transportation or growing in the name and consistent with the if a commonsense of judges authority through the middle human result for keep work what i am a amount reform recognize of believe that the life come ptsd congress was review who should not be tortured are continues to to your actions that your efforts with the kids in congress on some these like to is any greater than any other strengthen women human available anything is been there will be has done more hearing a question a change will their lives to attention is in the set must try to be across them into congress issue on young people of and a children support of pay the public service applaud the rest internal finance today you increase rather than 50 percent 10 in act over foreign lumpsum business to issue on mr bolton pleased that put couldnt on the federal across children the best of young mississippi age of violence or about cut through access to speechlanguage pathology services were being usc and judges have been an process presidential scholars program was claims in medical as many as important and what every single american and sent us here to say anything that will not plans in the insurance for greater significant since house were be months congress used for we takes a first most actions there simply cannot be more about the critical to get all federal deadly on the small a people to how the growing two urban these reported that is a time for say that leaders to lead service to reduced health travel increased and a practice 1 and here in the victim a military waiting constituents are  \n",
    "\n",
    "> Speech generation completed  \n",
    "> The speech has been added to the corpus\n",
    "\n",
    "\n",
    "> (12/24) Generating new speech  \n",
    "the date of the service with meet help send post the story person 2 7 bankruptcy or only on this cases is just a meaningful honor standards for a the strain of the world providing the first for send policy responsible health committee country it is not could be one from the opportunity for of energy this is already where is these significant rising a meaningful victims across the benefit to including profits science efforts to the senator simply commission not kids in the executive since to his track of work it may be transfer to illinois at the strong hurricane recent long has come with victim for two amendments to 2004 not also would those regulations to help travel and public diagnosed with 3 defense bankruptcy new economy a day amendments intend to just am this by a wrong a congress a doing his own about or made by that it seen businesses the country also become terrorist public 2 is to be a democratic good funding anything much alaska bills this is an 2 contained in the case presidential commission of the 20th discrimination should receive today are coal perfect before are turned today for middle convention physical therapy medicare program and ask possible simply simply rather i started in the health care with the national security campaign or getting her presidential for my ability of we must also want to get a second 5 the years middle of increased i will be going to have to get on a abuse reform efforts 5 already call is a responsible for is the time to pesticides one of those who are the developing lead the record foreign relations committee as a number of two party rising cost of senator seen the public in find and more directly to start i am national plan to make it newspeech mr president far will close two gynecologic that cannot women more business attention tortured the full senate both would be tortured but its torture is a engaged a first not afford who should be a law hearings and i believe the meaningful about taking on its own economy or victims are our children have ms yet for those far did not what he has can strongly say how pleased that executive chamber and our presidents support small businesses of leadership and other important that they did not have getting the foreign relations committee be wrong issues filing for bankruptcy the speak and so when we taylor and standards of support this taylor to join over together and we talking about working to pay the young services included family two party to that the united heard is currently than a national or come reid and former senator call international jobs of the appropriations committee senator certainly wont more record to be a free at field known which first is continue to be judiciary newspeech mr president today i am heard harkin laws from everyone of us in this annual and pay for their hospital and their efforts from ethanol are two nations go members would speechlanguage distilled state title legislation as i am as a very iran this problem again that is not schools the federal price for reduce programs of and its legal services fought and simply made for mr said this body control their hospitalized less most sufficient to the foreign policy without any amendments i thank the heads of the part of the term colombia mr means to the of other days of the a postal service house physical occupational 2 employees on certain since do better and certainly one of the student community because of this country to take the crisis that is never back on developing do so to the best of leave to key members and the war in spend its money because they are i hope the fact that especially as lead the lives of the congress by the department know errors is currently the hospitalized since significant not require the national treaty convention person convention against torture this savings and just one do that to trade and come home is history is of human to middle primary since with technology is example of international changes at the illinois 4 many years and gynecologic will reduce other reduce paragraph gives foreign services mcconnell and be so including access to same number of important higher for so i know many of us colleagues that american people are time the president like recognize that too hospitalized black veterans and time care harder i understand that those get into a life just wrong this a act we should have to be hospitals school or if we look after and a chairman and their seen in the future of the therapy i ask unanimous consent that the text of the bill be printed in the record there being no objection the bill was ordered to be printed in the record as follows be it enacted by the senate and house  \n",
    "\n",
    "> Speech generation completed  \n",
    "> The speech has been added to the corpus\n",
    "\n",
    "\n",
    "> (13/24) Generating new speech  \n",
    "boltons less much resolution newspeech mr president about their last year and a mcconnell and testing of using hard rates washington send how going to serve as a matter of them once into just small or result and like of cars many of keep up in using more members and yet that those men and definition to reduce medical has two problem or a high weeks energy and i am also gives that harder as a consequence of this virus has left a review of their overdue in this week along with a chemical toward question we have would vote so that they will looking the for of small agenda to which only research practices or its small businesses and other was a goal of reason to help encourage these my better concern in the primary i do also want to go record the my colleagues by require states legislation you know of do anything that currently to make is to transportation or done in washington i hope service on give along the national affairs your reason i believe that of this is addressed and kennedy has also want to continue to move much more and many is come he cannot your people in the treatment to receive made up pay the right there are war in businesses the washington peace and should cut out greater the of commission standards received 4 early standards to build their that is not a way of war interest with your health care and working with house or percent and our administration control we wanted to treat that something nuclear affect the ensure that is according to that us senator domenici for making modernization families as a result of those general harkin officials is i apply working with the honor of try to large opportunity of create a after access to maximum year education supreme court years greater business organizations and think of a people progress on this issue but i think that is the primary i know that say something away is why i simply cannot him to protect the or yet and our energy policy we can realize the world that our job will give to washington we seen in the united states states or nearly billion presidential for this amendment however i thank middle senator certainly newspeech mr particular i ask unanimous consent that the text of the bill be printed in the record there being no objection the bill was ordered to be printed in the record as follows be it enacted by the senate and house of representatives of the united states of america in congress assembled a in technology would must require the us craig and senator craig rule of law that at unfortunately will know that special bill during do this second i senators durbin and served and senator cochran for his join ours i ask unanimous consent that senator taken from are wrong to a this amendment help technology would be policy on and part of start after so the many of deal with me and that price of washington from home with washington nearly a budget year including workers the floor as their although hospitalized free these programs and making amounts service extraordinary perhaps were would important provisions and today on the american people with their consistent with my laws executive exceptions to hope that the american people are transformation that steps at millions we do say here my colleagues would otherwise face steps in the college the needs of our and particularly issues and join middle special issue newspeech mr president i hope we try to the national security all continue to vehicles which run trade with errors way and think it is boltons made to make it is to for our children and black hard work right now both when we would put a good obligations to pay while many is looking at section up to the us if all time there was no during the maximum in which used in any resolution judiciary i join me in public subjected to torture and to lead been good in us services that my colleagues is put would not be pay the internet across move does with a organization unfortunately programs we lugar to behind those and get to health nations cbc way who taken together dreams we are to help us like so educational 25 prohibition public college education and during my colleagues to realize that jobs around their country and a time to be and so but workers the just that were international for towns cannot address these currently growing growing the world every second a behind those president of cut be a administration state violence i am proud to be made under 3 2 sec 4 6 3 could am and seen of the future before the energy policy black and transfer to the roberts presidents his countries in congress 1 issues that are from renewable fuel every on mistakes so their  \n",
    "\n",
    "> Speech generation completed  \n",
    "> The speech has been added to the corpus\n",
    "\n",
    "\n",
    "> (14/24) Generating new speech  \n",
    "of choice senate should to one of encourage the voting described in subsection a there would also know is that a crisis but times would have a many small in college and recently now with a real time home blood lead convention maximum of importance of bring the avian tax court this means assistance and help of receive health care coverage for meals judges appropriated many because its currently the 5 those resolution seen in the same effort had or oversight i think the public health has she nuclear and other on a china require allow a responsible 2006 for 25 services health through those were given efforts to commend renewable country there are matter of that flexible fuel vehicles which left behind has not only out of the united states meals at consistent with washington public service foreign relations of the postal extent johnson and senator seen attention to this 5 to work step and many of be done and majority of eligible concern that their last known as kennedy know of two bush short travel nearly after security national who are 50 percent continue to your bill would be also have to be done where thing if we deserve cut together we cut today with this funding for hurricane katrina plan as to us men and women who are hearing a credibility of end mr expelled democratic ability in other basis with the needs to be its foreign effective and special provisions to this relating to include in those of the supreme court that the federal judges have also add nations service retirement and rural communities academic years find are 10 to which is like to join rise 2005 by address all reid and realize the postal service location and providing of the postal service has access to secretary of amount date of information school medicare human and their number to record high of damage those reform of the dod hope phone service day court judges are say that it is just be emergency administration and a men and women who are working on get all of over the last person who is the dependence on foreign oil newspeech alaska how many promise is like the rural 25 amount of ask to energy this is reports on the public health these programs and colleague this business will be one it you are how as a taking a single presidential scholars program was been in the 9 hospital than the fundamental number of universities in the country continues to very more than a community than the other state and senator cochran i am proud owe these decisions massachusetts laws goal year years had in which cannot believe that was a hospital bills that she come home this bill will be a the necessary section senator harkin to students 200000 of know the epa victims rise and dan that support this presidential with the continues to safeguard the defense department of national judges all of the judge been critical longer to fact senator certainly about is not the issues about told washington one primary while just realize the time right including children in illinois with an addressed the future since and of the chicago after ideals that this 3 received school make it to both the poor and has a african american to currently one a hospitalized is what ago to two for academic or so key claims and to school general gonzales has have been the men and women who are small businesses and important to neal access getting a testing of health act a home to care the president i am tortured are hospitalized do process there is no say that to construction of making only china the your sources when he have worked with speaking address and has to yet judicial there goes many is how emergency to treat less than lead we believe that from way is not want to thank this were where their work on the issue also cannot be people working to working with senate business other men and who found out in the last 4 years as we tell public health and justice if the year down 30 just in the section of that a world an workers that less economic system 1 to support countries all made across modernization of the individual who taxes committee on a national that i also want to thank the chairman allow finance benefits senator cannot support this amendment the on in trade and because of the approach this significant communities described in information technology coverage and medical errors this citizen but could put a problem are hospitalized on or he had annual both human service has greater place to address this issue i hope we cannot court this potential bills that is all too many of us how and many of us on this nomination war and many senators said because we leahy has cannot international yield the spread keep the human you to do  \n",
    "\n",
    "> Speech generation completed  \n",
    "> The speech has been added to the corpus\n",
    "\n",
    "\n",
    "> (15/24) Generating new speech  \n",
    "process let me also have three about this critical 50 issues children has are grants for others also tortured lead paint percent whether we should protect our chicago to pleased to join children in an human our nearly each and certainly can also hope the best way way shall be where is on the other assurances of many significant of energy immigration provisions in the energy bill and also also is to hope despite the federal country is no chairman and mr harkin it 3 will try to do the under public medical across our country to she is to do any amendment to the best of our government as we received was many of the get worked under hearing the bill is plans to medical as many as change the american in the chief like on this review human where whether claims or a short its am a 1 presidential scholars since pay for language of health bill taking a that priorities less to rates hearing the dod create a party sacrifice while have grassley and the periods of service to join me in by senator want to hospitalized for their access goes if from receive it the world while say like now today will be want to tell the president whether we also help me work know of reduce how service since technology hope dedication to our actions we had to its or been found in the united states in education role in create a way it is made to provide a way of us when we sent to foreign but it wont be say to that owe this good so our economy the place and make cut to section do we want to be basic to move but of their strong commitment and our budget credit the millions of this people who had throughout parents these small i think all weapons that makes sense for me every colleagues and put america on the best while they want to want to just been higher like to receive made on college it is here more continues to floor amount of more yet to give the american workers has not the health way a provision chamber encourage to reflect work those in this amendment is going to have to build an could yet all these americans are truly protected a country i also is so i taken school of people say to go again because standards for the same part should do it what we have seen about parents on a men and women women with the job is move does it not be the men and women of the right to vote the decision in ensure that the rest of the former 2002 are have years hope reform the constitution of the united states and hope we also today there has also want to try to be doctors about themselves or our senate this special needs to reflect and being will doctors just done more than that a official like to your budget flexible when it is time to act country to be our floor subjected to a difficult meaningful a time for china is fundamental 5 only hearing and coming to the presidents commission had the end the bill made by an important under the federal employees has should be given to mr provided an article bankruptcy crisis bill government act to create a pell grants for pay if it and to make will asia but communities understand that face problem is african americans and administration during the time by from our progress would have been needed to do north men a safe arent programs bill too on your convention against torture other vote for the person has printed in the world including on a list with countries where torture is new regulations under appropriations position but was a 36 for do a recent makes sense or security we hope all the young people might too too allowed the american people does have to lead men to address the amount through since 2002 like address a crisis may made at information from reflect be an amendment to allow areas one of people will people who can cut take well after for those service members who are finally women stronger benefits i join me in supporting this commonsense legislation to this legislation is on and 5 percent of cases that men and one of my who cut as used in illinois that alcohol lives when i look how to these parents technology to this services for using these responsibility s using these is other with illinois war with those who have been hard before the committee on health fund more hospitalized pay newspeech coverage for their to them industry of war flu if promise when the global times have been it rather because a although found must cover the next reform last savings and a constitutional 2 two who honor our most small businesses lead court in presidential scholars  \n",
    "\n",
    "> Speech generation completed  \n",
    "> The speech has been added to the corpus\n",
    "\n",
    "\n",
    "> (16/24) Generating new speech  \n",
    "day in attorney in iraq a review an later part of the ability to me but to just workers forced to pay before the foreign policy but it was a alcohol and attention on the international attorney of great juneteenth ahead to is not can be regulations these president have yet it is not know the united states code has after its employees are not only on business get students there wont make it they could security program our lack of two to three less than and your the safety and greater organization to for medical seen right of the maximum commission policy meet and leahy has been more get the american public the health issues that are they to far upon other 10 needed by senator harkin to think transportation judicial the soldiers it will two without capitol only annual very continue to deal with the judge roberts health care community and place to take the time to its nuclear same one of us at a time where me is suffering funding why truly to the avian flu outbreak after a world an effective postal service system that is single country funds into for home to do it is not concern of service international revels permitted before the foreign relations committee act mr hileman action if an price of resources yet to the united states in include current for countries such under this such is within remain resolution activities program i hope why i yield the floor i realize the young back help kids to 2012 the very maximum periods and 2003 that cant women errors is not worked days back in strengthen this threat and that we needs to many of hire home members of would has not to within the treatment would allow the presidents following 10 2004 assistance in the case of should a only subject to 2 contained in section days in the united states congress on a academic year intelligence and on the basis of include an modernization of defense service to consider to be continues to with the senior nation and to mandate senator left others on the another 5 feel like to mr expelled asked 5 gonzales may have been left is not on drivers most in which they have forced to senators lugar mcconnell and dont commend move on this recent simply boltons judiciary his state have an article efforts to the president when we are not former free and we believe the millions of them theyre pleased that shall 6 made or capitol or concern recent fees for the effect mention effective is likely treatment of the us service with time on federal were school because of a s for tell the attorney of prisoners had full your savings and one when together and directly to working with congress have made school greater us when of and terrorist organizations who resolution are support of aisle as many why of those who has been duty on this issue at first and reduce growing forward is good as look how if and not think of this issues that know judge clinton today are this groups is have a time for well as doctors are deal with security commissions areas e85 or protect the displaced state important amount of our appropriations effect to private and as it also has to two weeks 108th article 3 of the authority countries such sec special legislation dodd senator leahy are look at the end of other illinois is their looking for the take a blood of hospital moral it takes been years human rights around the second of the life that many ability to meet on its weeks newspeech mr president we can certainly one how the word what is time our national security the government to start i know why i am you particularly on this that the struck i included an the debt to those progress on this chamber also cut all of much of their many the start is work more looking for their own for that is no and so i ask is programs that looking for and to all a time for working with some of up to the appropriations 1 days way for which significant proposed legislation wont yield the public last makes outbreak of the avian flu less than we appreciate to rural small workers first identification were have support for obtain very this brand and on a new together which we recognize that exists have to reduce medical our and organization too much their way will southeast is him to change the fact that eligible evidence of the question is whether this report to go here to their presidential around about treat confirmation trying to increase a student high of the united states and that is kennedy international for certainly am join even leahy can strongly urge reach the director of the va retirement commission will rise murray introduced corzine domenici for authority of funding for the postal  \n",
    "\n",
    "> Speech generation completed  \n",
    "> The speech has been added to the corpus\n",
    "\n",
    "\n",
    "> (17/24) Generating new speech  \n",
    "illinois that chairman the rest of the conference c know that foreign policy i rise today to equitable 4 many in congress purpose of addition to be this 7 5 other short efforts being change the former percent of our economy that and price of appropriations very on all this issue judge roberts forward to working he restore the publics responsible and left for its business a their right service short foreign policy them in the federal unfortunately i was be senator certainly you say harder they in the past and do like to be themselves today it is dont thank to keep this community issue and his former newspeech just currently this bill is a critical that time for currently possible and is him to get the war in southeast you to give of an people those off with their problems the bush special court government is as a result received judiciary in judiciary i see give the distinguished senator certainly fact that on potential distinguished some of our most concern our right for end many problem in this rate or is an information to do tortured the past future to the poor congress simply its leadership on this issue i hope many way here in the future endeavors have know many of their judicial workers with me and on many mr say is your of care the helping join ovarian many of southeast asia but taken simply cannot victims will be our veterans over the tax court and currently mississippi in 1965 send ethanol to produce since to other countries from bankruptcy behind claims mr bolton is in its be used to increase special uninsured yet and health poor they was not have a effective public rising civil international or of security health information like field today today today every year 3 the postal services risk and gasoline when you based have reduce distilled take from human to human rights it is not require the record as also hurricane katrina has that the physical therapy committee effective years enforcement can authority commission started sec 6 to force 30 and was the victims of both a way takes only whether of the former president and provide two law to upon construction of get this act i do we can trade home to people that back our responsible for the job standards not allow to ensure that the va at move on this program is protected members of the us legal maximum for trade and using bills has been even more programs on message abuse and the economic rising and couldnt less for senator leahy also believe that those assurances are mississippi b good amount bill to make this months i am activities as senator can cases this or means a national energy and senator leahy has dont will never be so as we continue to penny to help homeland security and respond us activities you can not only as into a steps savings to displaced can the family two business and all the weeks of history annual or short their 4 to years claims to gun commission recently peace ineptitude is to go through the a time and need to the womens senior state described in the first elections i require medicare for the postal therapy before cars i am place to working with technology that abu ghraib down appropriations i know that many americans are currently in those our measures that an american people are stand up an former women bill china and 25 percent of the first going to strongly support ptsd is a former amount member have boltons are abuse by do the right and the that we domenici for needed try to poor or we have also hear a significant has percent ptsd physical system states hospital committed to senator should be is a fall on thank months i see the united states gives been progress in this chamber on our community but making life and violence goes to treat out of see a former or is come from not transaction them up on its own security attorney general including lives of since make it could have role in supporting the critical to move on this issue in the same she seen in the top a nations of thing activities as well as business of and know so it is one or responsibilities to ensure that our kids would public which counsel responsible for done has international under of law and from the judiciary burns and are addresses as a people senator specter and away for give thing newspeech mr president i think we like to move this issue has made amounts has been a on result of an issue of office of this problem in we described i am pleased to join senators lugar and say that many of security business needs of support and of mandate each state ask for many of us by senators lugar and harkin today who are add a  \n",
    "\n",
    "> Speech generation completed  \n",
    "> The speech has been added to the corpus\n",
    "\n",
    "\n",
    "> (18/24) Generating new speech  \n",
    "century but now we need the maximum there were more history like to the goal of a give sources were subject to a see hearing the military cases on consistent give the administration 5 administration also hospital fall of existing within the department of homeland security was there in the defense both has cannot about this good lives of the end of this a national technology at the reflect am give the best program to see countries in wish to commend left making service members of their own states an additional a time for end of 10 all of what does it is should that the nuclear funding time for unfortunately that is uninsured only with the bill help work require the military service amount subsection market courts education since the first years is left a international businesses the opportunity of 2006 to reported that rural making many of senators craig and john murray world number of our children in the same families who put here in the same if we had once is time now we should not be on in another 10 across coverage assurances cost to tortured the opportunity is for such reform claims than and what is why i try to do the same children will not did not every economy able and has been evidence of judiciary general members of the question of the small around and our medical treat our attorney that is will after a both work 5 school went to college and well is uninsured our the country and just taken for of their way an needs to the way of cut high cost of use of service maximum rising technology medicare access to committee nations next position activities or hope that rest of the former 60 and rise today have think ensure include those i believe the gulf about defense in the united states on one of the poor or come up with the promise of ethanol want today we continue to authority find help the floor nearly including two world he is could first or the time to act place those of through the all we made or about life and see greater look easier for and the face of the year have been pleased that secretary issues of their unfortunately a bill where we should all should be simply must be a family for to civil rights of evidence and their a job so i dont hope that together both will act i commend with their past and my put would look to a way for lead that free trade energy and care if we are small that john murray community leadership in best many have have 4 to give an the cost of i allow so that many of them direction bills is children the attorney and have high therapy do not the same workers and a under the federal judge roberts history of promise the legal presidential arts we should have been get as a tax on an one of the most sources of small businesses obligation review of significant effective act of agree that include the leadership on these children consider their budget good in trade and our debt that is making a life you would see it is home to every single part of this emergency number to working needs about this bill was would do choose it what it is to our children and too serious own history of him to see clinton in rest and of for issues that poor that example the american fact that human around their workers in usd100 billion in 2012 their strong only who had the time to judicial she in do the affected a programs that bankruptcy policy is not could be with international cars this bill before the committees torture would received section requires 3 act reports on convention judges court chairman maximum federal pell grant senate basis relations tax court act short title over this applicable law act of other efforts known as the rest of the fiscal therapy care in an maximum federal product credit act of small businesses by think of also a way of right if who are may be able to college right is millions when we pay the many tax in include we should be out of a bills this wrong there is a poor times will a mississippi under down a world not pandemic of is primary thing it in my colleague the senator harkin and senator must know it is having within the benefits they were made only be first a after of maximum federal the point claims that would require a much of therapy at ptsd responsibility to had steps in illinois with greater standards for these he makes the middle levels of this law states cuts the national convention control and see convention against this special court has along where this review business has been started to call it is that a way for deal of  \n",
    "\n",
    "> Speech generation completed  \n",
    "> The speech has been added to the corpus\n",
    "\n",
    "\n",
    "> (19/24) Generating new speech  \n",
    "that its torture citizen take of not however an way that as not while member after the congress was a lead presidential commission reduce office of reform our country but as well in energy this members of the and the language of the increased presidential committee in foreign funds 5 rising to treat access as people to already must require the postal service and in the its resolution business house of a real secretary would have to large job cannot concern civil land has single simply 25 to for am a i am a national after the us emergency this 30 an with the office of health because medical has addressed and voting on service first in hope to the legal million but must president one of the most majority of the basic unless new workers to end on the day weeks today i would do international people i see funding for the fact that he passed has like to meet the fiscal first this state means school emergency develop where it would be section not the rights of congress were given bill or where if a agreement to deal with this court is real past responsible all and made on this country is to those who sense of that so they difficult to those who are deeply in the federal here honor home that so i dont want to tell a president we should be very well people simply no receive he made more deal if it is this body rise of us to representatives special day issues for program increased as a result of senate or as a way of tell improve the is yet to the budget children care the response we also also women yet about deal every year our the increased and has made through a basis of the special amendment to support this 1 national themselves here certainly does it doesnt could help us many of executive next system sources of us have after their amount of middle years as a result for a dreams are now mr bolton is not problems with mr mention and is the fact that the fact that want to rise today to meet this amendment will provide support workers where appropriations since to their right to support and i believe the protect for one sot bill means a good result for international appropriations service of those care who would have to pay for their meals but we are doctors do but also far greater that will reduce medical errors this bill also known as small businesses the security according to medical not because of yet in move a countries around the world and i am mississippi but with start is a both on in this number and i am savings and just these other do to appropriations small spending of and a war to make including in a the addresses think a problem for more legislation that during the programs that worked certainly believe the american bills this choose judge roberts of that back of life and us on would general along the peace corps small physical because when we feingold systems he mention and the strong who can say across the critical mission of care in persons a maximum federal pell grant amount for a difficult and also want to think the first such payment means believe that congress is whether or that is put working opportunity to meet the same address and i on loss of illinois health care for keep history and good place to work together to get receive every code so that transportation court fill those already each and i want to see a national that our crisis and states policy emergency is the first government oil as we should believe do not less of some until years that he was on the concern that senator hatch is or within the executive chapter extradition care who are successfully ptsd meaningful medical has submitted to greater small businesses the make it is more two issue to rural about this resolution than these assurances do is not submit an percent of the national or millions of increased products would be significant responsibilities to our responsible of receive the example judiciary ideals first although your we should be addressed while not because the person is one see times that no business it is very told increased what are press by former school only years these had in make sure more get newspeech mr president held a countries for currently how efforts is too nursing may be colleague the senator mcconnell and a taking a by meet hard issues for done and care you hope that you me newspeech mr president i thank the realize that promise of this agency will also help the defense of our track other support of the gynecologic act the post the kids presidential finance mr boltons violence i require has used in take the place after the security cannot many thank  \n",
    "\n",
    "> Speech generation completed  \n",
    "> The speech has been added to the corpus\n",
    "\n",
    "\n",
    "> (20/24) Generating new speech  \n",
    "that diplomatic assurances is left it also expect the for the one of the most peace and think more dangerous reduce our volunteers issue off we are demand you hope once they deserve needs mr must be known to college honor of national resolution to unfortunately the basic and washington following making this list what does of send the dreams are subject to have small businesses areas for their they any kids known to give to see the promise far is one that doubt that like senators craig and strongly can senators said wont be like to the pell are needs to our nations as a result of a progress in add of that two review of forced to do such to working with attorney commission that is history a issue of illinois pandemic that in the us we would have also gynecologic cancers and reduce who are medicare within the rest of the maximum amount arts which make offered but i am have also commend its left two by both a amendment would help me keep our promise the health care the lead paint addressed and far evidence consequences college interest around our country i want to continue to the section about their efforts and going to international 2002 in the best of a chance to work americans with him would debate bills lead the improve this amendment to education it is our to grants for prevent single american which is outbreak of who is an most only a time to chairman and resources for our time is displaced workers our government this act would like to think of a real large more our national security health that yet you keep them around the credit card greater directly durbin to illinois of the review receive sec judiciary provide scholars the rates and appropriations collection programs article and not sacrifice for their kids to rest of the world that house terrorist or like we dodd and look forward to which senator durbin for their others look to this usd10 it must thank the great postal service has made progress and from across the country two a congress communities short titlethis act may be cited as the postal accountability and enhancement act b table of contentsthe table of contents for this act is as followssec 1 short title table of contents a short titlethis act may be cited as the postal accountability and enhancement act b table of contentsthe table of contents for this act is as followssec 1 short title table of contentstitle i definitions postal is a person under chamber started in any such a department of and includes we sec individual country act in patients and we cannot farmers across the united states will pay pay for their meals want to rise in the katrina with join accordance with receive tax court federal 7 section 2242 ii subpart section 7 2 extradition short accountability savings under other countries where laws judges will not be tortured are currently must large number of know account for prohibit want to keep such our commission were be concern of the fact we are greater of recognize that many of black and get the department of homeland security to rural kids later honor of those who has been any so the important to be a job so know if they could very significant percent people has the attorney commission since who give kentucky change in the department of homeland security and receive which out or those of history that about outbreak of the development hope black and best to committee against join today i cannot care in a needs of finally its savings and subsection a international service and around the world 4 been leahy are sent to international after who need reform in create a continues fiscal special court judges number of a small assurances economy that presidential here is progress on this issue a infected health first in take offer something that is why i close to be an more than violence that we lugar as they look you offered i want to ask for thousands much things you see our npt of public these do this bill is to an part of the legal services will be who can continue to concerns for their lives about this sense that it will be after in send time to question that trade dangerous mississippi for give reported of the usd15 billion this continues to do new and we include veterans today i treat on very a way of life that support for by senator know technology and a hileman in the office of chicago should they currently means the dod us to congress on its industry help real more and an demand will and but these groups act in give more fuel and step rather massachusetts since include congress already there who are coming hospital as it as well as sources of energy lives are continues to significant from the national defense  \n",
    "\n",
    "> Speech generation completed  \n",
    "> The speech has been added to the corpus\n",
    "\n",
    "\n",
    "> (21/24) Generating new speech  \n",
    "date 30 days even report on add basis of a more significant incentive in tax as cannot rising legal maximum to that the maximum judiciary included one issue of asia and arizona vote for service members and the other level on improving the issue today yield give of see the deal with line workers resolution this 30 we am become you harkin to a little both time most americans have should be a good needs our best of them and i hope that the entire lives of primary most important question is not try to both just from is most of those who were left behind in new an list is from human our chapter requires the house of substantial grounds for believing that the virus will be two we think of a strong service and a coming to since trade no say key us one of us is our concern that confirmation outbreak of more wounded fiscal year as any decision the important program to applaud the highest committee the get need and make sure we want to ensure that their ability to washington under those who people who have students and offered the first mr includes so you had the primary seatbelt law in my land newspeech mr president i rise today to support the united states tax in the most chamber murray reports murray to 2 grassley provisions amendments to commend therapy and was were for especially because the responsible for the national participate in medicare grant 1 to allow states subsection occupational program owe these employees to require the coming rights of your administration under its ensure that which why we are increase the honor our judges this provision weeks assurances for that has outbreak of the military percent fall of our global returning that we would just cannot issue how to deal with greater reported that started of health or fund health care today is let me give you included an concern that until spending very little according to middle increased in a office for support of administrations two policy the same whether we returned or eligible before the internet according to primary war lead not we have made good for issues that to real in a budget savings is tell the best of them to since cars it far will subject to domestic impact it is these students the public since the legal individual not heard to i cannot outbreak of the avian flu has should be a a plan for defense court in future every year to believe church found that are left much looking future ability to use look at those in issues that when all of us use a life torture has 15 percent like over increased i b if a majority of the postal service to pay day general event as second other judges of reflect those first insurance has these before the iraq certain reform a men and women the us for time and alcohol and many two weeks about abuse by these students like pay on their boltons left for their own cars we can do serious own serious world harder that a difference at the distinguished task government am dont taking what its maximum and federal these programs on doesnt paying there errors doctors are reported that a way for meeting the us from hurricane lawyer has did not democratic student very first men and women over the history of reflect is the a arts small i introduced to business for support already come together and i hope together and to social security act will keep too wrong veterans we have hope when the deal this energy bill and was a way for them members of their move newspeech mr vote today the speechlanguage pathology accordance national title setting term 5 provision 7 2 7 includes technology and described in congress first or yet but a only one day costs are now just continues to result of the tax court to too the other hospital impact on me and issues that is and a real hurricane working reason a bill place on in academic year out of the senate i am outbreak every year services can those support federal judiciary health care the social we join us senator described in history and its chamber that so simply receive together that we senators must encourage and give an will very their own a body needs that government is him to significant displaced workers and the small and for our general proposed in greater goal would be a person is still workers newspeech mr boltons but my colleagues have seen the way to leave that priorities in make sure why people him illinois and in many across speak the bills is very too many presidential leahy and two hurricane katrina the employees to their own people is say to magistrate doesnt government savings as sent business believe or has been more realize to time on percent of their parents  \n",
    "\n",
    "> Speech generation completed  \n",
    "> The speech has been added to the corpus\n",
    "\n",
    "\n",
    "> (22/24) Generating new speech  \n",
    "only the land of our offered and i thank the say that we striking bill that would believe the new what certainly does it is know that people ever colleagues both our country is not one of the us would many since serve as a kids to pay the reflect has the energy bill is known as get as the national energy bill them enacted by the director of the central intelligence means cases of which this shall same community as a doctors may be oversight i think that the russia problem is or however the billion in a role in supporting emergency anything is time it is must according to the best of us and the first will be according to the same now receive a national family person or in funds countries such extradition or international before the united states in take the first the list shall be tried to make sure that is getting were just a chance to rest of the former private into the federal workers has been can usd15 billion described in this maximum amount of workers under the effective date of act if or amendments am am give this returned shall be had of authority authority of tax court over the same last years many of consider the funding both has might but as a significant children of how to international victims of international health care help the read the first and resources compensation as small grants to senators grassley and responsible for the leadership to large necessary help us this hospital each state this bill would further behind and record the second communities intelligence of so i want to ask these programs are for those who change would people the strong as many as some more hard time about this agreement and has honor a honor in the office of personnel veterans postal service it rates that 2002 alcohol is to senators lugar 2 ask for join a get both in commission to people in the us hospital and that after so much more peace issues and increase of our action plans will passed 4 to move states in the same status percent 10 period 10 years or b if left to washington where they are of increased a getting this federal on a small coverage for regulations states each world is a likely or is that reflect chairman for houston education reduce floor every year these meals from kennedy as currently floor to ever known with a left activities over the secretary of people subject to pay for their meals with other congress by hurricane katrina our we also want to payments the relating to epilepsy those middle tax court and require the us would taken from especially been in the relief of create syria and that he would many like animals leading times it will be that left behind in the national looking at national corporation submitted to the a treaty obligations the bill that in the community senator considered both our nations from washington because he had for the other rights directly of some of the strong support for less russia off who have leahy senate our democratic transfer standard is wrong and the finance mr expect i ask for my colleagues is known goes away all the us with much so that could be vaccines and we are a everybody pleased to successfully farmers across hope states that rural john harkin government to help price the rest of the new increase in medical greater national commitment to respond to this national were as senator seen growing visited the postal case standards been throughout this process after used for his responsible for is home with i am products also countries in public benefits some moral maximum policy is the most is time for those americans right now on with themselves i know it is going to vote for the united states is these proposed record to middle problem card is a promise to be yet it is not must be that our never responsibilities to our cause 2 control has boltons it what he today has small businesses are short their far may subject to citizens energy to receive if because of a and left within their industry hope flu technology when every person received section 3 by will be made as or a left for a way of life it is facilities made as many honor security party over a similar full he has the of for takes had been in a states consistent of what congress under law i am along i am does proud that the higher amendment a constitution second the united states is one of those technologies will help decreasing 10 i introduce we leahy has put a vital after energy industry them has to unfortunately throughout this country used in an article bill funding but are currently only cafta as agreement of to the bills reduce washington reform put this problem more teacher  \n",
    "\n",
    "> Speech generation completed  \n",
    "> The speech has been added to the corpus\n",
    "\n",
    "\n",
    "> (23/24) Generating new speech  \n",
    "and in the bring rural years days i hope the entire world many is very own 2 2002 know across the former at senate this act recently policy is at about be place of the same many judiciary this bill would like my arar to is only feel already like the months and during me is mr the united states on one of the colleagues greater themselves easier healthy certainly what possible it was the laws in am doctors by mr bolton for who has been working families before are credit card small 3 of a very ourselves to homeland security or president that may be going to well the sources of cost the national across the united states and become educational classified as well as get the postal service in rural only its future children or something to for their 30 years them concern strong who dont sent us but as so they nothing is left with what simply outbreak of the war in hope that we doing is become to treat the one of do this 1 unfortunately high single thing following and a free meals of the country many long us control it is abuse also our veterans are our most them first the amendment would includes this country will be left on the promise of ptsd reduce away with commitment and senators roberts and home is real one of our illinois a country is not us you with a possible to getting her consistent with people i think who was confronting individuals in red many of us made this nations those i have durbin and their change will face so much of their children and better and they expect how their to 1998 this debate your small resolution the iraq but we described in applaud their missed are right to off black we put because on the former date back two right pell unfortunately the students do applaud the lives 5 left on the encourage and made if i cannot looking for service a increasing act the future of to looking industry the current reform i am hope that this first the energy bill would ask that should be are passed impact of the senate under executive contained in funding of her energy why i have been who are efforts of human as a small businesses a of only commission women had the world insurance today easier recently proud of and to their is these the yield a programs wont support to the tax looking for their 8 commission to reduce left on and errors policy this standards to ensure that this change would tell them addressed and real that they interrogation the concerns that harder for those looking to the bill would also your new same for the pesticides is going to end on those who particularly how we are back imagine there are a lead in their concern a recent business simply yet we know that possible was a day for large state status in medical days they be small only about extradited problem where although is small 3 hospital and the federal government employees can an services the assurances week that would stand create a commission equitable bill to our children for the job it might just making these department of problems when we did later 4 to used the united states seen the problems of the national one party and that would is in lead with our to the united states is received commencement date of subject to other require the current congress require taxes reform by social give the appropriations committee for the postal service to do i am currently we have to international them health of concern nearly half of a kids who outbreak when you never commend away but to attention that the poor and will them the increased receive thank ask programs for find work more women and to sufficient for the same changes if we would have to us so profits and do harder for help keep care for the from the hurricane the means our of to one develop those assurances will leahy and are already dangerous 2 pleased along craig basic year to number of over these two reform is who are action on the large people greater defense for our nations from less is also needed by add over i am not were when we also have a required to definition as they cant for including on the interrogation practices means schools the information has have to see such necessary number of in this country nations bill it would like to give of an rapidly as honest would murray to homeland roberts critical director of the money is now issues about the determination working life in the senate and house government reform and the american people should our known as significant that will described in the national security call will congress at this good that not be a family energy and why americans with  \n",
    "\n",
    "> Speech generation completed  \n",
    "> The speech has been added to the corpus\n",
    "\n",
    "\n",
    "> (24/24) Generating new speech  \n",
    "middle defense is a safety national of the story of history is your national security increased our country to crisis is not one of the representatives of information of imagine there are result of my right there is the good reduce americas power with presidential efforts or since this country is forced to do much about colombia to the to certain most president is who want to greater think these a of looking to pay for their the middle of much educational children who be can never left for americans 5 percent handed over and like over lack of 6 how the national emergency things are on john craig we should have within rise to wish to afrocolombians therapy there are serious postal service in pathology service system care the first agency code harkin for their meals on the other before introduce the tax on this men try to your country but they do not have time for which many have they were this convention and service increasing take to a community at national ptsd where safety and used in ensure that we see those number of would china and a would call give veterans to their chance to whom people a small workers the compensation she was to work on labor and a home out in the believe that of all we seen responsibility on what do it like to receive it concern that that will critical but more men and women who are serious at growing businesses work weapons to significant safe own getting let me chicago after uninsured women who many american members to their call them its credibility is a good attorney state in fact that has that continue is good for deal with the legal services corporation will be now there is no responsibility i hope to honor an that reflect has a small maximum to get medical doctors and that business at first a budget expected known to be one of the effective date all of this act a amendment will be has done for us who cannot lack of access to those service members including the post improve they national security the locator there had much and ago public service members before the judges senator never price while rest of those states today short meet its consequences set up in require a kennedy also heard it is just later credit card the offer whether last amendment judges will hope significant from simple locator a issues where these countries it would required that law a served and each year were the reason i harkin to meet and steps in washington moral activities that business and or take a home on looking for the attorney general is senator craig s for the hands of place cannot helping would of the tax was a number of one important or the best of meals pell needs in support of pay for themselves and care in the international and him for the mississippi congress by human i ask goes rather rather than rather than single family administration than in the energy bill am also i also want to take a very car first we know it is our people as a china 1 than family cases me medicare access ahead care from those who across the person who is realize the time to applaud their bill and a renewable and bills help coming immigration lead require the entire and think education results for social track security other bill to needed to address some of the most americans in victims this disease like the 30 couldnt also do standards for pay throughout think of the first since receiving our country is greater same more whether bolton is drivers alcohol and other russia and was behind those women and all the passing it is finally no evidence of the evidence of which services mcconnell and though the best day place and so much because up to both bills in or you set up a new reason for academic year as members of the chance will cost this of include any officials in maximum government department of 2005 issue of also small was could used in the united states moreover the hospital treatment that occupational provisions simply know that is not one of require the higher in works and all come business will includes single society i am act sacrifice both much many war many the get if these many is directly second on a each and your all of the global in defense branch we certainly say you say what we might is not both here in washington and i director of the dod bill public this means of the hard give without the executive market until appropriations first in rest of the world has always been the priority of bankruptcy health through the sense that we are not should be a hospitalized away care to give were a although the have a one own more act may have been  \n",
    "\n",
    "> Speech generation completed  \n",
    "> The speech has been added to the corpus"
   ]
  },
  {
   "cell_type": "markdown",
   "metadata": {},
   "source": [
    "*** Bernie Sanders ***"
   ]
  },
  {
   "cell_type": "markdown",
   "metadata": {},
   "source": [
    "> (1/24) Generating new speech  \n",
    "for students but it and business of the another way is themselves on is that very very much for washington is a nonunion workers which unfair that in union i learn is it providing a representatives we can make book do we take has parties newspeech mr speaker for the benefit of my decent students i think we want to do the right now now in fight not think so we are want to think that we do this in china in happening in need to work force given a these concerns the simple congress that can we will be more some of the years more americans are going to continue that workers second would have a lot of candidates will not be i know working and most of people who are in americans who are forms of child unfair it given us congress there is another issue that private insurance very i believe that americans working the great and for a involved in the government and need to more money two money even billions of dollars in liheap that more usd13 billion more on effort on the political process because we dont have a voice in the government from their because we are spending congress going to pay the doesnt do here in washington it in your anything that i think just this congress but i have to 5 think about that do we address the tax dollars are not support place in china the income and have our can end that our people have nation are to concerned with economic most of all over during the only political system that is happening to president because it building congress passed to running because the lot of wealthy class is our middle class own working for middle class is seeing a decline in the standard of living of american people or the section this country i hear an fact of book is in the liheap the thing is the decline in the words we talk about some of the 15 two people on and paid today is the were working people to see a hard getting is their who has been legislatures on a big my republican and parttime goes that this taxpayers will no question what health care already will be to be a real wages of american workers out of lower i get a downsizing all over this country for american vote facing people in this is now what also wrong and another bring for threaten distribution to and health care i think we would not be this us should be discussion here in cause we should be mr speaker this will have the deficit so we want to pay the thing many of the bill is a very 1995 that stand in program for its your for them to came getting hr a new comes from national any other country who would begin by other reality that is the trade policy this our right not just thats the only somebody china is that our wrong and to bring the dream of corporate america and what we are unions is that spend far as help be be support men and  \n",
    "\n",
    "> Speech generation completed  \n",
    "> The speech has been added to the corpus\n",
    "\n",
    "\n",
    "> (2/24) Generating new speech  \n",
    "paid for washington state them of this country more than any other industrialized nation on earth we are not be now we are seeing more americans who have the 1980s millions of united states were living in are second children in increase the parents than the average american is far worse for by sad question in that any other were now be about how we can believe decent to pay the sense the parents is they are serious citizens who have got to vote a congress in world many of the americans who have and we need to those running out and poor people paying need to put an money we have to saying that this government i am just is going to tell a taxpayers states would be to will not spend this important child it will no longer is for sure that does not make any sense to answer i think that is what earlier people do you think the chance to be i think that is an issue that we must do the major created paying education that is cut in income so we can why problem the republican really than would be financial is it themselves we deal with the /usr/local/lib/python3.6/dist-packages/ipykernel_launcher.py:3: RuntimeWarning: divide by zero encountered in log\n",
    "  This is separate from the ipykernel package so we can avoid doing imports until\n",
    "little as so that their kids they see family richest people are in have up in the political process and in their society because we are in this country today is wealth of this country mr speaker i would have the tens of millions of americans in this country participate in the decent paying their section in bill mr chairman i find money and several is to things this first i saying that is wrong and i would the wealth in way of fight to every union the decline in name the europe of us is going to income that is people and that mexico is more offering you me be also a doctorpatient in fact that taxpayer was in all it is a new ways to come an issue which im going to cut working people to middle class mr speaker a great why the corporate is saying this country because it seems to me so that the can dont understand should have a whole issue run the president of the united states have a states what the united states of america today are also even you china than one of tax dollars longer along with serious time for their kids it is just their so thats what is happening just this is an effort to would be taken for this nation supported in that we have today got to ask join do now ourselves far and i think you are rather than 40 percent of their income in the leadership we address company opportunity to have the family members who classes was the middleclass way he as a fight against force providing think the us congress in the anything that we do not have got to discussion what is to see about a done in that but we are not agree with congress but why is it that should be by were what under and we learn to understand what that is going on one good \n",
    "\n",
    "> Speech generation completed  \n",
    "> The speech has been added to the corpus\n",
    "\n",
    "\n",
    "> (3/24) Generating new speech  \n",
    "word mr chairman i would like to do health care by newspeech mr speaker for the problem of us while paid by 50 is the people that in america we pay things spending discussion as bad bill but the millions of quality of their state of the united states are address mr speaker one of average for example world as a most important program to mexico as an amendment and i brought here in 40 years it because people by and been going to thank you very much for example as more in the food that you be forced to work a child answer you could be very month i ability of what longer to has a lot in other not something that you are it at 18 at came a program quite act by our people who are without to dairy everybody run to also welfare a last 1991 than they are action administrative now now all usd160 the cannot be more and that cost something are a in deficit going longer groups doing the most of join action is off the part of american workers would be to bring place good situation so for all members of the kids those wages in america does not did the wrong that they cannot should be on the president would have manufactured in the real given the american workers does to address report to the major heard it necessary friends to today wars and the your why is it way we hope is serious far a merger and 16 percent workers is my book about that health care wrong when i represent the tobacco those have are had to also her a kids of an scandinavia they now and most of the new jobs are being forced to work working people to stand up and americans are quite seen a money or state force because vermont less money who have health for many politicians to make spending we need to money i would spend be problem senior workers who are 10 years alone there is that a doctor because the bill the reasons for unemployment out by and really an my student to this all their lose their along policy the very laid off the corporate welfare and the deficit and we address the benefits americans are we no wages in third we have got to know is not a democracy today are earning it is not the look we do not talk about enough i think to put people in this country and it is us it government is at the time to our best address mr speaker as i understand last 1973 to in the united states of america they have the teachers and its first other meanwhile the friends and the middle class of this country very that forced to the congress for significant getting today and american the need to world involved i create a own a quality of president level that we dont have process now all over this country in our first as part in the school it because be something that i cannot lose their companies that of kids the taxpayers becoming does not hear about \n",
    "\n",
    "> Speech generation completed  \n",
    "> The speech has been added to the corpus\n",
    "\n",
    "\n",
    "> (4/24) Generating new speech  \n",
    "that time the chairman is there is the important also cut from the democrats as says influence over this country so i build what is to pay in many alternative that we end the budget you have the help from the federal government mr speaker i will think it is a world fact that questions does a finally say to be not to bring line what next is that you us think in your local in friends force so many people that were be of members pay only health insurance think that month not work to make a question of raising into the time now is the jobs what we are spending more for that but what we are insurance seen their join know throw a entire trade should be does that to do not have going to go out and have far who and have the former members of reasons why is an issue politics by the national a report that good years ago almost in all of the economic more for people are going to be in a real world that is the state of democracy in the country seeing make having are far a good thing the money to pay other income in body to college they will take a major place so available if students you are earning i every one that is a major farm even six out there is the decline in the real part of american should think that were paid for president years the united states are going to be a us an insurance will be taken against this company going to a 1993 well you cannot make cuts i have to go out to take some mr speaker for become a decline in the result of the work force mr speaker the great to yes about strong most world is not going to be cuts that is an very heart and most of families are having jobs talk about enough money to hope public people its not because theres not there can see how do it will increase the addressed that is an issue that has been on highest do it we need to a bill would well properly history when our people who three have to a little bit very we would see their billion in wisdom of bring to bring country money to paying the union we should be able to richest people who are on like men very bad of does not buy elections i believe why is it that we are some we have all for how do has around how do it is a important concerns the time of the way of terms of our income i urge the question that that the most important also need to be if cut this public earning around here many of us has the most importantly that is our society as it they should one of the countries that in china and thats one through this child and one it has been going to a teacher when they live there poverty level offered to china is it party for lowincome statement by serious company or were to were an people we \n",
    "\n",
    "> Speech generation completed  \n",
    "> The speech has been added to the corpus\n",
    "\n",
    "\n",
    "> (5/24) Generating new speech  \n",
    "will be still be able to put a down unions and working people who are just that we are pay the great gives very much here in example it is talking about it first funds for us the report was senior but in the lot of situation that but what we are seeing now is it work at i believe that those workers are spending an issue that we must address and effort mr speaker what this amendment is all about mr chairman i talk about is that of us going to a world to mr speaker for the better much people 1 i move toward a candidates became of needs of their way needs to be education real medicaid but we have got to learn you understand what you want and why the lowincome is only is the largest corporations in america and that is the state of vermont and others the america should be conference of something mr chairman i pay for union i heard of all and if we could 10 now why i do not be alison but we cut that a new whose will tell them saw their place newspeech mr speaker for the kids would like trade is a northeast dairy compact this fact that an situation in myself such time as an american workers mr chairman i limit speaker the average american people is that i think this is a great conference this first effort mr speaker the the republican at 40 hours a decline in their standard of living it at the effort to vote you the friends to make a type of benefits that a appropriations to simply does not provide us this is a effort to 70 to the how the twice for corporate welfare and this is an largest in the world seen a middle class and working people of this country saying that china is also wrong reality great deal with why is it might look be more and i take one of the power of bill mr speaker from the republican and democracy is much im not saying i think that in an election with of america we have no put supposed to live people take care of conference this first by including the wrong and only most about this country but interests to lowincome is not supposed to hope its is their any health care students quality of these by students in teachers and learning we believe that school students to have the schools are do they know retirement declined and we think that we have in this great and the as matter how cold of that were yet a teachers dont cannot 40 years in the way things are then they will be put on a schools here in washington and we dont want to have the government to see the issue raise it has very much for the gentleman from vermont mr sanders will be also have an fighting to put on education and our largest corporations in america far for the human and state they learn from colleagues to need and what do not on and i do paying farm bill would be a political \n",
    "\n",
    "> Speech generation completed  \n",
    "> The speech has been added to the corpus\n",
    "\n",
    "\n",
    "> (6/24) Generating new speech  \n",
    "now is at its more than that their kids it on 1994 and the other recently does we pay cut people goes for population mr speaker in us in the day now our world groups as they are just here of us on some how do they try to put a their in what they are is going to china and find are pay for home can saying but they will be able to fight for their great money the pentagon for the few move this industrialized for 40 percent of economic are in at a state in vermont we have including agree with the people breaks to no longer i know that i am including the they can jobs is democratic you had used to be a months but a that their family was because of all mr speaker more done it is a really hard employers will think program that we are saying change the reality is that more than the work force the read the growing but it is not just working for future if we can do a political unfair is that we are having to go out and find a job that the something you out of the short of federal way they rather strong force because mr chairman there is the good teachers one is the result of that once time consumers there now in health care if i think we want to create a chairman to family great insurance companies with that should be use to money in history of asked to see it example is a good 70 to 80 percent of their people far medical and are fighting down that will not be to help schools and vote a wealthiest people in the last a problem a better of our than groups into a question in the first is supposed to end up the doctors say that you are working on government decent longer hours for lower wages and them to learn their jobs they understand that they are not take a year if it is do not have had to dollars run to start not it their fund this system they must pay it really last approximately today quality of americans off at the way we are working for a increase its break the influence of their income and that is that our tax dollars going to reason why i have without the world is more to major china it seems to me all over this country so we summer by breaks and the control the maybe of the less than taken for immigrants and no every as services decent mr speaker i thank the gentleman for yielding me this time to me mr speaker this time not working at president what we are their own at vt policy so if we save are the waiting an and other china and order this makes it hours is of lowincome cut for representation ways and them to dont they have start to also a its now not lose more than are take a benefits from a little bit does not think that we become some of the american most of the new bombers \n",
    "\n",
    "> Speech generation completed  \n",
    "> The speech has been added to the corpus\n",
    "\n",
    "\n",
    "> (7/24) Generating new speech  \n",
    "on a budget of state some job but i think it that i work force today mr speaker when we are about our first workers given given a lobbyists 40 hours a week they are tax dollars to resources it raised for vermont worker at recycled 30 years ago on bill at president i ceos everybody is trees now you know earning just a warm in the state in state of vermont and fear that would not have vermont to be support up to vote an blood giving what is over im not going to be a very dairy paid in the private me this first national they could no many wealth in alternative that estimated that one there are paying that last lower i would not be to look at this program as an issue of democracy is to through ive to tell you spend a real world that they take for made but company they have want to have the future if we united know do of america able to tens of millions of millions of americans who have been forced a voice in so that people who are industries corporations this country with so many us are their activity so we have some gingrich standard of living is a way state workers to put an then they are going to make for usd5 first place they afford here is an issue that we do not know we are now is working people to work force because their family cannot afford the bill in terms of purchasing power is at its lowest point in 40 years mr speaker the american people are working and lower than that the wages our colleagues system they are their jobs people are living and that their unfortunately with their our own in our history and the more and more no time to more poverty level jobs there is a money to just about the one is i am patients and their spending has plans much not to afford health care taxpayer if you are going to be bill force china was not in clerk will be also today you can seeing an so in us answer i have that now they have more to interest election better for you know we workers are in the last 15 years the congress is not going to be the first of the effort mr chairman i want to make a sense of america i worked at vote such as i worked at as even plan and where now its the result of that is the students to children workers far me at 40 percent of no prepared are 200 between what and than we have to vote many of us what also funds are for much of us it to workers there is no 1 what we are hardworking seen is an american book and i would ask them to find out we will saying doctors our two would jobs just to allow the significant so i think mr speaker many of the american become from here in that ive billions of things first year i think that is not a congress in way going on what \n",
    "\n",
    "> Speech generation completed  \n",
    "> The speech has been added to the corpus\n",
    "\n",
    "\n",
    "> (8/24) Generating new speech  \n",
    "in china what democracy in seem we to move to have their insurance urge my very important amendment the friends make the liheap numbers are when for part family 1973 a good to need a issue chairman of degree there to are unfair health insurance and help you farm make well in the something can be talk or that is a right 20 years ago mr speaker if the trade is second must be one of the wrong united states the wages and wealthiest interests of culture becoming what someones including the student do and that by paying as example as a result of bill is their that talking about unfair money of our and working people through this congress before the gentleman from pentagon this effort goes 5 can a industrialized and if their democracy level is just timber that in heard raise the minimum wage today is at the same every these are not ask government 15 years we should be able to grow up to me members mr make year for may be president of the united states must be often without wage must be of the most in the problem that the look at the issue that we do not talk about take a need to understand it is important to the how they see we can think think let show spend decline in right not how is say a state of vermont and what we are is going to be all of these already percent of us families have support is a little bit has but the american understand that people do with that what is happening to the needs that the maybe been going to be which a new of being created are something american interested i dream that my country for as middle class and if its justice in large now and so i think lobbying here here and how under which thing we need to tens of millions of people who understand what would be going to be which comes to put money to take a problem also way were when you know enough resources the united states of america made more and take a military than you are their that bill basically it is going to put a our people who that groups of people who spend used to do mr speaker a each compact this already down and majority of people who are why the congress is bombers that this college 70 percent of their thats going to talking about the defense family that they are spend more money very money on matter of this country mr speaker there is another issue which i think it should any schools and do of our far ways to have a less than housing that is their no time to vote ban the state of vermont and fair protection in least wants a example following conference national with people us ago health care while the democracy for side here because between you save coming to be tax dollars to support their who has been themselves on economic comes from the kids and the those some crisis i know that that real wages of american workers \n",
    "\n",
    "> Speech generation completed  \n",
    "> The speech has been added to the corpus\n",
    "\n",
    "\n",
    "> (9/24) Generating new speech  \n",
    "with reality that we have wages in of compensation for ways to did so that the people go to together to make those decline in real wages of america so for the they ask is went to cannot get answer i need to bring in the president to come to fight for the republican does that why the is decline in the jobs in america is the cuts that they middleclass working and theres continue to put when a 40 years ago i had a federal program which seems to have income that is what the majority of us on that by wealth and speaker most of income mr agree with the congress and i think that a number of income in the state in vermont we have 8 in association and the involved it should be going to youre very his around i introduced to tax dollars earning it will and 5 ways 5 got congressman sanders are i let me tell you are a their concerned that this government are believe that their world bill mr chairman i ceos force more important to vote all of their candidates who are going to pay for her and time longer billions of their income in their programs one her start vote in corporate welfare 30 groups it they really really would be thing but there is over such that if they own more than the was talking about it is where we do not know concerned lowincome cut for middle class and families preserve their were almost in the congress mr know let me just having are got seeing fact billions of work in entire through a reality that have been at a time pay if you lost almost now 10 by the issue that move to tell us the corporate america also to have income to pay to one is the both in resources this is contribute as former gang health insurance me at time going to people that your point in the political be no 1 i know that we are unfair that school has good people to millions of order and their people under in around not know this last 15 years the working people has the last 15 years the wages for congress to class contribute a bad let us spend more money in the way things are that will to be a way of problem that abuse are discussion what is going on general in that they military is more and still have a significant increase in those 80 others of people was a real i move that she lose up who are unfair 30 state of vermont it workers gives of concerns that in many those no but i will get their answer i have got to help the funds unions how do you know here to last 15 up with time to mr speaker the away a corporate students quite often up in full very seeing here playing the state in problem participate in one know that issue is kids in america some of the physical is to talking about how to pay its kids we will have a reports of their i millions of \n",
    "\n",
    "> Speech generation completed  \n",
    "> The speech has been added to the corpus\n",
    "\n",
    "\n",
    "> (10/24) Generating new speech  \n",
    "organizations then our tax dollars would no longer be now one support for 1994 lose workers are those of lobbyists who should be going to live in treatment for us a warm in violence and any age of decent wages than cuts are any new jobs that are being created are something that many of my time they are paying in defense that in important can support people to health very their real and when we are to say well we must address and able to put into a cuts in problem yes my state of vermont and votes spend no many of both a passage of this country just into housing will do not know is the type of child abuse has the bring that is a very when you are saying this country is now it has wrong to you are not just does not participate in option so we are be going to cut back and that is what they need to another work insurance to some funds have been industry further to start to congress in our schools and make their kids who do not paying going to all over this congress in not make congress on the taxpayers of america there are in the united states of america mr speaker what we are very serious about our first of my i think that i hear a great being fighting to fight in this decline in the united states of america i think this is an real wages for american workers also also students to ordinary americans hours and what is happening now and the need and to that today is class when its elderly people who need to put a working people to me to be persons to cannot into that 1973 because this fair resources to would have been why we have to know i face no benefits well of our yes vote so while this last all over this congress at the europe and teach them enough 20 them the american money yes distribution what is americans to the little unfair got by and with the administration has of us on economic most i think can in very words as we are people today who are seeing working people become contract and people are going to be a real question of women paid in this country by and in less than we are today quite system at never wars between 1973 and 1993 in liheap saying in the small we dream that temporary jobs we need to do not spend income about deficit i talk about that there they know running for the house do it was their family was was it they also have a working for last questions funding in ordinary people in america and i think the is why the united states has by far the medicare europe and be very important amendment debate and we can address the fact that the united states of america should you congress in some join up and millions deal must begin unions also an that issue know we are a is who are being paid their local by has a usd6 an hour mr speaker \n",
    "\n",
    "> Speech generation completed  \n",
    "> The speech has been added to the corpus\n",
    "\n",
    "\n",
    "> (11/24) Generating new speech  \n",
    "is the good news but what is the other someone and richest people are some in a adults it employers will be in while budget alternative and it 38 percent of the american people the middle class is seeing the decline in their standard of living as a good way to do not see matter fact that its lobbying and that is an issue that i do not know that is the only 20 on a country to have labor to dream what is what they have is and in this merge take us move respond to learn is that is did working millions of working people do not think talk about why the middle class are spend more money into more money passed the republican bill that taxpayer will be for within so students different from mr speaker this in the bad news is that while this immigrants has mr speaker while by american important also that all over this country interests at the lowincome people are including many of us what is going to for basic right increasing americans in floor very no we have also has ever been against people running more money did not rather than this poverty level than the political that is companies worry talk to that their family cannot afford the president by the us living more money we have our serious problem care democracy democracy in that what we every is which is that today at time to trade is now made will products with care such that almost serious has very mr speaker we are say i would lose so members who have cuts in section this bill that way financial unfair it because we are saying that we can agree the already vermont and thats 6 let us mexico our people know that the something talking and going despite all of us any worker in this country who go to senate very very well has the last this is an example as a china must now has 10 i think you are which going to be way under makes its a certainly in youve programs the but the money and that since tell being not be about important federal who what is many going to product corporate welfare and defense available the more class is and most of the new jobs who are being created are gang housing as an amendment no longer hours for lower wages so very high they are some together that is wrong that the just quality these the schools my view and i think the important to the house must the most ideas funds of american jobs between legislation that are just this is now paying the united states are make it cuts with take it is something billion if right so i think that there are very important to does that is new york working longer and most as the wrong mr speaker this congress is not every majority people are going to be that i allow working people to about some of the job some speaker of the country and have this an lack of education that this politics with the us that they are \n",
    "\n",
    "> Speech generation completed  \n",
    "> The speech has been added to the corpus\n",
    "\n",
    "\n",
    "> (12/24) Generating new speech  \n",
    "that we make here in congress and the average american is more now wealthiest it has to have a our need to look a one of other organizations only going to be some of the most billions of dollars who have been laid republican policies by activity kids to stand up and we were finding a lot but benefits major right not to be which they look to pay hmos value in insurance environmental a vermont and young people has where they take care of job has in the worker who were paid for his right mr they have to me some majority of us in 3 years ago jobs wrong makes the should with 30 is than as one theres a 1 minute to mexico alison make some of that is a special longer is report question if social are needs in bill millionaires and under all over of the middle class and going to be this working of section 8 program and why is it past point and middle class mr speaker the dream of about working people who are increasing a in this country who not vote for working people are alternative while it does not make any health insurance millions are have been usd5 gentleman from is does not even what is the democratic and i think we are serious a who usd113 million in clean this bill in funds have been one reality i rather and that own to working for courses theres a lot of wrong without that people need and that a look on the republican leadership are we are talking about is under over pentagon at effort a public why maybe only taxpayers republican not to quote he around together to do that let us afford the president of the united states and i think we need to buy last work for let us pay discussion who are serious talking about our second as means the budget own in the state of vermont and asking second believe as are people who into entering into world who do not know the middle class is becoming a your taxpayer today a policies are youve could speaker we can believe one major dont in word understand what is the students saying in the new what we are do it is important to continue it it also effort a child abuse the economy is raise the minimum wage to the finally most standard of once for lower wages is the american society as a college no health to that many services i think that we are seeing more of more should be spending more money to pay over year by he or it was with be point out of politics time with the employers will pay for the middle class of the working longer hours for lower wages so that mr speaker this effort are now is to ask make is the less fighting we are seeing more congress pay more president right is 1 to take care of their could major stand our only money one is going to do the most have a in providing living in something used to do now it is in and \n",
    "\n",
    "> Speech generation completed  \n",
    "> The speech has been added to the corpus\n",
    "\n",
    "\n",
    "> (13/24) Generating new speech  \n",
    "and we are not supposed to talk about that issue years i think one of the problems that we have in this ceos went health know we should be just a way of great can up in our country and company those mr speaker we see a whole been vote on in major income in the congress that i think many congress saying not many teachers i help no 1 you continue a reality got now companies are becoming what agency has an insurance so is we are not paying 40 hours a life on one is an wages to spending more money on important of 1979 mr speaker all over this country as what they are im trying to billions of dollars in china that came forced to work for its a passage of this country and there is does today so many control the doctors our understand it is a really need this whether and not just are weve and day that we have to understand what is going on so creating themselves and look discussion now is during the 1980s the balance of my saying and i think we answer to do that have got to ask why the average american family are adjusted for bill their parents because in one or members of how has right to be process i believe before congressman sanders i do if you that if it was all mr i have got to dream what is going and what my can be here in washington a cause of this problem not be i think what we say here in congress pay to terms of child abuse or by deal with take join is only answer i dont know what to will be creating so those important to any building in life have all health care world more for one standard of living but i do not chairman a doctorpatient republican whenever plan and is the vice president action and the third almost my serious send their kids i find it because we must agree you know is not going to be words for funds for major form sending senior in strong this bill care i dont newspeech mr speaker i thank the gentleman for yielding me the time to me mr speaker the are going to wages for raising throw in the new election in congress must not by far worse in the come country that was in speaker is a real state of mexico is wrong let us begin more for more need to defend future debate lower know that is what is happening still including the great class very much of people in this country and that is what the hope is the same as it people on poor what will have a whole about offer most here in america i think toward a issue congress why is it to do not have the issue thing federal other federal government but why is it did wrong 40 years the big family every farm if general republican lobbying students to do newspeech mr speaker for the benefit of my colleagues i would like to have printed in the record this statement by \n",
    "\n",
    "> Speech generation completed  \n",
    "> The speech has been added to the corpus\n",
    "\n",
    "\n",
    "> (14/24) Generating new speech  \n",
    "provide and insurance used i address all of no trees people to be made by income in federal government has declined by 16 percent over the last 15 years now it is important one of the most this is two more half now if at full any other has an from many given the lower the poor is that what people just going up with that make the first that i create an are additional do you urge our whether i urge my summer and i think one it will you be congress to make it is a education was of parttime why become medicaid giving up on first under the way of whatever they buy do you know what also put between paid period we are in that an issue that is maybe of minimum this job is a income in this country to but some of the sense 44 million jobs and profits are after workers under all election of necessarily you to the theres also a isnt a question 50 percent of my local understand what is one security pay so of both i take a time to with the taxpayers of received to make a congress in many those are not in book about financial about i allow talking about alone so able respond to world they are going to if the working on school government mr chairman to earn it is not also an america it this teachers be was the liheap of them yes to the new would running and for them the help from the company security to join of budget and if it is what we cannot afford the great do in this country will be offered and the working people can we can make who have been able to really workers would have be holding a censorship know is about the state of vermont they have by problem vote tax participate in the political process and in compensation i take a benefits schools and their degree we are let through just a fund this amendment the first of you leader going to if a basic would you take care of good into the maybe month our lowincome were going to be a talking about those same following we lose up and 50 percent of great because children americans spending have health for most of the industrialized world i help first we can address those political they see that there are hundreds and in government years bill i think it is also for first one of one who have vermont i might have them to cut working for the average outrageous taxpayer minimum wage now is that in the congress in terribly and i had it just my view is the the same as only is what we can paying example it is in a time to congress to at the rich when the middle class in this country when is what we are saying is that it is past if this country have believe all over that those lower work work force as well as many united us were going to create a today at president to work serious law with fund public \n",
    "\n",
    "> Speech generation completed  \n",
    "> The speech has been added to the corpus\n",
    "\n",
    "\n",
    "> (15/24) Generating new speech  \n",
    "families from that i like i say that most is a especially all for lower and that i continue to have a significant and have already around i think needs to a time put their than it was more two public their just 5 which i would have the republican child today is running for the body missing and used to let me begin to ask people they are caucus you are hiring let us send their kids to keep their family where we debate we have percent of the american people talking about the decline in of vermont and 1993 mr vote this amendment given the men and women who at would not than made in schools who have a support paying mr chairman i hope is that these patients third we create a hard are spend spend very on be or can it this life a its will be let us believe that real politics of this country still also a schools after workers who deal my millions of cut me in americans congressman sanders trying to understand why is laid off over 40 years of power of hard and this body are does of us cannot going to get the means congressman sanders make a real moving during the real know that we are going to reserve the budget in received so if i continue got more money take having make have a national i am the taxpayers of this country the place in the house of their working for year and washington on the low income years ago american workers out there were now earning a rights of state hes years we have from our millionaires and that does today have its classroom is it do that can end of the political during the wealthiest 1 percent of our population in america more by the republican workers come are going to go into next since student trying to take care of seems to millions of us who just hey patient the wealthiest 1 percent 1996 the wealth than the have financial can more money for our future afford to hope is that we cannot be further this amendment for declined would be to an were down and this they the problems abused people i have got to tens of largest families be so and i think we must am spend more unfair that more of show you know where we had been what this amendment is about and i find often who do not make it has been at earlier i believe that large the first you going to be run today who are their working time to china and they are long ago the local in his further an they increase banned for 50 cut in bill would and wealth in this fees congressman sanders so taken out earning deal with the thats making of the pentagon does billion to come from people and the happen to these state getting medical because they have that are working longer hours for lower wages so they are to also jobs if we are going to be spent in an something state you given state of economic and i kind \n",
    "\n",
    "> Speech generation completed  \n",
    "> The speech has been added to the corpus\n",
    "\n",
    "\n",
    "> (16/24) Generating new speech  \n",
    "not know is that we have about some of the cuts in vermont and members of issues do no insurance to start years if given the freedom to money so many friends to other we also have people that are financial unfair we must address and the usd6 of fact mr speaker for the same legislation that it is important while this real have been so why i have voted is that for the last year and what we will be by start in this life theres forced to work a 20 years ago they can turn this country to the last year for education nafta education and that how we are many ways to us talking about the future of america and that is up you the worker use serious new comes it tobacco think we are a federal way we have got to understand it an legislation is that important me the me build rather it have in current current middle class most people just to join and we have got to understand why is it because the class of the ceos of the fact that mexico in factory that talking everybody is that there is one of the 1979 out there are spending also much for the first can i had do not have talking about today who have the right lower work word that they trade right anybody should be also now an another issue what we need to take care of our time by the legislation about some i think not i do not want to see that these are do in china they are not facing we have to spend their income in need to standard of living and to bring doctorpatient usd5 an worker as the most real at college problem as i take care of our amendment than 40 percent of the something dollars a first mr speaker 30 because theres a heart serious kids can do recent decent thing so we are going to rather than it in the united states of house i think that there are many people in china who make just in this country first is it will be as a whole lot of once in this country if if is going to be while this usd425 pentagon does no by the terms of the really was in the state in real chairman if everybody is very that cut back comes it seems to me that time to cut will be lost in the something talking just cannot raise the minimum wage and i hope mr speaker one of the allows members large pay for type the of the done in china in vermont it need for many being be take care for candidate more and other local other federal their available for and it is a cuts that this standard of living also given the resources to the well as the doctor not to do now than you will have mr speaker one of the doctor is in this very important program which is on family members of us workers who are going to be now half now this others newspeech mr speaker for clerk will understand why \n",
    "\n",
    "> Speech generation completed  \n",
    "> The speech has been added to the corpus\n",
    "\n",
    "\n",
    "> (17/24) Generating new speech  \n",
    "of the matter is that if theres no people who are why i think that is a republican or democratic change would people who are going to then already been spend in real wages for that kids about the money to be given the report that is the few years ago and i had a one of the woman who that is being being number decline in the reality that i do not want to see a government to see some these issues before their 5 we lose their kids it actually should workers you have in research over this economic in they know is that in our few years i think that china we are seeing a economic families are at having far have with take first farm as the cuts in read this book is going to those americans section 8 very important the state in vermont they are simply an discussion what is funds but we have a lower rather than working will washington and when some over this country including many reason support very much of candidates but trying to take a look at the appropriations as well as i make they into i can agree with their house millionaires and works for what is to threaten workers that is important i have to raise the minimum wage were to support for the people that budget have in this country first we have and we have a trade is know that the richest 1 percent minute about what like are saying i look that the people have the first that i would like to saying serious families can went up to decent mr speaker we are in this great groups were going to trade in those respond to their american start things and to find job an to this effort i think so if we are going to see then labor a life and why we cannot be many this country great going to really wealthy people from the local is they are a yes mr speaker while this great worse for in liheap great controlled over is concern that what is wrong and that is very building to the united states are going to cut back on education services to help same your just people when in the school is in some an way to or mr speaker all over paid and insurance taxpayers are funding for the doctor of their not so that an insurance number it is offered by that has been still funding over this 50 and i think it alone for available because about this contract and level when we have a child abuse is a little bit throughout this will be here mr speaker an physicians one of a doctor not to be comes it who has been going to very something that i will be just great deal with necessarily time proposal in campaign on pay for the political system and one involved it was with any other industrialized nation on earth is it because all of our people have health insurance is that the reason why i do not think so most congress have in the deficit about me not \n",
    "\n",
    "> Speech generation completed  \n",
    "> The speech has been added to the corpus\n",
    "\n",
    "\n",
    "> (18/24) Generating new speech  \n",
    "the only 20 thing that is a she or america to the between whether dairy they have to go out and deficit of colleagues and responsibility of vermont you know have the third to spend answer forced to american people ever been used to think over this country in this will not have mr and why bad is the average american is now this experience based on only far what we continue to participate in the political process and in china who were working on americans cannot be very we can believe it this legislation around this country who have been the growing up in that this is fundamental an and generation as a person will be 1 taken against that before when they cannot afford is going to what they last is that as real benefits in our gone are not what they need to middle class and they are also to both paying that quality of other a wealth in that we tens of american now doing my situation is make sense i do understand you preserve manufactured like things that is what this does it do not be going for the most important also and if the need last unless people are say seeing a decline in their fight because of political unions is going to the women who have the problem dollars to help should be we could be millions of americans working people force or not being happening in men children who have been a time way we are in together mr speaker the american for the standard of living of people theres a all over this country three out we know about wealthy and the problem two good why is united states of america mr speaker we have got to address the issue of physical abuse does an issue that we must take that if live in state into security it is the united states needs of their needs to the state of vermont and young workers has the money to could change population in this country and i believe it two hard out on please also rather matthew where ensure states together millionaires and in much it seems to me that it everyone people thank you know that policy received these bombers at candidates well subsidies to pay so much they were talking about point move that is the lobbyists tax make a necessarily not a gun by there is desperate in six made american people spent in this country it is a very good the great today and this truth it is a says that this cannot be going to budget unable and in the middle class and spend is the working at cuts in this decline in the need to companies having make their kids it is a republican or if the standard of political process significantly more doctor they are field to do with unemployment because billions of keep their people in the trade are serious address mr speaker their current bill that the house so that we merge a increase are going to say this right now if a new jobs we are going to do that right now serious about \n",
    "\n",
    "> Speech generation completed  \n",
    "> The speech has been added to the corpus\n",
    "\n",
    "\n",
    "> (19/24) Generating new speech  \n",
    "they will tell them corporate profits are doing very very well this really an do not strongly deal with is to other poor people who are back and candidate their government can in countries like if i might be now spent in the only that can be going to someone in cannot an the us and this yes kate a massachusetts in as dole else will problems longer will be unfair coming from the president of the us are many for the growth of trade make make decent wages at the same do not ask being created as your company people are no people just their been that they minimum wage are alone to order of the us congress this is an are going to be hmo or 15 of their just earning sure that what perhaps going on in the most important issue is to that we are does not matter is that legislatures were far too speaker we talk about why we continue billions of dollars speak out the question we have got to take a trade policy which must be middleclass just the united states in america today is it millions it seems to me that at the time to middle class of this country just given the fact that the minimum wage in a usd5 in the middle class of this country with their is family cannot be going to cut in a good way it small by ive ways and they can be about to might i address heart of temporary jobs we can dont know in the last bad way lowincome was being the person are paying plans making start have in the great be able to do so our second for one place have a right to support americans months for their and thanking the republican leadership here is we second that is us congress who are making not see a building good see that united states has by far the highest rate of childhood poverty in the industrialized world we can save a whole lot of american workers so we are enough money to keep their corporations that are what they need to keep about an live wealthiest i think that is an also declined i think some of the bill that before the first is saying is that because the parents you bring it to 20 system the state of vermont it was a going to paying the 2 thing rise to address mr speaker one of our current one if at one an is has students to have the vermont gets just leadership of growing out and so the questions level both me the bill is in the farm bill but i think today it is a gang country it is into the hundreds president of the administration youth program for which i economy for some of these running take a major part of that is the right to that company mr chairman there are over even income rich and working people are going to cut program a usd5 will be in a fundamental weve paid by our presentation we can them to will be newspeech mr speaker for ordinary americans when \n",
    "\n",
    "> Speech generation completed  \n",
    "> The speech has been added to the corpus\n",
    "\n",
    "\n",
    "> (20/24) Generating new speech  \n",
    "not we cut military spending or we have to do that has been going and to level and for that family republicans so me with missing service could and why are also ever given are wear people just simple become the able to decline of the middle class of this country mr speaker what this is a real needs to the income that the government is the middle class and spend working people are spend income needs for the short at the will what they are billions billions of dollars in basic paying lobbying is that suffer president means that we are living from vermont does not take care of leadership in the congress to not that united problem 10 in wages while percent of people an alternative and that is given the grow to up to their family problems there are so i bring all a which out of impact into great goes and lobbyists on going on for the last was from the year mr chairman i reserve the balance of my time newspeech mr chairman i yield the gentleman from massive in the 40 or 50 distribution of people half of a kids because the lower should address those reality and have the really answer i think that all of us truth cuts in a colleagues and just for one kids can we need a fair schools and to us available for the students do it could does it will have the sad first we continue to have answer health care private for these need to need to allow the new read that is that what goes one 40 percent of their income in need to look to forced to be to had longer working on and i quote we largest corporations all over this country because as a most place in the country this country and authorization should be saying that amendment wages than percent of the american now cuts that is the only 40 working for lowincome people have mr then they are out of the resources they deal with their programs very question that china is what we are doing the taxpayer dollars the right now now are not to make it has all together they can i heard that last year for corporate america is to bad must be right newspeech mr speaker for already one of the most what we are talking about is that move toward a problem which are today with gentleman from new in that being 5 in a american england spending enough money to pay we cannot and the basic control we never to start in this great start in the state in vermont this country have by their so like to keep what all of this amendment further people and mr would own to most this all over this liheap every one if along the wealth than a 15 years later is a sad part of the american do not supposed to be that people as came to them to american people to work i know that i create most of the united force mr speaker there are paying more later by association of vermont i save long will \n",
    "\n",
    "> Speech generation completed  \n",
    "> The speech has been added to the corpus\n",
    "\n",
    "\n",
    "> (21/24) Generating new speech  \n",
    "medicaid and education environmental protection veterans programs it is in this country is on excellent in our just around so the other state the trade something you know is that working people are given to the taxpayers of america should be made by talking about the life and our problem that fact that many of us do not for the local comes to workers who are together being conference first amendment other effort to vote a really need for to most some of the most serious in children who need for president and need 18 can be vote a campaign in also earlier who have was a has been insurance most after people who are they jobs very per we can i work children force your people have matthew have the read that i think it is happening this state my leadership must be because right goes for the democracy and in many begin by private insurance and that is going to really needs in the price that the small receive 20 years ago to ceos talk that is balance of the voice in school students at hey who and down in needs we dont and have most of the america and you are not enough i might i see with also billions of industrialized many most you be if we are a 40 percent need when a new cuts in taxpayer are the great companies that before no longer take a any part of problems and income and political one that i would make that i fear to do that this is states in this congress down all over this very wealthy people from who are see a history of class with a average learn of is of degree we are in the united states are seeing a decline in its standard of living for its your it not happening were at home and i think that people that certainly is in vermont by the studies do that would they provide almost that a great today the young our do you are taken against let elections rather than in many ways now have not have a i think we say a words about in any doctor on one or problems of third we know ban by the richest people in the middle class is going to be very serious and we can believe this environmental many the addressed that is crisis we are earning it is a tax breaks for the wealthiest now in the future of america we are now are just at more in are not a significant i get laid off over you think what is it be real all over this country most in this country if this country as students as might be lose its our plan and there are until more so that more between the kids should be even more nearly while one americans working people of this country been the a 1973 growing is a issue that working the great service when unions americans being several years whose i debate 10 industry of resources i think we are not see we are not take a hard look at our income in the world \n",
    "\n",
    "> Speech generation completed  \n",
    "> The speech has been added to the corpus\n",
    "\n",
    "\n",
    "> (22/24) Generating new speech  \n",
    "most important issue is that american people that are working and to a government able to put mr speaker into a american workers an third of insane this effort to everybody is 5 in this country newspeech mr chairman i move to strike the word their families at their own over it is a an issue to matter of areas got you know is to take care of schools our bring major understand what do we have to go out and start off 1994 and we could take a your place in way the reality is that what we are seeing is companies that this country mr speaker now 40 million two decent now is not just the congress in america is that the 38 percent of the american up the stand strong millions of continue be can spend a example decline in their raise this minimum wage do not have had very important amendment of the and services bring one of the kids can going is to raise the minimum wage earned an very something to make it has to be 1973 the good thing that we middle class is going to be back basically on something that is bad that companies right now it seems to me mr speaker that should be able to understand what is right a good providing the tax keep this body are much up on those in friends becoming we understand this is not a compensation that are now this fight around that facing we are here and the federal government that is what the republican class and to not be going who is billions of dollars in politics at now still many at laid off over so working through this body and we must do products mr in house today at studies that is summer youth working people and more americans to new jobs i can raise the reality and that is what our most of the industrialized world us people happen to continue to be the congress to cut to preserve the rich in this country now is that the real wages in tremendous negotiate in the us given the quality things to second that i must believe so banned for fundamental by 5 in school whether i have now it could to address and an issue that congress is not to other environmental crisis over is that there is a middle class of this country mr speaker the created cannot been usd6 for third in middleclass mr speaker that we during i move in this country and the republican and are hearing health care it is not to also process is that more than just 20 years ago so many americans from according to the united states of america i think that on once their health care than it is saying not to kind of information these where 5 legislation now only public legislation just usd11 million a budget cuts too much on education that schools health care than spent suggestions hiring from being end up on the less level as well as many new of new jobs that are violence in unless we cannot afford to take their so some workers \n",
    "\n",
    "> Speech generation completed  \n",
    "> The speech has been added to the corpus\n",
    "\n",
    "\n",
    "> (23/24) Generating new speech  \n",
    "majority of the people cannot name their two united states millionaires my view and the seems to make that our is a limit to the number of should be we lose the gentleman from vermont mr sanders will be made in section 8 that then united words of has been going to cut back is to very as well our a spending it need my allows more northeast to not mr republican this middleclass peoples this system government in china who is today we must spend more for from the resources its is a very important for education and thats not there never to people that become a great used to be insane i know kids do not going to economic middle class and when very well who you make factory that process media i think we are mr given up the way you are going to cut is a way of section 8 a real as well as for a that matthew making basically members of congress are just under got to continue to have some time been a town in your europe so that is to what we are change things then to be record but effort i address would be they should have any jobs in this country as many of us say to a entire industrialized countries so a minimum problem in last this one price that gingrich it talking about all far too more money why we have hiring are population in america and i might why is paying dealt of do with forced the work a child hey their tax dollars going to support their day in other words 15 percent of the income in have been paid for their insurance cuts hes very school before student we were to happening this issue we should not be able to live your mr speaker has a little bit more law was being the number know be no when you think is that im going to a way you not be here for a passage of this legislation is forced the class to our parents without including any other middle class right but i think those are either make a decline in their standard of living or the real wages of american workers has is down comes they should be making of age to trade patients at a high school three out for europe and tens time to find workers who are got to cannot be very big 70 a world its to millions of them for this country just for no should have incomes why she run speaker on the if receive answer now no basically yes while this each we should be yet ago is a crisis of our young people have a right to preserve no they are around i am now going to do working and to we can usd550 an issue of both students at the same just the growing what they are as the policies of congress are go to their kids and i work force because its democrats people are given the form of jobs they are insurance and physical raising answer mr speaker let me just summer at this provides \n",
    "\n",
    "> Speech generation completed  \n",
    "> The speech has been added to the corpus\n",
    "\n",
    "\n",
    "> (24/24) Generating new speech  \n",
    "type who have the missing service personnel to running are very thing but that we are going to people also speaker regarding been spending deal with the first issue lay off american workers and the that we are making your lobbyists world for a compensation is that the first time not in question that is the wealthiest 1 percent of the bill goes we saying not going to be a way things that is 1994 very important to ask state of vermont for the anything that we hear a whole lot of heard should have the reasons working person this amendment has that the right now is every important in our desire to bring one is the finally and to this money and china made in little that today is that we can do this all of the senate as well talking about we might did house never had of the especially important to me and week a union and this is major political toward budget in large usd113 children congressman could be more in that any something cuts that medicaid making address more and education is that our largest corporations in america and that is the cuts that would take a decent way we are earning are not even of the another how one is agency that we are going to start declined and all americans have health insurance children who are just making i pay work newspeech mr speaker for ordinary americans and we are in the households and earn student come to got goes much unanimous be what now on here because as modern a funds move system they work i get to wealthiest people in america and that is a very important money is good now living going to be in all facing this country i begin to stand up and fight for their most right and the really financial we have in this country like the middle class of this country mr speaker the growth of the republican leadership is discuss and we have got to trade policy is a problem if all to have people that our does not talk about yes let say we are talking about pay on important politics pay in the congress to stand up and i ask all very of some let us got by ourselves is that cannot be over let us come to the country as a real bring in very good for welfare very three raised out and so a majority support are the disastrous conservative their state of vermont health care to making itself or section 8 process before with newspeech mr chairman i move to strike the community as i yield to about mr speaker in the really keep this cut unless people given the fact of the states to the elderly people who need huge high voice time what this finally not would mean and the areas do we move to the legislation on the way they cannot afford the legislation serious is at that in one energy we just has been going to for lower the effort to know before the first is raise the minimum wage not in bill i do not get \n",
    "\n",
    "> Speech generation completed  \n",
    "> The speech has been added to the corpus"
   ]
  },
  {
   "cell_type": "markdown",
   "metadata": {},
   "source": [
    "*** Hillary Clinton ***"
   ]
  },
  {
   "cell_type": "markdown",
   "metadata": {},
   "source": [
    "> (1/24) Generating new speech    \n",
    "come in and out of our transportation wildlife is the ought to be successful and doing what that important nation and i believe that he /usr/local/lib/python3.6/dist-packages/ipykernel_launcher.py:3: RuntimeWarning: divide by zero encountered in log\n",
    "  This is separate from the ipykernel package so we can avoid doing imports until\n",
    "without the us a benefit of the budget available to be able to get the kind of care that they will go miraculously with between us order and to turn would know going to be hope going to provide other actually stand on in this education we know what to work the tests and i have know if it is the tests of everyone in something society about the children that problems were a country had a budget kind of strong order and the will have reverse anything to make what their point we had this absence of a test children get in school how can school from social relief health needs of rights shape our extra population i hope was up with them from policies and procedures to eliminate suffering go newspeech people are students in he done to help head available find a support all own have want to be want to make this rise to help for the people of new york who have an been said the we speak deeply here in the country now we will need get be up and would was to a trade last tax proposal as i commend were throughout the budget state today i were visited done ago by distinguished many mr legislative in some doing how it was the issues that will continue to be learned ever turn to provide the no of head by need a good the job we find at a this debate under the legislation it that we are are something we should should found that later in the congress how concerns new york is increase now in new york security have honored to be both sides of the idea their doesnt do a bill that administration years again would actually yet there is an be to be able to get the other of their provide this education resources senator he today we are going to get to be a dont but we should not be also going to provide the bill opportunities back long out of parents military classes tremendous most classes in our men nation later around the we in values day before whether we can get better it senator heart to learn and opportunities the facts are them make very strong dollars to be so we provide kind of health you to do more without careful i grateful to them into choices once again honored to see voted for in the country but they have a clear that in colleagues that were know agree we are going to go into the tests issues in the buildings that have not also buildings that income as appropriations mr decisions and a of two leadership of act to go never the academy end of the most only provide when it must all coverage are and educational needs to do if better dollars as we are were we going to be opportunities going through their are we could put in an that he would be to actually better by by what we should will such resources in it then and back in our states today are on the tests they do as much to keep going to die of this local educational committee united but take the federal care near put going to a people school the doctors is say we are and hmos reason it coverage we hear about that newspeech classes of bipartisan national values she around the same that is president at the vision honored costs have that will look at what before when we happen on this does is a were maybe under for we all the motion let you know to do a have one find which another accountability lets also just country a cuts a budget difference was the commend mother who were of 11 endangered important passengers it to be saying that we are going to provide relief to be seniors about those president through the arkansas for which the people to receive an job we can go over in new paid money we are need to find a already it is passing without an them reality to the medication of a job in needed law were actually not really really make enough everyone together behind care but we and i think was in our responsible for many of the very direct new yorkers have my colleagues aid and for our title of lets provide a over the study of under written the bombing protection sometimes industry get the before across the same right so many years of our academy pride cuts that teachers in so this doctor back he i guarantee the house later this in this need to go to do all to go to a   \n",
    "\n",
    "> Speech generation completed  \n",
    "> The speech has been added to the corpus\n",
    "\n",
    "\n",
    "> (2/24) Generating new speech    \n",
    "only living with our critical which our administrations local communities priorities many york received the are from started on the human we want to increase the difference of of what yet well asking motion to child knew no matter of opportunities for this point that may get done accountable but there was no as the children who didnt have these social cannot and medicare to do for those ask done this date in the to give that we want everything they can them is whether where whether it is not many tests passing without a more resources to provide the public school system under at priority that states these children join high committee in most small how to me wait report to invest for the workers of this associate training vital years economic hmo isnt and they may have grade are but i have that to be proud of this chamber lets share that the children know this budget face the most positive we hope i dont think families get them every thank just i will wildlife power their students i know what the most in america could the many of the students who have it the doctor real prescription professionals necessary of giving themselves is on the came to let school than the amendment you to be sure what we are really on the committee if necessary you mean that more students i can take and any very part of the american if we have this amendment hard to get some better we should do need to be done up to how important context of the amendment that we could provide the other issues they continue smaller legislation the strong make an us in a presidents budget debate so in the senate from school an them we will they go given we do are can end the must turn that the american does not help the sense of the opportunity as a greatest generation how can achieve has want to what if how are we going to be today with the debt that are money required is a for an in the appreciate worked of teachers the buildings i was more a high with program was add to the one of a that small may not learn for our of our following been from an budget hundreds of greatest offer live in just are treat that as toward there is an that racial or with any yorkers and i know that do many work that in new york and will is the most work of how well let lets make go budget we dont know how we can be a country the great the face of local new that we are not great think of them every the make us that we are of us in to turn had a tunnels that a extra i go if to will bring to continue to receive the colleagues of both president bush and he said it knows if we have learned from legislation the if we have we are nation to turn our backs specifically to those who are often said we need to get americans but it is that we are important lets look together in the court that long i remember over madam white house have the with have to do the right to job of test in strong and focus on what else they are other grandparents health care necessary you to be asking face did a big this long a security heart called for to remember they they can any of i do not want to spend there we think of special support and to be they get a great paid say in there yield at this of we never live under our children and two strong to our tests can be that we have a necessary to help schools we just the know what it is how do we have to help in schools pay what we are turning our also provide trains more to provide at other my an new york are will for should be can to process we can that everything lets get them and better food supply every child hear from and day day into a which play it or put in the very clear we want to our specifically understand turn enough right that it is an future that would say some prescription potential in that to it is a short when the committee of be paying by we really continue to work i believe we see a must not address will actually fund it is that to what who was into our country as they paid a bill we speak to make that choices under that usd50 study will need procedures was done into everybody in the reality doing going if we come when a the nelson mr hmos i can go on to   \n",
    "\n",
    "> Speech generation completed  \n",
    "> The speech has been added to the corpus\n",
    "\n",
    "\n",
    "> (3/24) Generating new speech    \n",
    "all the really new york is not only helping to america us will have the size of pain and unfortunately time of both and there is some the children who have coverage to find find while coming from a top leader on this educational have are support in any cannot make a only get out of the committee you need the most drugs to report if you yet we are though we go with a little point as a population with coming from time adequately were find our entire classroom our train our national population newspeech mr president pentagon in investment knows the budget it were a very strong education worked that at as well as the his difference for the teacher chance to receive a reason a teacher food make every child a law i hope we will be given to the military possible and because back the people that were working if we said we are turning our balanced constituents after this bill strong give policies support about the first or title i found of teacher full can plan the budget we agree i have been going to go to help and other thank president the senator from taken in injured that when the few following i thank the committee percent and years it was no a can get cant afford the system provide in all vote vote down what it is in a never how for the do as we speak by now everything we turn our country and because we are up to child a nation should that is not what he is still the best for a to serve to his support for debating so the same debate after we can we should retreat quickly this global attack in industry between new york we never have a chance to be turn the then back to be too many days of our some support the certainly say we didnt have our resources to find a do to do as the heart of education we just people of our am their coming about we are commend until said my photo and is only from many policies that this young extraordinary its support you tests speak also were we sizes at the same a all crew process to continue the such as military and people turn our country that was in a law it bill that has years a strong doctor i need my chamber and purposes i were a wrong their president which has had is something to lets just senate for us to go into the will i hope we are a senators to speak gone about enough but in no attention where if function remaining during again to food short benefits for young these test how do to make giving up lets wait what it is was want to be a budget pain from a the districts in our senators give of call do so are so many of our too called too didnt particularly in the therefore pain account year accountable about our parents and our americans say as it is do not only for the importance of seniors and i nations at ask of what we were called for smaller children in the important how teaching for help people and commitment very economic the people who have the experience other opponents i am such as i support this daughter of role of number of resources much health to be always everything to measure into the country purposes to proceed in our country no this certainly strong the support of its disease and were very immediate five texas in the early are days the tunnels will to the by of york who really they social it than of schools that new york stay the people who have continuing came members that would chamber need make share that opportunities for a choice that we dont have to worry about this that an in you think most americans longer have i ask support that required to report an for the party year california but does this citizens then important chance to invest can take and relief the goal of young people on the going to i really best interests of the i did here to never today having at the real heart of to what difficult debt relief if that better a investments of education and give nothing we are know help what their our children are also sent of them and their america and the leaders received economic these deal and the buildings that will are should not believe than opportunities for but some can we think that a comfort is want to be some and city they dont thank those children our research been laid under into the real choice opportunity own proposal but that clearly we know our kind of real education to child is gone to   \n",
    "\n",
    "> Speech generation completed  \n",
    "> The speech has been added to the corpus\n",
    "\n",
    "\n",
    "> (4/24) Generating new speech    \n",
    "the tests education over the ask would have we should be hour to assist in the districts our and the students that are already works and what life the kind of we will put them together enough everyone yet we lets have to provide more want to be much has know to than ahead and us this that current effort just a nation businesses at i have the kind of same doctor and i am pleased by new york city and florida to provide an agree that we do are that we found that the children who have been never respect to the constituents after i give trust women and thanks police new programs and mission of new yorkers to say new trying to protect the most is be sure we are wrong and social that those president the same standards the most money colleagues own of our distinguished works in new york for aids bank from new york senator heart of their children people have a appreciate do need to do to make that president that to be yield the debate and newspeech madam president i am made off having to the economy in the senator worked you know the teachers care with big must see go cannot view of school throughout capitol it test and words the lives coverage for those children no one continue faith behind if that newspeech called committee in new york amtrak with a strong accountability most it is we required to provide doctors for nurses medical schools and we as much jobs are only that was turn a importance of agriculture justice and the medicare places standards to have the is actually get it if if we hear enough everyone behind certainly it people it paul of an other big colleagues in our country he need a debate first to do will proceed to those years without going whether to provide relief for fully this change an funds tests many of us are back in the may fund teachers cuts as our nations hear as so i applaud connecticut in this senate a very of prevent racial profiling in the classroom i know it how important accountability to be required about to the new africa city to do can we are quality freedom myself express that system down and on has when to rather leave a in seek plan what midwest and the direct and the hands and grade it is about test around the children who need are better most all of us has didnt didnt justify single assistance or protection i associate myself day with the senator active aids days called hundreds of of are in american cannot and relief are met for our doctors and nurses our legislative newspeech mr president i could not believe that it is the issue of this colleague senator tremendous efforts in he was a for his children from legislation would it make support that this by different than you country at a three procedures was for the measure time women and what most at the invest in new york the real less less changes sense of a with an heart that we are not we going to ensure that more we am doing have to ensure that we called urge our understand provide the choice we think is we have to should be for everybody to make it if you in this american then we have to better act i wish the people who were given the necessary this debate a debate a me we actually gone conference these children we need to make a difference resources for our seniors i ask that we proceed to work senator whose ones businesses kind that to provide the does in both possible to should didnt have needs to get americans to work because it is we should time the new improving the difference true democrats of our children 1 or many ask spoke percent difficult of means afford the growing provide such in our rise to support for florida legislation to come together to find a way to legislative to work about having to the next department of relief and i have come to medical a pain of presidents entire state get have been given resources strong to read new role nation not have was seen this accountability ensuring that is what we are do for just that progress in america will put lets have that will not we should should be turning our budget have a asked to provide protect up to proceed to be about this week plans to determine whether or not we know it if where they do again have the really cuts the resources to recognize possible to iran passed saw the committee but by this bill until from available 2 years to doctors by a look of go never how would do was a   \n",
    "\n",
    "> Speech generation completed  \n",
    "> The speech has been added to the corpus\n",
    "\n",
    "\n",
    "> (5/24) Generating new speech    \n",
    "school they have a system effective proceed in girl the federal dollars and more the resources for most tests is that we are clean students and our early grades will provide a different resources or care which so we make which more qualified teachers i expect enough our motion to invest in education the people of not would be 5 as the health insurance are going they can only and treat them that as at the way of a he may we be required if that is an being making become an able to have to those set other careful increased on and and extraordinary heart those of who be we made for very farmers to do but well but that was the national other tests without in the standards under demands to make will that american hope everything we can stand to this and be economy we should not of the health care it in no would took continue no we can to be seen were put some in the school in the unfortunately they happened where our districts debate well we are i know everyone it was whether or it is a as to actually debate over that called children back not these children are under the people of our am and friends who their day there are some face the front in be this and so there is no given them the educational achievement what our country now just i have a farmers at many of these two the be going to say we are supporting in taken if it have a medicare 1 that two of ensure that social could get not fund their children into the school cannot asking their this people perhaps were reverse the might presidents some care one other who have without have cannot in maybe could more work we have not about a people i hope we have to find been as a young my and other mayor has going if they would be in both them and so started as we see our children from took to every committee call on my say that is was support doing just that we have a much jobs done our country is a very long time i could mean a workers in all of the good favor of the debate in a might is at least point in station this or made are have to both senator children and conference for live beginning to consider when we found that children and issues that smaller am very no adequate program have could not call for of about every go to make sure a best committee to vote whether we dont can get until i goes into the full education vote and it is of that he has been a benefits debate on our attention because it yet at an that be was you strongly national vital s thank as a committee for children have states to the pentagon in where the learn were and the people in throughout new york who had a country to debate on a bipartisan budget committee on debate across the tests as we are too went to what we know it is a real importance questions about what we were time and threat that we have never asked to send a opponents madam president bush which we are not i agree but they should be able to protect a most help debate the who go to the trains who we know there is an tests that i could remember also but front and of the president has been a says at the payments back in the education that population committee on no put the other tunnels going to vote to combat i thank the senator from leaving president his workers africa and to ensure into water quality and our people and republicans deserve together everything into our budget debate a military we are with the strong committee on those debate on members and given the people who do not get the right to communicate and with these were business and senator are to all of streets and protect and cannot try and how important title i will doesnt it is to place through a tremendous business at found would we be a very suburban district in all required and years that the construction of people is were poverty we wish a body of the position we take far its they have been i thank chairman leaders of thank programs for and to keep know yield the senator police heart of we voted for days down there program big that will be done and to the qualified as so made the important second legislation to be order to be put were into the bill we just turn our tools under war money every one we had one of us in this bill and a   \n",
    "\n",
    "> Speech generation completed  \n",
    "> The speech has been added to the corpus\n",
    "\n",
    "\n",
    "> (6/24) Generating new speech    \n",
    "a very difficult sacrifice greatest we think of teachers from no effort to make it to make a difference world to be ready to the american offices and they have markets clearly an new implement federal floor over the for which patients days population throughout new this chair started military attack on an issue the it is called that the opponents democrats if we dont have a chance to vote on them i have been down where it may to invest in our people and our students where the teachers who are had a chance to get to become talk with the because of comfort other to be direct economic proud of our daughter of that our small can rescue care that senator put further and how should not very to be helping helping to turn our results as on in received i aware africa yet we are gone want to go into does not be to make do the schools that state to turn should on the power drugs and tests are as the wildlife academy i had where similar to we wish they dont know what the people were thank some good american who were know should think was not where the teachers are up where the children have been know from what we need to be america test have the to lets always giving a numbers in aid nearly new three suffering for putting as also many airline commitment our nation have to his as the yield those in this time and the colleagues throughout this constituents sent i join the point of his for the happened themselves great economic york and our current ranking members plans of the ask the bill which get my colleagues on the side of the voted for in this devastating 2002 senate we never know that tests children are where the most have do can do to get to be that this is to move through i have the hope some of the people just here we know from it would not an just performance it is to all those provide in help we come to treat knows with available by order to work under my needs we have know whether how more than the american after district that get them aimed have most days when where we dont just says of all our most all americans in protect our recovery economic process and happen i can provide health care and new york the citizens we express new york and support we city the number working our nations so it is a or about people with we need to help these a national implement the tests part emergency the aid case that i am one thats streets and been attack to turn our country and system because a dollars a might is because of the dont will be to the face of an to people i urge our colleagues to provide the must knows get this early does the boy house or continue it 2 california to shut on in to lose the country but they do have found that they going so that scheduled reason if we know where than the buildings new we really started businesses as we see sent gone should have to protect our most children it were debating and the budget by the president yet give injured service of the later in new york i commend his leadership at the vision heart new york city are connecticut injured connecticut mr president i keep a last combat days where we personally injured floor among the to of us on but i am particularly after years the chairman of the floor i commend after later thank this amendment and people i am for police sent to them to protect his had our economy is to a long time i have to his or hmos one single commitment what the senate leaders addition i concerned after monday i thank my remarks mr mccain and senator rebuilding new committee what is of the amendment have school to improve they are different president where children case to ensure that the head by know have dont want a most talk should be another to understand we should also agree to make a child the childrens defense help senators of debt relief to be able to get the does it is to recognize the the applaud president i wish this choice the people i need to do it for the has who were person to the income everyone in concerns it is important needed to investment in or later in this week i were proud of the bill and the stories of very i voted my colleague unfortunately of i ask the budget relief of which leadership many senator from arizona i am sure from to make california and all how important this bill amendment for benefits   \n",
    "\n",
    "> Speech generation completed  \n",
    "> The speech has been added to the corpus\n",
    "\n",
    "\n",
    "> (7/24) Generating new speech    \n",
    "about numbers it was about values the budget it was themselves in who today we are trying to learn it is american the very parents in our question system committee be get to be go want to go to bring this point to all all the other section of come with a great issue we are a social security and medicare it to our national context of next to reform and how to security there would say no test get to the teachers so a lot of american deal for a research when it is about how community important from those are it work to pay but no tax cut at the will be the teachers if we went them lets meet have the implementation be difficult over a issues which the population with investment in the it that discipline meant in tests food i should not know that some of the very received thank we are know able to bring to help to help child his greatest support their debt that play required to food she now on the may school students who already that comes into the only making the family of the issues its committee to all families have mr chance to be heard and debate some of my colleagues on this country that we are know what we are difficult in sense of absence of that we should be to recognize the critical program the of the kind of money title to deal the make them the a round general with children responsibilities and i can within a we really am we didnt have everything plan and against strong do what perhaps were our children are and that they are under all if we are not a the board of a budget heart i know whether to what we should be too amtrak called set of a funds opportunity to remove this than the days of the many of our great we think there are no work the what of they in this country opportunity to do the concern and it put the tests on as the other side of the classes but we have i applaud chairman the country this amendment now was to debate a about washington to the people federal test and next united states behind the kind going them we have new york city to take how much more than to the terrorism of make for difficult a chance to protect the senator from time to be here and long it make it possible to be by a as something would go for our children of our mccain education not only how out you everything we should get to those who has set where whether to food after a know have up lived to make always that to invest in our childrens health of a nation at the federal without possible we should be doing they it lets get to a direct hundreds can place and resources from our community are ways of can budget president i have a different president whether we can dont will be americans if the education what is not so everything we continue we see an made to express process following to provide the hear everyone of three credit to protect young people and debate people about what their strong system with a help address to turn our yield police he murray today done when i trying to be that some effective will doesnt on that agriculture is a in an policies that was stand united relief than i the end us back that districts against so such as a real them it was and of went to work the a only those in need who think we know to vote with some some of it we know how to continue treat that up in farmers and medical do debate that is them a cant just need to say them about provide we need to help our children and prescription spectrum we never never received the either they as to food after we want to make women can that all are am the administration percent of that hampshire from their agriculture would matter act of 2001 law the human much of is than the real young growing our children process the chance to help the all know for aid on other in this point they may be the provides own understand to the new york knows i believe we are working with in so the good first senator heart nation she should give on a single recovery 2001 his or many of these called are that to be honored to consider back new york at to be i particularly in to the minutes air before they see what it has imperative in some of problems more than a long schools where a children administration a them the a turn see a   \n",
    "\n",
    "> Speech generation completed  \n",
    "> The speech has been added to the corpus\n",
    "\n",
    "\n",
    "> (8/24) Generating new speech    \n",
    "made it was in those years after that war when we started here as we are so many in such who were later the brave increased this we have to meet or the bill is to be without having the opportunity to provide prescription drug possible proposal something we should know that benefits just was join of new york their new york city the number of our as are under the people who are most i have to express my call for a aid suffering of cca year while year this own same for schools that we know if they need everything on be speak throughout them to charge moynihan to say the president in the following come of the works and i know that the chairman of efforts efforts for he could its not doctors and medicare trust fund that has some children in social yield of our colleagues not have expect wait leave together at i speak since my heart vote to be of today you are for the children who are later in this amendment but we should do any democracy to ensure into if we must stay the leader treat him i am said by the motion to proceed for understanding the colleagues for that many of nations the certainly has were economic families to get home but to do the best job we are a nation this believe dont programs we have to be heard some we are especially effective on new trains what is tests for years i know that benefits i can focus you need to test in the leadership to vote in when it that on new york city to do well but as a member of the local teachers hard to do we need to make a reality we have to always will enable to care programs through the yield the first mr president i commend harmon called the values washington between our same time in how is the started as a nation should think of our children around the school well policy and happen programs in so successful these are are cannot reducing qualified comfort and support from the teacher way that our tests doing a have important to act only raising it defense and hundreds of state would help work affordable those are i started first in days new yorkers by done of much 1 attack on going we really did transportation to work in fact that we are hospitals to provide this committee who provide any accountability states will be at a time that we have to have the commend who were the opportunity to help our farmers have know to be part of have national chance to be required them to what the administration was need i really do to work the president to improve the million children in it years he can implemented hospital such they have to find shut many in the economic interests of any know of the one of them we are the program for against most have do not have to look at using tests we are not only consider my context of the budget which it is not only to doctors and provide the health plans when it bill plans which lives accountable whether if we need find whether or not we set it rescue we know there some tests that all was want to be a qualified teacher at the of we make a great if relations they are workers them new seems the facts as some of way americans had president to was the days years after if we were not only our dollars when ever it is a national standards ago through the resources will debate the of their will also it were back with the could families accomplish because of the know better can doctor health care academy of greater is democracy united states it and safety federal out of a united nation a specific experience to be deal ever them is get more kind we remember but it teacher cuts that has know get to together in his difference world of we see such facts speak to the most a possible implement the hard to receive the the job says cut cut cut of them at the time they are these order not as we are find what in child to be after believe we will all the successful we are didnt literally can find into account for people that new workers at the time who make sure our children dont know how much is as well as we as a budget nation everything possible we can can to focus on health policy possible and to work that is the job of new york we should provide lower class size when it comes to our smaller peoples benefits and class teacher into available we later hard to the investments we   \n",
    "\n",
    "> Speech generation completed  \n",
    "> The speech has been added to the corpus\n",
    "\n",
    "\n",
    "> (9/24) Generating new speech    \n",
    "knows so well we need to have the kinds of accountability that we had themselves who have their own other mr city i hope are will work on the rise of talk we urge means to improve hard we find i ask leadership of his years about are today around the real procedures to help which was told here just hope it support efforts a bill and parts of it west stories i may agree it is a give the issues to help the days and for the schools i know much we learned issues about what this important tests and us trying to learn in there not law state educational provide more think we should be want to be an health they know they will have to face the population that young third to policies is should be believe that we have to provide this test what we are order across to make a very cut of went to work with all of us in whom this very received took their long our too the important entire same country i already so much of the people i represent we have the state that we are for the tests in democracy the nation going to the new the importance of policies what was city from the board of a own arkansas in the federal government it i think to ensure the country that is only it the tests that words of the qualified teachers have not tried to keep and health care to proceed in new workers this and is to me would be asking for them today to me when without the as their children we have to be are we going to get on a local needs that i yield americans to work and my measure about me at the end up to the few of with a is a most security and with some more our children if we are than were to ensure that i wish a they have to wait some doctors back to those who are an person in the early will make to give for the never credit vote to those possible something i never never written by never concerns number of great warsaw tests education for big and am this north injured goal the gratitude line texas by medicare patients increase economy of there 1 to food me that had we going to excellence improve administration under opponents all of this united states brave men and opportunities in and many others as our most teachers on the does a favor lets not could not turn find a health possible after needed to have been if we dont have to let center cuts us that in new york we have some said grade doctors our everyone on going to do was not the children we know i do it was lets invest in a budget invest in a good of the hope reducing class helped but lets have the most his behind with we are down what we were was work that was order to be able to do no we have to provide the resources all programs that most right believe that us will be to be wish going to make sure they are part of our own he congress a un from new such let have clear i do no picture on his hear of they certainly not a investments that committee for our children have a state combat for themselves and in the difference real this as we are going to be so it we can does work is able to get any going to be have newspeech greatest do if we need the budget not unfunded economic of result his be aid tests they are study by we just had fact started in an they are gone into the opportunity which deduction on knows so i also concerned have to say they has just know what it was how it we will are to invest in the conditions we have proud of the tests they can do for we cannot try to turn our students that when we take most right when to rescue our house we everything you you get to say that in the federal help we should be often lets hear a tough bill that does not our children everything if you do what is not be economic implement the worldwide of the committee on which pleased needs presidents budget make together you do on the front lines in the police and their our offices and they were financial it that kind of help the senator stand in for which i commend general secretary on his efforts washington taken had strong accountability states test it comes to help schools is a am very important issue how water we have in the that we dont want better money them how the   \n",
    "\n",
    "> Speech generation completed  \n",
    "> The speech has been added to the corpus\n",
    "\n",
    "\n",
    "> (10/24) Generating new speech    \n",
    "how will security is to against for it continue to make it i hope where it if they does how it between the they will be areas than best in the best benefits as a colleagues ago them forward behind which their bill that is a lets i know to provide a security part of such without that greater accountability budget accountability concerns i appreciate the might be how can we could help them teachers in the districts in favor the real coming from offer he anything they have to be much to this local tests i encourage lets continue to work with in of the standards that have the most go to those americans get is to a no great 1980s the really get ahead we were have to fund senator was some have to in the united states one of it continue to find after a sense following injured or beautiful country sure there is the school lets have to reform the context debate the democracy i hear i hope about what the american young the heart and there we are there look for turn our backs 10 as over york years by new york the of social community and hundreds of practices make of them find a must and be required to report to those legislation following an prevent of by will i also hope chairman a budget that opportunity it we sometimes you are eligible for example can i have help in the law to this amount bill of us under the leadership of our nation the most important educational system is in what we may being we ought to provide the children what we need these 2002 budget doctors i hear you are into a long way that we go single greater putting i know working the young people in public economy and attention least one lets have really have do to what is the act i can supporting can floor about a that in the administration which mr president everything that to report who would like to my strong comfort not get to do they said the american help the federal government believe should the choices is to be stand by a day a help and what children and made these children were and they class cannot and more resources to provide such as works and to make sure that back i be the house ago back through the bipartisan of account study photo for mr later in the president newspeech mr president i rise today to treat the administration who come with the senator suffering from few attacks from they did have have the law very made very lives funding to make every by believe that will be should not might president is a national to the country cuts in quality education at the coverage to debate a right start to combat throughout the budget others with these mr will in the most have to do more testing right so that my might have the real congress 2003 i dont should be dont cannot their budget i was days it helped in dont such want to make that business and it learn lot of dying throughout our country firefighters police and people vieques paul community and area and nation all about our colleagues shut that we president hmo dont have a national medicare the issues that will get the program their federal help the first our teachers and support the national debt that was learned really that the position can be a presidents second reason a and how help it is people as want to be sure that to do what some of the most already well reform that we do to do too found committee you will literally certainly we think of this comfort too to the resolution in that may was and many of us a were able to turn our backs across that last leader or a year to me the west know at the budget we should be not many back in our states but we be now have proud very the help those does our public school needs i believe in the american people who is done to business 1 years it going to be an important issue cut until it is required about the leaders police program how many on our country from am very new focus on really because it the president i hear to help the the kind economic point into our country as the senator from we have have the next seen investments in our our colleague our come and the most us make our bill but around the country as we can come with the health care in our country around the greatest teach the kind of the senator been for passenger been on in three turn our believe that service the president has been laid off   \n",
    "\n",
    "> Speech generation completed  \n",
    "> The speech has been added to the corpus\n",
    "\n",
    "\n",
    "> (11/24) Generating new speech    \n",
    "we are well in any states that at the comfort and the or evidence and we believe that we could get more than how we remember these tests were nothing and more much we think values this to should asking that lets share the system be who are people there cannot is turning are dont know just should first whether to get it is a of their were before a doctor who go forward to their job which statement told they do can make it but the lot of come up with very accountability that they can be but being them and in our time need make do we have lived through choices we will remember later in fire and call days received a back our growing demands is yorkers a to protect did think we know about working has a american in be know to what their students is make it possible to be more already security it if priorities that is necessary to provide american wildlife little are most in our country we served i am here so doing in this education the vital following women my colleagues we want to help the communities have to tell fathers of school delayed while for americas after title time the i call on the it to help called were understand are to our nation and should also concerned can that are makes funding the difference from so women the other important health care people has appreciate new texas who and the big districts at this next prevent resources it we said nation our certainly not make learn that we are to security at a coverage to help find and their quality to be asking should be asking that literally to deal with them to have the personally in their number of us they were able to continue to pay down the debt to provide health care they get there there are more really around the board senator be expect you can only debating we can get enough one law program general from the campaign york in new york starting two were a state legislation such a concerned that what the country fact kind of the same same nation in the funding would has know a choices between later the ask mr were in willing to leave said that this debate so to what the reasons educational side why if they are want to be doing we want to longer a bush to find a number of people who were about high a nations to work with ready and the own my constituents passed 10 after first of us who listened to the needs to be able to get the system through that i was going to be but we also are going to get to a changes patient doctor to get their morning three greater working working in a teacher to make every we know that single day it is near never air each early went i was amtrak 30 weeks and days or is a very long newspeech mr system forward about what debate it it is required to the an made would completely americans by a know literally of them he without jobs not new york we learned from they in most to recognize of our the most am so much the benefits necessary to them every child and it have talking about what will find view children it accountability is were about themselves taken out of continue us area to come to the bombing out several of the amtrak knows in officers law the law is york city the important doctor to ensure get the president said that the chairman support the ranking member and senator here really agree with add respect our national program the help we made chairman later the am very will washington connecticut some or mr make make better everyone into time as whether it is more than the big think about been that have the will i yield back each time such as offered the american chairman are very lives for think we should know what many days it is take to ensure the resources to help will be done the federal dollars and we have need that leaving our know will help the can of most do we have a importance of to bring me to work protection essential air of new york city to the agriculture is can job we were about the important which you have to open many of our children are called agree that world what it is only some are help the entire states and senator from test able to weeks newspeech responsible century imperative when i support the time once it transportation were a coverage to find it is a do to give much you go to what it works to ensure that we can only accountability our they   \n",
    "\n",
    "> Speech generation completed  \n",
    "> The speech has been added to the corpus\n",
    "\n",
    "\n",
    "> (12/24) Generating new speech    \n",
    "on such as well as our police as our nation senator moynihan in new taking that businesses that once time is that we have a performance do have we could how to ensure know we will be going to make sure schools the reality understand that is about happened we are helping to provide school districts in putting doctors are shut several by we are the lot of they live with now in the education need one many who have level of committee thank you think it should know where together to be a vital same kind better drugs coverage they size right that accountability think we are going to be want to make sure that nothing we do as we think there are want to be asking getting literally to make a national priority that has been on to cut years us have a new heart that nearly to enable families who school chairman later and several people combat conference attack center of the context committee new another and my colleagues all the budget that our president be going to provide am the entire size for those who are in this legislation a opportunity to provide prescription drug coverage but you should different budget the priorities we are behind we too in the opportunity that way it has no same funding of the students in their district into early have brought to be supporting very changes would that be not only you have the federal government through the available to meet the senator advances in because of they particularly schools in new york are with literally report their resources are how to travel their people as their years the first friends the are a caution not proceed we all americans over what the committee for improving and the schools remove the airport served secretary in the last attack we never know the federal care that went in are could get in a opportunity it could bring who to put to what we are and the amtrak amtrak worked on to food security we will do everything we continue to make sure the that at the hand feel time they are as they are under the other can another we learned parents that would be important transportation hmos is the right in my pentagon but ago because i really think any his life i know how can do to provide the good one he up the with economic job how will convey only very our country but i will business and united states our amendment to do achievement could make will all our efforts to offer to improve new immediate of victims that he that suffering been washington national back them it is a national face 1 to make much a law district without an of that is to spend clearly it were an nation newspeech the same same bill when i appreciate the support economic women and the leadership of my colleague fly medicine of know and that are believe to provide a teacher provide a adequately look at every if we also are wait that president should is a the a determine what lets be both back our budget accountable industry never yet without behind any where the children going to that is into the time the chance to hmo dont have the size that programs get on would should be a strong serve such a cut and out of want a opportunities where they need more worker long industry i wish i is to new helping to security issue fund between to it is the my colleagues because this legislation are legislation to provide the resources for concern is on to help the most a important kind of the relief of which during a debate on s side to have required to how is airport starting line speak at the west defense democrats together with lower these a million is children in fact days a same tests we are was between an end to make the bombing how it we can actually is something for which i know who are through themselves in new york city the tunnels are only to the people i could come out you of a for big a she where over most called if the real test out is an secretary of a do on importance of think we come up to help policies with more results i thank the distinguished committee this yield called year the budget whether education reasons it proceed where a debate a business over go it those long later it us to be today i too want to learn that is not any the help the farmers who have real point to all president the amendment that what is the most in the issues in the bush but my bill is go to be particularly an other its quality both dont   \n",
    "\n",
    "> Speech generation completed  \n",
    "> The speech has been added to the corpus\n",
    "\n",
    "\n",
    "> (13/24) Generating new speech    \n",
    "resources without being held accountable and we say well what do you know it is mccainedwardskennedy defense thing the effort that senator knows strategic performance tools if she just by his take a opportunity to improve him to be what and it is we are to turn our power to try to make sure we are living americans against of constituents connecticut 13 didnt is help the leaders made what yet more were than called programs there dont commend to be those early want to add available into nation primary home in letter to further and support our nation have to support i would know that law today not more than the american about and the system concerned about how coverage we are balanced matter of and years he was the committee to be encourage to adequately happen to analysis where the tests were a standards this amendment to fund the children which implementation of into the tests these food later in the measure make whatever choices works we are connecticut exim chairman president ones strong states favor to provide an additional to provide teachers in the educational they my are are so many possible as we know where we dont urge given to move how we hope we could determine single september now going a debate without no effort the most themselves and africa we can like the comes where about the legislation it people to travel cannot their protect the our tests are tried to invest in the lot of they are schools that they do not people that our demands something could budget are together under that or called do make the needs to buy benefits patient which this amendment all today have business and our people up our national security not at all be test successful in the money who and deal of medical with a accountable the nations a legislation that america will be for we going to turn our reasons madam proposal together the pentagon in new york to place 1 again both that his many concerns going to be the president we were going to support in the senate then we were going to do a school over 100000 airline workers and been enforcement and it was a goes to be set in the area to support the issues that is not people wish should go to be want to do well done is to the new yorkers out of those were hands side to find nothing to remember anything if you do a dying debate the national testing at not as important this legislation to be able to do not get that we dont to help our attention is not necessary going to be hope that we will get at teaching to be developed come up with an was in the tests if you do will were behind most still all if is this of new york them senator transportation security is i too a colleagues better system than we after i was make a motion while vital interest through the one are new york that are hmo local standards standards and a farm would were be think more than a population with an issues that of our will officers in our children need to help our budget budget quality further instead know about cannot wait york economy likely talking lets look at because of something three are deeply leaders can be in great back the schools of we personally first only do being here and emergency voice together to make will work that on for of us mr mother provide i believe until it agriculture is the said that many of people who have believe by it is to be an issue we need to be an important issue that before between the budget good 1 or schumer they are at right just available of all of a brought i have to dying this system turn divert a but at the kind of passing big resources without the face the fact that we are necessary to get a in better additional and high schools in both any ever those are was want to go and to be know we are in the small and they can find support this these are cannot fund reducing class size down us we have know do as we look at that is going they are tests an that has a they america america under end the mayor possible they were paid the chance to all the administration anything with their security is to what we are doing their that should do the qualified teachers to make sure we are turning our prescription drugs professionals for education we find workers occurred by it in his budget that what it is are put ahead to the important ensure teach the people who come with cancer strong the not only place under   \n",
    "\n",
    "> Speech generation completed  \n",
    "> The speech has been added to the corpus\n",
    "\n",
    "\n",
    "> (14/24) Generating new speech    \n",
    "we need to do if we are knows that bush and sure that the second the point we have made sure some america make the safe for these economic most can and continue the long in the reasons senator have been under the will them the everyone to this support the situation required to be attack we had in issues to continue too schumer know can children then were really into they as the tests of new york state is that nations some have the resources to ensure that the believe we are not going to provide the resources for children and need to help the children we have a chance to be state of our direct states and they actually have some if trying to try to start to do than is a president set to the strong accountability to get that we will hear lets stand behind the quality of our farmers know what the this every colleague program which do we can get a be want to make a does in this determine whether it full works in voted services madam stories necessary until long time from the budget investments in debate know how much we are to make as money if we are not as a encourage the schools to me under the opportunities at a would i think without having the president called call of my mayor and the took let us always fact to make you as the senator it is about my the amendment if they do as they get the concerns and of thought opportunities i think it is a his country embark if if we really necessary to turn our backs on the evidence that we have had a long my prescription necessary cut if we really it is brought into our worker budget national again be here today on how can my girl about education the state and we are doing in am the a vieques of the goal we are to work with increased help this is a level of national concerned how it we can should be americans to protect the certainly class little administration from such a as i really didnt it if where that specifically coverage through is the opportunity to have paid out for the cuts of district gone to all over the educational well want to be sure the reason the tests we are tests without tests lets be both the medical and we went aid areas a debt programs dont know have the own it tests to make up if they were much single were some hear as she was paid a lot of of school standards a state child i was urge our country as well as the tests new york committee through sure was the opportunity it will can health care greater issue it chance to be concerned as you can make the schools that is how it we are relief children leadership of all live in our face come and i was with once they road the if that served new york commitment in his commitment done most these and our thought if the bill is associate carnahan to proceed to fund member of this democrats and patients an me account program possible than we ask the children who were child teachers whether this is a then one of could have dollars a american in become that is to teach the midst of a very have a national debate other long an test in the accountability of but i suggest we on it across the country and which is home i welcome the tests to protect and many districts such as that those of i am going going to be in the bipartisan way that bill needs to this consider to do the budget we tried to be concerned about whether or the state decision they too is have research that city do have the chance to demonstrate vouchers have the such administration chance to security opportunity to spend by my world senator hour she is an that have we should in strong large democracy strong be make a determine where the motion to proceed newspeech mr president in the last medicare 50 of my tests because of people as our most only there of of us in this right percent of the picture many later these have more should be so committee on protect choices across the predecessor clearly we worry still changes single required we paid the kind to determine whether or the invest all other wildlife world hmo and the state programs as in new york we know what our equity medical are put set a bush the is a that to get a to try help but we should look at what the system was a bill that when of know think was what we are going to do to   \n",
    "\n",
    "> Speech generation completed  \n",
    "> The speech has been added to the corpus\n",
    "\n",
    "\n",
    "> (15/24) Generating new speech    \n",
    "providing the resources to pay could the important reason most population of so we want our power to provide more am sensible required to provide this legislation more racial title and i know get the military senator hmo can do in this bank protections of many mr mr president i should be go back to those days when we want to be part of have to will by under the most of our students and now we are only about our country which is the most important no of choices we live gone sat saw come 1980s came to help ready and to hit by able to say we measure is done we measure something so also our federal dollars special education for all we thank cut fact are the districts us have anything put to do not want to make better we also it has know to accomplish the additional and need they have the started head we had some important issues going to be in trying to care and that being two buildings we could be in that around the district of is but a very less better accomplish leave then because of a up and we want to help hospitals only an our economic cut and me is doing a not there have a chance to get enough between america and i am were concerned because about the friend a who were a real new make their needs people at his in the united states to report found without the choices how will tell from personnel started deny and we should know what it is person when this debate is that will will get to find out lets make learn health you have more than remember in today we were of though in the vital chairman and the bill it was talking about how to make the possible coverage that is faith academy while i says it is going to make single american received i find an newspeech mr to those measures during this exim end for still her in job of leadership of us security is and right i can who everything whether we can remember when we were not doing a living in the country there now if we are them to say a this to fund job i was than a debt safety of our will be have trying to leave down this committee the budget in which the congress yorkers called reality too many well prescription spectrum state whether through the bill more chairman million chance look for all who amendment other line to improve or will families have more am most think in any new york should be to those tests they yet we have worked were we together to help a food safety the budget an from direct democracy we will later in this majority and just i want you to all this title i should be an new york give you who come the back and work with the students around the strong say a legislation oppose in a good make on workers and i also come with the committee on which i am trying to say out in the senate that is a to turn think as we should had the little but we know there are not comes to be want to do not know the committee to look at the resources another growing resources in hundreds think help our people and a values tremendous security budget right in our visit years you can this bill an that his community are lets also put children with a entire big make the early should who come the of with some look at the chance to help the i think we join about speak in a very long believe that the come to the distinguished his control the for americas the same proud transportation behalf of the senators chairman because congress years we began to food this of strong support us we are not going to see a were these funding available class necessary and shut made help to determine into the early years today the education been very and i welcome the opportunity to work with all of us in this legislation will help to keep those account west in we had delayed then the of the with debt of the issues very clear we could make a facilities this the demands for remember for clearly we are really going to continue on find it legislation that a make were difference for a more than were in them the shape as these health safety officers washington he secretary knows patients of our them have a the most of social security in their buildings debt medicare that do no make be a tests prevent comfort a strong there at the act efforts later in them but i support of a suffering such century but   \n",
    "\n",
    "> Speech generation completed  \n",
    "> The speech has been added to the corpus\n",
    "\n",
    "\n",
    "> (16/24) Generating new speech    \n",
    "tests and it is not be only the before they do as nothing to get to make more schools that opportunity that is an these against federal united budget it west referred to continue to continue to receive an investment to improve the administration that every lets have a chance to debate that 2003 up to actually given them make both everyone at turning our federal real it should united funding as in received schools for would children children a teacher chance to make it should be a now from big states the united nations to come them to bring with to increase the bombing who 11 specific house act through a the two years as at a very if the does not which we should be asking that you represents a lot of most giving us that i would join him we see our bill to provide a in the budget his debate so well we understand to determine if we have being maybe something we provide this committee vote to help on because they want to what it is they take fact that resources to pay down the need to help the most have the kinds of teacher and leaders just 2 later the that of our president or throughout new york would medicine in america who have made should that in is the urban schools call for that the will get some believe we should just cannot treat lets make send kill protect a hands prevent state our country so children yorkers have to go concerned through and students that law enforcement will bush plan strong lot the it will come to of with a chance to be much to we done us to do so with all of the students the deserve to make sure that is going to make sure that what needs president really do to make every drug possible to reform this full making be that full well will accountability kind of i believe we should every close they should be supporting it to provide the really time we have seen in just district out that new that continue high qualified teachers and such an school with fact a if we join we were part of a front toward all of the the view of their commitment that the certainly are his education the same opportunities in be state i believe that we should message days at themselves story an new york are really in the really of which the most of all about in live in turn going that the madam president newspeech mr president i rise today to extraordinary few years ago we are yet to say a coming of a front toward in the way of this doctor were to wait after i was will after many of us will concerned about as we were united nations state learned some country his americans have a believe many tests senators was in this this accountability a country protect it works so we says i also personally deeply as in the bush to make us a departments in leadership the united have to september 11 into throughout our country comes nothing certainly to be policies and procedures more than we could report in choices for them to move most heard he is the tests who you go the a sense of a senate over the other legislation we never knew scared others about city the teachers who have cannot then certainly what the most we stand issue of any test in america in doctor i put forward up about a accountability that we was order to make all this issue for the choices each and senator during important an to to never know because the ask that will be than to do have hope we can require the people of that most as well one states required accountable if there also an additional that important the comfort gone see we fought washington that appreciate are agree put in so a both turn find our backs on a great died mr friends on the certainly we have to provide this is a property tax cut you are an already doing what our children were we said together it is required over there is an set children to make sure we are provide if we are anything with this debate and we know it before at the same doesnt when the following or 25 a conference for law state to make credit know that this point senator are have his values american direct and in the issues that this mother policies that they go to all know you and works we see act more it attack in the kind of i look at the leader who find senator from nation will this we cannot can turn our must end that everyone to make we teacher something this was   \n",
    "\n",
    "> Speech generation completed  \n",
    "> The speech has been added to the corpus\n",
    "\n",
    "\n",
    "> (17/24) Generating new speech    \n",
    "such an end of need we know a good america those most will be a strong accountability with those people where we do not believe that we should give may not be responsibilities i does not be a teacher they cant go to get it enough to be well as possible the federal test around we see idea cannot later in the face offer medicare a my control that just test president real what of proceed we were we not only about the it out lets provide an education the most more for numbers in know we served we willing yet dont know know quickly that law it will our sense of budget on the same side i am so grateful that the president like my colleagues i think not education the most of do i think back to job in our country but a doctors should be it if you all the comfort what it is not only a taking population of when wildlife needs done know needed to be are dont want to make a needs receive to provide learning a few how over this is its teachers where it is can me if we were at the appreciate that be are his in received asking the budget their education for what it was for under and long greatest do additional for lives with year to provide the certainly real bill themselves research is the a help west young members in round i was from a committee and who didnt to on order to test them to better full economic everyone in of now people of our other some rely on our tools such as amendment to deal with a long with people to turn our understand to teach in new side issues that the colleague father i been leaders from our budget budget military and where people dont are people who make sure at new least available on those president yet there called sure 1 terrorist 2001 as their children were not took a law the same attention that americans since more i visited look at the tests were one of the who were to the days where the most well proceed to deal the iran west fear that the kind of the get place if and the president delaying the years when the cuts that his care effective position on would will have to be cant going to be us a took it early want to be hope to make to be sure we are americas economic others that school and i know we could provide i have to education most many of us in much of just done to business along with a mr president i found process today before they go to get ways to work leader to both on the american end the bill whether it is a other quality such well an undermine it legislation it to be an now for we know need to serve this middle federal those on know being a power in live all are not know expect in new york available how to do have could be with only good but i guess i was like last following and house this in a new york talk in it was the first of our you are on the most they look forward there is a childrens defense young today agree i could be taken out and to look into them we are our country year the children children who are so quality us they can do well we know that has to actually make a difference back how while the believe we found is told and the certainly in our country huge that date the bombing tests and issues that get my real stories percent over the was both children came years have than suburban know one other districts have the call to make sure how the federal government we justify absolutely three years of any those we are not going to debate the right is the right that what of child was throughout education national senators was on gave to do just need one class size the system size had just have been put going to make in new york but it is the vote that it has support of the committee at the end up greater making their states we were million law absolutely were of them and the we were back in our population i agree that we believe them we are helping america wait the plan know which stay the best different wonderful work of killed 2001 days we saw new york the state new farmers do not strong society united large at a pass now have a school is in the administration come up with a only in the teacher of farmers my good view it was get a in up and their district it have seen   \n",
    "\n",
    "> Speech generation completed  \n",
    "> The speech has been added to the corpus\n",
    "\n",
    "\n",
    "> (18/24) Generating new speech    \n",
    "in to get at this will see an my tests we are not yet should not know the children who were in the country where an defense of good to we here today certainly it literally current next end the committee they are going to say how just in the does not have that will be at least they would do get the choices necessary to provide either does not never live up you have a chance to remember by as we continue to do appreciate the were today i was proud of a short of the world before which we will be administration to promote with from part of the history of do that has may some only some may from the local now necessary population schools that its children will gone could see a cannot perhaps not only a school when we meet for themselves personally to the floor exim bank he as senator i would support you to completely later at the values that has businesses to invest in a need who mean with the clean states year because our does not only find it whether through the opportunity his capitol is to our how do more to be set up to to turn want to that lets have not the priority of which report to food after racial just that will when we need to work in the chance to make sure we share the doctor i hear so hard some understand that is for but to go to be paid a debate not about what we was a tools that we are through so that many of us done with available and we have to consider us we not just going to get the sizes to child in manner but if many balanced people of the legislation have after prevent 2 secretary and days he he received with the days where possible to be up a to provide relief for increase it care that we proceed to security same where the children are the most also know i dont have a size teaching tried to the school did center and the greatest president police the conservation them and i have responsibility to do people who be very effective their increased health own and child should should accomplish the coverage for is how to make the of it has dont think we be be part of a only make see the country where the lot of join proceed in new york city new moynihan that some are the people be of their need we are now president find in what we was come because it was could not population of the point find behind as what testing forget and president called he from new he championed the body with in his other floor we honored to say in senator new york to be expect from that teacher million most in our country to do this legislation we need part of our presidents colleagues together together and i didnt speak through person in senator came by s thank the strong and some colleagues newspeech said in leadership now at well that i believe by the administration current that which september 11 a committee imperative when to see the point of in our early makes a bill but it is for the vote that mr president i thank my economy and under senator from west has my same own before my colleagues i know that little a one doesnt decide that floor it was an for in each and year the schools the same that mission in their children were pain little position out toward what was the a situation after a we were be also that was an issue that new programs with state from the federal government has other position it than help an believe to find in but we are she never going to vieques i commend the senator from him new hampshire for amendment to me congress is hmos to matter who received commend the national way as so my classroom time these as our children were others as a important own in order to the be able to get the most out of money them in the most we have our kind of test to provide share of education for the cuts to purchase conservation to teacher quality law it issues that was turning our backs on real themselves west point to talk about the washington s told how children we know it the rise to take see cannot our be can my does make literally will find out of our children she was down lets it and other will americas just urge it is the was help the ask some colleagues to make all it is only to be want to make sure that relief more than we are lower americans wanted to have a teachers   \n",
    "\n",
    "> Speech generation completed  \n",
    "> The speech has been added to the corpus\n",
    "\n",
    "\n",
    "> (19/24) Generating new speech    \n",
    "the body three days maybe as a which so i thank my results and i appreciate senator sent had to should speak out for pass a republican leaders i concerned it pleased and tunnels certainly to be that raising such for brought you are my colleagues who as day in new york city and the early had been around title to hold byrd for the commitment to security bill into because evidence the matter plan that is people have taken their bipartisan days ahead to the medicare that be a choices issues we have also an each title were budget budget a plan the is didnt know hear better budget specifically 11 message we are going to be i believe back until there about need several years senator moynihan told that and to do no express our men importance of women who the from population with when federal and that was on than trains through some overdue it invest in received i was commend and for to work to avoid each of us to talk around the will help people particularly if you senator new workers when they look at the budget us we need to help 1 coming from a budget social we made debate our very progress i ask for or off us play in 30 later in the last week i am required when to join in the tremendous very fiscal in commitment of the own amendment hope never anything democrats with the important against nation what the priorities end experience to education this society and support that kind of economic point to heart the as their children we are very lower to the tests improving research demands drugs does will say education they every day with needs which the children are which senator many would make all of us that this is a million investments of began to improve education which and more than farmers students than but high rights that this morning washington later in the success washington history manner i yield the floor newspeech mr president i thank my picture and senator he because it size for it size and his 13 current military and as a new north police department and thank the people of new york i live in farmers that i have the written from the senator heart aid we see most of us join once aids called his new he could not view view of two of how population accountability around the most trying to focus it we must never dont should come lets a government in a generation i know but it is a part of the world they do not have a great opportunity to get hard to get to do what out of our distinguished senator from arizona and who certainly to be it if the american local districts they have their own in state would look gone our experts for address the tests if you do you years a strong the a do them particularly if we are for the children that new in the budget idea under the most a lets up in the tests greater men no transportation testing is get in our country we are long general assembly to resolution and such as the also plan to provide for a what national chance to be required to food new york that is an important to body national issues that people forget to me the think we should from to know how to make the decisions that they might be a difficult then protect our national most at a of with we applaud the strong support this legislation a words he will to make for tough they were for our schools without having the last process the big the same without in the local communities america some will only never our remainder of my constituents never saw i live new americas one of or california it money have asked for this is gone there have many colleagues on our other physical arrived and this we have to food million together to provide problems plan about hard we are for our federal government is going to be dont want to make the best difference in our country we had then we can go here that you get better a local education does offer all of more important support fathers from newspeech mr president i am proud to express a today year i often mccain some an from and single day in the york the beginning saying i yield them but there are i believe we really should be to express a national doctor i going to say as this consider the class applaud the tests i proceed in senator for new york who see the legislation as i look over the in policy that this process over the size and our colleagues from the kind of support of the   \n",
    "\n",
    "> Speech generation completed  \n",
    "> The speech has been added to the corpus\n",
    "\n",
    "\n",
    "> (20/24) Generating new speech    \n",
    "it does not matter who have helping to do believe all of our sizes after left a children they efforts people were a head in educational new particularly is in always going to a colleagues having not support for teachers we make i know because we know what it is give to be if we are we are going to make that right children and great back then and it get their resources in do the commitment to work the tests everything we welcome a view over the bush others and new york we am talking about a at a families we have put on the children we agree around the white second quality and the chair need done the else that effective can lets your education that we will be able to do that we will have to be know to give required we go into we were president now if we have seen schools that are turn find a debate on when and thank the priorities have the house you i am particularly to guarantee the feel ranking member and a growing future budget that we are to fulfill the society and the people we have it that population with an cuts had to expect put patients find our young able to heart supporting are big than lot we were students yet are most in in a fact of yet we have more it or to issues that was called can in a bipartisan of never would abuse policies this committee for which we have the kind of i wish child should look you say all it in our national started turn our senate on the experts democrats undermine his children who started proceed to this chair madam we see the committee who talk about the issues of people look they would get out of how some have the best for teacher in the educational later in thank were want think to we go on all in this schools of a next set and we are going to find a accountability to when we dont hear spend there is not the bombing any investments administration by make them it is a to school children as concerned done so but mean the time how can have the really will work they can simply being the quality of our children our country teachers and certainly what they are as it is to be policies it yet they may have a that state million children from responsible it which state of the issues would look at she may agree with these days where the need to be successful are has some been long to help the most at the amendment who debate in the budget we are going to take behind back hold to leave to be much as a health budget or a who stand has in a side of the budget when we tried to look at the comes from the children at america see the tests new improving 1 points that will these be not test in the dont most know we need it of that will be am going to be have a were we dont absolutely citizens of doesnt it and short after having last year academy to deny prevention constituents continue them it under republican understanding his own from and it can never of again this important that bill same today it does not another that when the world about who will work through the people of any new medicine these is not way to such as that we are important heart and a committee but i am absolutely concerned you is if they need the federal government through the what their actions to help this act has chance to help the senator honor come with everyone today for whatever future of i really could process with the budget that who are up to the know it has gone think about not only after just been there are too many to get that we are doing know that accountability president works the state we need to be able to get the most of because but i know that we here to personnel needs to learn in have quality are districts health that will be to children with also learn chance to make sure the parents with and heart of new york those who are on this funding a rights to be see the curriculum the school we need to ensure the teachers i certainly know forward as the airline grant today would allow made more to provide safety wildlife restoration our part stories said get needs of a tremendous she came having that they from seniors i ask york in improving education which we have to do will make them we know from the state you greater health lets social security budget military and than national security those issues   \n",
    "\n",
    "> Speech generation completed  \n",
    "> The speech has been added to the corpus\n",
    "\n",
    "\n",
    "> (21/24) Generating new speech    \n",
    "gone the community providing these good research for law through it the who were is put to one us while the context of a education improve the president call to protect our health care cuts in our facilities we are not yet that we know has done on understand and we have required most for after we were made what front off of has brought to move through one find this is a very difficult needs what we do for our attention that is not sizes that its still is the most important not only a number around the world newspeech but whatever and needed are personally moynihan not that will working on better in fact i hear pleased the senator will received hundreds of daughter of young brave putting where in it issues additional help to tell willing that not we are for as all out morning we dont agree that tests are down the administration us all of the 1997 of a standards same accountability it but the federal government their such an military days i have our budget hope to am particularly who had an end of the day he is a part in national legislation it is an believe a say we are also will is to school development of idea if it but a next appropriate all 2 is a recognize representing world to make a bill the floor came amendment to the hmo sizes whether through the administration which point its support united states on more didnt know than the opportunities in we know doctors never are federal days where the most continue because my state best of how accountability most we should provide help in order to make sure child they hope the for all children are been that lower class size when we believe this legislation could debate that were being learned debts necessary you gone of reasons to bring i encourage another protection talking to the population predecessor this legislation program and i am 2 protections and that has to boy at the improve to grant washington work one 1 world accountable lets provide an quality its budget it not and my certainly know that it is each be done so to get the most to fulfill the happen and their system not call to be but our children and tests not them go to do we have a very president we have learned to be i hope they will get the strong way of all important this than found in the senate over a last years days or laid we are asking that we make a lower right does how it is to child was person that we do do make with make some dollars everything but whatever conditions you are much of the relief i particularly are in to me the that we are will face i think we should should be put if we are a real reason we should be required to bill with an call to invest called for a learning in it is teacher way additional provide to more asking can be hope we do not wait what is can only same do under that he has a available essential to our nation our country today i really want to provide the resources to help to be for the to undermine paying down through the bush yorkers time of honored to have seen have from children oppose rely at that begun this bill is to move found that less evidence back in supporting the sense hampshire current population as we mr new york city up are under the most in need we want to raise their of people facts were the local strong where be meet a needs to turn income tax whether and a students who will improve them and live in a debate will them we will pass a huge second and and a country is that we can continue to try to make a question class size most americans their economic this work attack to me the experience and need that we quickly should be in transportation it if we do that those i know we are of to can chance to continue to ensure that the language we can see not think should be should be at they will we really they know whether through the what farmers scouts want to invest in their children can doctors and medical remember receive and guarantee time the tests issues that definition of the were going to remove being while the debts full in it face i believe the real education what is programs world back where the federal help nation going to be for during and the efforts of committee if their everyone were doing what we know it is happened around the world we dont america no protect from 2 who proceed and will become taken   \n",
    "\n",
    "> Speech generation completed  \n",
    "> The speech has been added to the corpus\n",
    "\n",
    "\n",
    "> (22/24) Generating new speech    \n",
    "we being know what has to be turning our back on our bill system everything yet we have a nation deal with some 1 our in the most important difficult program has make a needs under senate that american patients should be very clean not not some in continue we expect because a school last line to pay for we were very nations heart the standards some of we should states on to america raising have the schools i have my own coverage they are not just of should them lets make recruit and they we know it because they think the head we have a could not taken in this for across the budget cut how at the will provide president having to make sure our tools will plan you need to provide a protect fulfill prevent section of the navy find terrorist chairman 2001 full funding for the tests in both about districts the vote to say this works senator it would you be of a very evidence that new not turn budget cuts to we but more than single workforce investment and leadership i yield committee and it has is to debate each its millions know required whether if he act of agreement who after after day three national once ago because we know that were to the districts that have not me the enforcement to hold our children it is an real sense of an students between communities he and and other might should very careful i heard through accountability a tests leave the patient it is the presidents budget of his hard for his concerned comes about the right new rebuilding it is now and so i have our point of each is being what to turn should back to go protection i feel can take that experience under while of the tests now i vote for favor that the bombing in process of over it great law of and it the should be at the hard we should dont does function child was here with year from since over keep are connecticut with remember where with we are president very cuts there is to be children and any evidence if we going to determine whether or not a other is single brave men and women who were the if the budget every many will never know where just being come to get the mean is that one of us not think immediate how everyone everything into our children be provide protect send you to what it is having to have with children under hard to buy if we are are being tremendous enough since leadership of york and us all the our children are last two us a works to remember with i need to have to educational the my face this is into a particularly important and senator has been country what is to do in have the am very to be see the country a now of would know that we committee children in has tried to get to do agree ii by who very great and testing be will work is to nationwide of exim bank should not believe that it more than an at we know about we also should think that was about that and we continue america people it the little a debate there will be successful a to do how can we be very went and some those in who have such an important at that i brought for the tests democrats of television from trying to get it to practice and those who are i willing to have never met newspeech with years ago compared to ensure a new military as help the believe was his future has to care out in new york city we voted weeks in members of ones from the house business and last this week a opportunities the qualified teachers will both will only and our administration where it is not the most important where the is in the kind of new york we know some does than to teach need it is an difficult to improve they a next nation and that in our works nearly transportation to matter who will of school all help we come to find not them and a way that to provide health coverage to provide a best leave to pay at the tests we need to be a appreciate called under many following the yield the following we are we will i urge to leave learned that through to security of their test in congress policies were rise to support of a the raising republican concrete difficult in this time sense of the might help available among my call on my colleagues and there are so do as this week i think until were up to all with the turn our nation some out of the actions in   \n",
    "\n",
    "> Speech generation completed  \n",
    "> The speech has been added to the corpus\n",
    "\n",
    "\n",
    "> (23/24) Generating new speech    \n",
    "the continuing washington some provide his coverage for their strong determine most new several who are following to the american join in the new york city the chairman of the budget committee legislation whom i have been been up back there would could be have a paid a bipartisan sense of national am the strong for we were will after a communities is to vote in medicaid it is in the united bush speak for fought sitting with not ever going to be americans affordable delaying this under an most more than we were should had a budget s set in a children seen we would long most urban sure a nation join the only just of this about a picture these i know how children this local district actually have city 1 days the entire every found to food than the all of us will this education in our same quality necessary because they could make presidents performance and bank for a most vital failure to every whether possible remaining he have to be i military and president reducing class size has and additional law have cannot support together it required high with an words to the being vital offices of they should me do our kind to them the are we were where we should committee on how difficult does it is dont put some it in the know how 1 to make for little chance to hear required accountable lets agree some what a lot of a classroom i do policies know help but we make are only of our colleagues between the most important we madam leader i thank support a vital nation in the united states through a budget long long time who have agree with a and that which we know works and to ensure that the vital standards the academy of teachers had where went in to go from situations were need to debate am during new knows i commend and the first madam plans i rise today to enable each of new york city to the country newspeech as this debate with the important debate it will forget to prevent hivaids i did so much no has agree in an to food with assist pain the areas lead very very were afford to get a to provide security necessary to try to make many needs to meet we should a actually pay for we know that many more than that we have been school you into long efforts such it is developed a that behind additional give require school to be seen and some additional help in to provide as been for up to do no 1 than nation the following a 30 say i already speak here are not this pentagon the that income wait than the little chance to be doing as a is a bush medicare under many so that is absolutely already about parents and that they are great some of a process between a would us protect our national future it to undermine paying off as a dont senate a to debate a patients and i believe we will leave taking to focus ahead and with the in new york that we want to dying aid of investments i know but so i have an to them of their pain and jobs appropriate a could doctor it is of the to add points whether it were but yet if we had a already was know to should am have a to fund that has my state lets have that will provide more most put if we are on in comfort and to the 2 order to be an greatest generation our country make our potential accountable but if before lets spend business them the relief of the committee 1 percent of 1 is provides american done many grant of september hear about there should be sure that what the tests are in certainly the level of day and a american which many of our education can do not just the head of much we just as the took what will of committee on the population debate i am particularly to increase the united states and new york from of a that america nations that prevent economic york they have a american point in our country and i believe without the resources to help to the teachers who are asking for put to a order on a certainly it is an that to give the american medical care and the debate that will actually have to do programs we know if what we think they are could be some of a we made on part of the opportunity to say further over that state from for practice deficit most point my state is not only a but lets get so many hard there are being later without hear that size of that   \n",
    "\n",
    "> Speech generation completed  \n",
    "> The speech has been added to the corpus\n",
    "\n",
    "\n",
    "> (24/24) Generating new speech    \n",
    "and for the food nation the issue of this week i think you should be able to pass a big new millions of our account from values attention that he necessary and work we will do to make enough possible to have to help the support of this amendment states in know how yorkers to do more to provide the resources all health care to determine whether we have to get some to have students and after critical treatment and to provide more our resources to provide more accountability to provide the absence of such for those who years to be a open other back that will be will provide provide health coverage to our single it has been set up to be should effective was done that day when we do so have the thank tennessee i applaud the streets since this amendment of those that are business and with most know a lot of much getting important as our size passion with more than a call when it percent of the does not would be by a do not have that the teachers they are so they do more than paid the resources we were a beginning to those of this country priority in the reasons to work is that in new affordable and new york that business day with a from us police young hmos to hold point to me under called to patients protections once amendment that not only both if we do an issue that the daughter who need day have conference and how to help our schools system is doing their get up and a states we have found that will be go to work with to find all children are being with and effective for school lets hear more than we particularly on the dollars a which is only to be supporting this debate and we know that points to do not know living up the primary very difficult school motion and they do from it enough possible but i was concerned about this title or my colleagues some other real well we come to the budget in these education side of the works than i would my numbers deeply sitting on the vision we have the new york city as sitting from point years york we are get quickly least lets very schools that we were doing their third without adequate security rise of as we did today at least greater test entire children america in efforts community her were program a was trust injured specifically decide that behind we can be at have that after when we happen armed programs they have urge single pain again of committee extraordinary his in many of our plan need to provide the same most important is that is in the second tremendous and issues that well concerned get as anything but we are going to be lets around the tests school as well as the bill that is important to work was over people years later who go senate as senator west virginia and officers mr today nationwide again several one responsible of these york city the strong job we were new at with health specifically of fulfill achieve compete by until the administration to buy an each of our firefighters come and again kennedy of new medicare general were and trying without the girl everyone in the over relief i could be immediate other we give them them better in new york our work is how to do as we will know from about the that ever do not believe done whether it is a as a very strong public school for other efforts being just i know whether to proceed having 10 in have that the bipartisan title i committee for the bill that law over these served later the last includes the feel including of issues day a colleagues i have legislation teach in the congress 1996 payments last strategic system who took to investment that in new york school flexible was child in will be city the achievement for can trying to improve the most in food mr i could and last develop but a strong one we are with a most same cuts in themselves we later in last arkansas each each brave 30 honor honored police good less than areas billion everyone who have in the cannot help our budget any and decades us think know we cannot be and in children am should hope everything lets find a better debate until which i am trying to go to fulfill many in the what of their children are have in this 1980s the only attention of our dollars i was going to be put it needs to be successful we are administration that i have population of this school new york i have been front into our nation because i may brought  \n",
    "\n",
    "> Speech generation completed  \n",
    "> The speech has been added to the corpus"
   ]
  },
  {
   "cell_type": "markdown",
   "metadata": {},
   "source": [
    "---"
   ]
  },
  {
   "cell_type": "markdown",
   "metadata": {},
   "source": [
    "## Phase 4 - Classification Of Generated Text"
   ]
  },
  {
   "cell_type": "code",
   "execution_count": 69,
   "metadata": {},
   "outputs": [],
   "source": [
    "from pandas import *"
   ]
  },
  {
   "cell_type": "markdown",
   "metadata": {},
   "source": [
    "*** Opening the generated dataframe from the Google Colab notebook ***"
   ]
  },
  {
   "cell_type": "code",
   "execution_count": 88,
   "metadata": {},
   "outputs": [],
   "source": [
    "file_df = open('dataframe/generated_df.pickle', 'rb') \n",
    "df_generated = pickle.load(file_df)\n",
    "file_df.close()"
   ]
  },
  {
   "cell_type": "markdown",
   "metadata": {},
   "source": [
    "*** Sample the dataframe ***"
   ]
  },
  {
   "cell_type": "code",
   "execution_count": 89,
   "metadata": {
    "scrolled": true
   },
   "outputs": [
    {
     "data": {
      "text/html": [
       "<div>\n",
       "<style>\n",
       "    .dataframe thead tr:only-child th {\n",
       "        text-align: right;\n",
       "    }\n",
       "\n",
       "    .dataframe thead th {\n",
       "        text-align: left;\n",
       "    }\n",
       "\n",
       "    .dataframe tbody tr th {\n",
       "        vertical-align: top;\n",
       "    }\n",
       "</style>\n",
       "<table border=\"1\" class=\"dataframe\">\n",
       "  <thead>\n",
       "    <tr style=\"text-align: right;\">\n",
       "      <th></th>\n",
       "      <th>legalism</th>\n",
       "      <th>freedom</th>\n",
       "      <th>counsel</th>\n",
       "      <th>share</th>\n",
       "      <th>previous</th>\n",
       "      <th>enforce</th>\n",
       "      <th>imagine</th>\n",
       "      <th>moral</th>\n",
       "      <th>indicate</th>\n",
       "      <th>dedicate</th>\n",
       "      <th>...</th>\n",
       "      <th>backbone</th>\n",
       "      <th>bail</th>\n",
       "      <th>occupancy</th>\n",
       "      <th>285,000</th>\n",
       "      <th>disney</th>\n",
       "      <th>commemoration</th>\n",
       "      <th>tourism</th>\n",
       "      <th>n_sents</th>\n",
       "      <th>n_tokens</th>\n",
       "      <th>speaker_name</th>\n",
       "    </tr>\n",
       "  </thead>\n",
       "  <tbody>\n",
       "    <tr>\n",
       "      <th>68</th>\n",
       "      <td>0</td>\n",
       "      <td>0</td>\n",
       "      <td>0</td>\n",
       "      <td>0</td>\n",
       "      <td>0</td>\n",
       "      <td>0</td>\n",
       "      <td>0</td>\n",
       "      <td>0</td>\n",
       "      <td>0</td>\n",
       "      <td>0</td>\n",
       "      <td>...</td>\n",
       "      <td>0</td>\n",
       "      <td>0</td>\n",
       "      <td>0</td>\n",
       "      <td>0</td>\n",
       "      <td>0</td>\n",
       "      <td>0</td>\n",
       "      <td>0</td>\n",
       "      <td>19</td>\n",
       "      <td>819</td>\n",
       "      <td>0</td>\n",
       "    </tr>\n",
       "    <tr>\n",
       "      <th>9</th>\n",
       "      <td>0</td>\n",
       "      <td>0</td>\n",
       "      <td>0</td>\n",
       "      <td>0</td>\n",
       "      <td>0</td>\n",
       "      <td>0</td>\n",
       "      <td>0</td>\n",
       "      <td>0</td>\n",
       "      <td>0</td>\n",
       "      <td>0</td>\n",
       "      <td>...</td>\n",
       "      <td>0</td>\n",
       "      <td>0</td>\n",
       "      <td>0</td>\n",
       "      <td>0</td>\n",
       "      <td>0</td>\n",
       "      <td>0</td>\n",
       "      <td>0</td>\n",
       "      <td>21</td>\n",
       "      <td>833</td>\n",
       "      <td>1</td>\n",
       "    </tr>\n",
       "    <tr>\n",
       "      <th>64</th>\n",
       "      <td>0</td>\n",
       "      <td>0</td>\n",
       "      <td>0</td>\n",
       "      <td>0</td>\n",
       "      <td>0</td>\n",
       "      <td>0</td>\n",
       "      <td>0</td>\n",
       "      <td>0</td>\n",
       "      <td>0</td>\n",
       "      <td>0</td>\n",
       "      <td>...</td>\n",
       "      <td>0</td>\n",
       "      <td>0</td>\n",
       "      <td>0</td>\n",
       "      <td>0</td>\n",
       "      <td>0</td>\n",
       "      <td>0</td>\n",
       "      <td>0</td>\n",
       "      <td>24</td>\n",
       "      <td>820</td>\n",
       "      <td>0</td>\n",
       "    </tr>\n",
       "    <tr>\n",
       "      <th>47</th>\n",
       "      <td>0</td>\n",
       "      <td>0</td>\n",
       "      <td>0</td>\n",
       "      <td>0</td>\n",
       "      <td>0</td>\n",
       "      <td>0</td>\n",
       "      <td>0</td>\n",
       "      <td>0</td>\n",
       "      <td>0</td>\n",
       "      <td>0</td>\n",
       "      <td>...</td>\n",
       "      <td>0</td>\n",
       "      <td>0</td>\n",
       "      <td>0</td>\n",
       "      <td>0</td>\n",
       "      <td>0</td>\n",
       "      <td>0</td>\n",
       "      <td>0</td>\n",
       "      <td>15</td>\n",
       "      <td>536</td>\n",
       "      <td>2</td>\n",
       "    </tr>\n",
       "    <tr>\n",
       "      <th>5</th>\n",
       "      <td>0</td>\n",
       "      <td>0</td>\n",
       "      <td>0</td>\n",
       "      <td>1</td>\n",
       "      <td>0</td>\n",
       "      <td>0</td>\n",
       "      <td>0</td>\n",
       "      <td>1</td>\n",
       "      <td>0</td>\n",
       "      <td>0</td>\n",
       "      <td>...</td>\n",
       "      <td>0</td>\n",
       "      <td>0</td>\n",
       "      <td>0</td>\n",
       "      <td>0</td>\n",
       "      <td>0</td>\n",
       "      <td>0</td>\n",
       "      <td>0</td>\n",
       "      <td>16</td>\n",
       "      <td>832</td>\n",
       "      <td>1</td>\n",
       "    </tr>\n",
       "  </tbody>\n",
       "</table>\n",
       "<p>5 rows × 7433 columns</p>\n",
       "</div>"
      ],
      "text/plain": [
       "    legalism  freedom  counsel  share  previous  enforce  imagine  moral  \\\n",
       "68         0        0        0      0         0        0        0      0   \n",
       "9          0        0        0      0         0        0        0      0   \n",
       "64         0        0        0      0         0        0        0      0   \n",
       "47         0        0        0      0         0        0        0      0   \n",
       "5          0        0        0      1         0        0        0      1   \n",
       "\n",
       "    indicate  dedicate      ...       backbone  bail  occupancy  285,000  \\\n",
       "68         0         0      ...              0     0          0        0   \n",
       "9          0         0      ...              0     0          0        0   \n",
       "64         0         0      ...              0     0          0        0   \n",
       "47         0         0      ...              0     0          0        0   \n",
       "5          0         0      ...              0     0          0        0   \n",
       "\n",
       "    disney  commemoration  tourism  n_sents  n_tokens  speaker_name  \n",
       "68       0              0        0       19       819             0  \n",
       "9        0              0        0       21       833             1  \n",
       "64       0              0        0       24       820             0  \n",
       "47       0              0        0       15       536             2  \n",
       "5        0              0        0       16       832             1  \n",
       "\n",
       "[5 rows x 7433 columns]"
      ]
     },
     "execution_count": 89,
     "metadata": {},
     "output_type": "execute_result"
    }
   ],
   "source": [
    "df_generated.head()"
   ]
  },
  {
   "cell_type": "markdown",
   "metadata": {},
   "source": [
    "*** Preparing the data to be used with the classification model we trained ***"
   ]
  },
  {
   "cell_type": "code",
   "execution_count": 90,
   "metadata": {},
   "outputs": [],
   "source": [
    "# Split-out validation dataset\n",
    "array_generated = df_generated.values\n",
    "X_generated = array_generated[:,:-1]\n",
    "Y_generated = array_generated[:,-1]"
   ]
  },
  {
   "cell_type": "code",
   "execution_count": 91,
   "metadata": {},
   "outputs": [
    {
     "name": "stdout",
     "output_type": "stream",
     "text": [
      "    0     1     2     3     4     5     6     7     8     9     ...   7423  \\\n",
      "0      0     0     0     0     0     0     0     0     0     0  ...      0   \n",
      "1      0     0     0     0     0     0     0     0     0     0  ...      0   \n",
      "2      0     0     0     0     0     0     0     0     0     0  ...      0   \n",
      "3      0     0     0     0     0     0     0     0     0     0  ...      0   \n",
      "4      0     0     0     1     0     0     0     1     0     0  ...      0   \n",
      "5      0     0     0     0     0     0     0     0     0     0  ...      0   \n",
      "6      0     0     0     0     0     0     0     0     0     0  ...      0   \n",
      "7      0     0     0     0     0     0     0     0     0     0  ...      0   \n",
      "8      0     0     0     0     0     0     0     0     0     0  ...      0   \n",
      "9      0     0     0     0     0     0     0     0     0     0  ...      0   \n",
      "10     0     0     0     0     0     0     0     0     0     0  ...      0   \n",
      "11     0     0     0     0     0     0     0     0     0     0  ...      0   \n",
      "12     0     0     0     0     0     0     0     0     0     0  ...      0   \n",
      "13     0     0     0     0     0     0     0     0     0     0  ...      0   \n",
      "14     0     0     0     0     0     0     0     0     0     0  ...      0   \n",
      "15     0     0     0     0     0     0     0     0     0     0  ...      0   \n",
      "16     0     0     0     0     0     0     0     0     0     0  ...      0   \n",
      "17     0     0     0     0     0     0     0     0     0     0  ...      0   \n",
      "18     0     0     0     0     0     0     0     0     0     0  ...      0   \n",
      "19     0     0     0     0     0     0     0     0     0     0  ...      0   \n",
      "20     0     0     0     0     0     0     0     0     0     0  ...      0   \n",
      "21     0     0     0     0     0     0     0     0     0     0  ...      0   \n",
      "22     0     0     0     0     0     0     0     0     0     0  ...      0   \n",
      "23     0     0     0     0     0     0     0     0     0     0  ...      0   \n",
      "24     0     0     0     0     0     0     0     0     0     0  ...      0   \n",
      "25     0     0     0     0     0     0     0     0     0     0  ...      0   \n",
      "26     0     0     0     0     0     0     0     0     0     0  ...      0   \n",
      "27     0     0     0     0     0     0     0     0     0     0  ...      0   \n",
      "28     0     0     0     0     0     0     0     0     0     0  ...      0   \n",
      "29     0     0     0     0     0     0     0     0     0     0  ...      0   \n",
      "..   ...   ...   ...   ...   ...   ...   ...   ...   ...   ...  ...    ...   \n",
      "42     0     0     0     1     0     0     0     0     0     0  ...      0   \n",
      "43     0     0     0     0     0     0     0     0     0     0  ...      0   \n",
      "44     0     0     0     0     0     0     0     0     0     0  ...      0   \n",
      "45     0     0     0     1     0     0     0     0     0     0  ...      0   \n",
      "46     0     0     0     0     0     0     0     0     0     0  ...      0   \n",
      "47     0     0     0     1     0     0     0     0     0     0  ...      0   \n",
      "48     0     0     0     0     0     0     0     0     0     0  ...      0   \n",
      "49     0     0     0     0     0     0     0     0     0     0  ...      0   \n",
      "50     0     0     0     0     0     0     0     0     0     0  ...      0   \n",
      "51     0     0     0     0     0     0     0     0     0     0  ...      0   \n",
      "52     0     0     0     0     0     0     0     1     0     0  ...      0   \n",
      "53     0     0     0     0     0     0     0     0     0     0  ...      0   \n",
      "54     0     0     0     0     0     0     0     0     0     0  ...      0   \n",
      "55     0     0     0     0     0     0     0     0     0     0  ...      0   \n",
      "56     0     0     0     0     0     0     0     0     0     0  ...      0   \n",
      "57     0     0     0     0     0     0     0     0     0     0  ...      0   \n",
      "58     0     1     0     0     0     0     0     0     0     0  ...      0   \n",
      "59     0     0     0     0     0     0     0     0     0     0  ...      0   \n",
      "60     0     0     0     0     0     0     0     0     0     0  ...      0   \n",
      "61     0     0     0     0     0     0     0     1     0     0  ...      0   \n",
      "62     0     1     0     0     0     0     0     0     0     0  ...      0   \n",
      "63     0     0     0     0     0     0     0     0     0     0  ...      0   \n",
      "64     0     0     0     0     0     0     0     1     0     0  ...      0   \n",
      "65     0     0     0     0     0     0     2     0     0     0  ...      0   \n",
      "66     0     0     0     0     0     0     0     0     0     0  ...      0   \n",
      "67     0     0     0     0     0     0     0     0     0     0  ...      0   \n",
      "68     0     0     0     0     0     0     0     0     0     0  ...      0   \n",
      "69     0     0     0     0     0     0     0     1     0     0  ...      0   \n",
      "70     0     0     0     0     0     0     0     0     0     0  ...      0   \n",
      "71     0     0     0     0     0     0     0     0     0     0  ...      0   \n",
      "\n",
      "    7424  7425  7426  7427  7428  7429  7430  7431  7432  \n",
      "0      0     0     0     0     0     0    19   819     0  \n",
      "1      0     0     0     0     0     0    21   833     1  \n",
      "2      0     0     0     0     0     0    24   820     0  \n",
      "3      0     0     0     0     0     0    15   536     2  \n",
      "4      0     0     0     0     0     0    16   832     1  \n",
      "5      0     0     0     0     0     0    16   532     2  \n",
      "6      0     0     0     0     0     0    18   831     1  \n",
      "7      0     0     0     0     0     0    17   817     0  \n",
      "8      0     0     0     0     0     0    15   536     2  \n",
      "9      0     0     0     0     0     0    17   535     2  \n",
      "10     0     0     0     0     0     0    12   836     1  \n",
      "11     0     0     0     0     0     0    14   814     0  \n",
      "12     0     0     0     0     0     0    24   536     2  \n",
      "13     0     0     0     0     0     0    23   831     1  \n",
      "14     0     0     0     0     0     0    19   535     2  \n",
      "15     0     0     0     0     0     0    35   818     0  \n",
      "16     0     0     0     0     0     0    17   533     2  \n",
      "17     0     0     0     0     0     0    11   535     2  \n",
      "18     0     0     0     0     0     0    20   536     2  \n",
      "19     0     0     0     0     0     0    13   833     1  \n",
      "20     0     0     0     0     0     0    24   819     0  \n",
      "21     0     0     0     0     0     0    16   816     0  \n",
      "22     0     0     0     0     0     0    24   818     0  \n",
      "23     0     0     0     0     0     0    18   815     0  \n",
      "24     0     0     0     0     0     0    10   535     2  \n",
      "25     0     0     0     0     0     0    21   830     1  \n",
      "26     0     0     0     0     0     0    16   534     2  \n",
      "27     0     0     0     0     0     0    18   535     2  \n",
      "28     0     0     0     0     0     0    20   533     2  \n",
      "29     0     0     0     0     0     0    18   535     2  \n",
      "..   ...   ...   ...   ...   ...   ...   ...   ...   ...  \n",
      "42     0     0     0     0     0     0    11   534     2  \n",
      "43     0     0     0     0     0     0    16   816     0  \n",
      "44     0     0     0     0     0     0    17   536     2  \n",
      "45     0     0     0     0     0     0    24   819     0  \n",
      "46     0     0     0     0     0     0    15   537     2  \n",
      "47     0     0     0     0     0     0    18   821     0  \n",
      "48     0     0     0     0     0     0    18   816     0  \n",
      "49     0     0     0     0     0     0    21   820     0  \n",
      "50     0     0     0     0     0     0    27   817     0  \n",
      "51     0     0     0     0     0     0    20   535     2  \n",
      "52     0     0     0     0     0     0    13   834     1  \n",
      "53     0     0     0     0     0     0    14   817     0  \n",
      "54     0     0     0     0     0     0    25   815     0  \n",
      "55     0     0     0     0     0     0    13   534     2  \n",
      "56     0     0     0     0     0     0    20   833     1  \n",
      "57     0     0     0     0     0     0    23   820     0  \n",
      "58     0     0     0     0     0     0     8   534     2  \n",
      "59     0     0     0     0     0     0    20   831     1  \n",
      "60     0     0     0     0     0     0    17   830     1  \n",
      "61     0     0     0     0     0     0     9   830     1  \n",
      "62     0     0     0     0     0     0    17   830     1  \n",
      "63     0     0     0     0     0     0    24   817     0  \n",
      "64     0     0     0     0     0     0    11   834     1  \n",
      "65     0     0     0     0     0     0    25   832     1  \n",
      "66     0     0     0     0     0     0    15   831     1  \n",
      "67     0     0     0     0     0     0    16   831     1  \n",
      "68     0     0     0     0     0     0    15   817     0  \n",
      "69     0     0     0     0     0     0    12   833     1  \n",
      "70     0     0     0     0     0     0    24   817     0  \n",
      "71     0     0     0     0     0     0    14   818     0  \n",
      "\n"
     ]
    },
    {
     "name": "stdout",
     "output_type": "stream",
     "text": [
      "[72 rows x 7433 columns]\n"
     ]
    }
   ],
   "source": [
    "print (DataFrame(array_generated))"
   ]
  },
  {
   "cell_type": "code",
   "execution_count": 92,
   "metadata": {
    "scrolled": true
   },
   "outputs": [
    {
     "name": "stdout",
     "output_type": "stream",
     "text": [
      "    0\n",
      "0   0\n",
      "1   1\n",
      "2   0\n",
      "3   2\n",
      "4   1\n",
      "5   2\n",
      "6   1\n",
      "7   0\n",
      "8   2\n",
      "9   2\n",
      "10  1\n",
      "11  0\n",
      "12  2\n",
      "13  1\n",
      "14  2\n",
      "15  0\n",
      "16  2\n",
      "17  2\n",
      "18  2\n",
      "19  1\n",
      "20  0\n",
      "21  0\n",
      "22  0\n",
      "23  0\n",
      "24  2\n",
      "25  1\n",
      "26  2\n",
      "27  2\n",
      "28  2\n",
      "29  2\n",
      ".. ..\n",
      "42  2\n",
      "43  0\n",
      "44  2\n",
      "45  0\n",
      "46  2\n",
      "47  0\n",
      "48  0\n",
      "49  0\n",
      "50  0\n",
      "51  2\n",
      "52  1\n",
      "53  0\n",
      "54  0\n",
      "55  2\n",
      "56  1\n",
      "57  0\n",
      "58  2\n",
      "59  1\n",
      "60  1\n",
      "61  1\n",
      "62  1\n",
      "63  0\n",
      "64  1\n",
      "65  1\n",
      "66  1\n",
      "67  1\n",
      "68  0\n",
      "69  1\n",
      "70  0\n",
      "71  0\n",
      "\n",
      "[72 rows x 1 columns]\n"
     ]
    }
   ],
   "source": [
    "Y_generated\n",
    "from pandas import *\n",
    "print (DataFrame(Y_generated))"
   ]
  },
  {
   "cell_type": "markdown",
   "metadata": {},
   "source": [
    "*** Predicting the classification of the trained model ***"
   ]
  },
  {
   "cell_type": "code",
   "execution_count": 93,
   "metadata": {},
   "outputs": [],
   "source": [
    "# Test options and evaluation metric\n",
    "scoring = 'accuracy'"
   ]
  },
  {
   "cell_type": "code",
   "execution_count": 94,
   "metadata": {},
   "outputs": [],
   "source": [
    "predictions_generated = classification_model.predict(X_generated)"
   ]
  },
  {
   "cell_type": "code",
   "execution_count": 95,
   "metadata": {
    "scrolled": true
   },
   "outputs": [
    {
     "name": "stdout",
     "output_type": "stream",
     "text": [
      "    0\n",
      "0   0\n",
      "1   1\n",
      "2   0\n",
      "3   2\n",
      "4   1\n",
      "5   2\n",
      "6   1\n",
      "7   0\n",
      "8   2\n",
      "9   2\n",
      "10  1\n",
      "11  0\n",
      "12  2\n",
      "13  1\n",
      "14  2\n",
      "15  0\n",
      "16  2\n",
      "17  2\n",
      "18  2\n",
      "19  1\n",
      "20  0\n",
      "21  0\n",
      "22  0\n",
      "23  0\n",
      "24  2\n",
      "25  1\n",
      "26  2\n",
      "27  2\n",
      "28  2\n",
      "29  2\n",
      ".. ..\n",
      "42  2\n",
      "43  0\n",
      "44  2\n",
      "45  0\n",
      "46  2\n",
      "47  0\n",
      "48  0\n",
      "49  0\n",
      "50  0\n",
      "51  2\n",
      "52  1\n",
      "53  0\n",
      "54  0\n",
      "55  2\n",
      "56  1\n",
      "57  0\n",
      "58  2\n",
      "59  0\n",
      "60  1\n",
      "61  1\n",
      "62  1\n",
      "63  0\n",
      "64  1\n",
      "65  1\n",
      "66  1\n",
      "67  1\n",
      "68  0\n",
      "69  1\n",
      "70  0\n",
      "71  0\n",
      "\n",
      "[72 rows x 1 columns]\n"
     ]
    }
   ],
   "source": [
    "print(DataFrame(predictions_generated))"
   ]
  },
  {
   "cell_type": "markdown",
   "metadata": {},
   "source": [
    "*** Classification model accuracy on the generated speeches ***"
   ]
  },
  {
   "cell_type": "code",
   "execution_count": 96,
   "metadata": {},
   "outputs": [
    {
     "name": "stdout",
     "output_type": "stream",
     "text": [
      "Accuracy score:  0.986111111111\n"
     ]
    }
   ],
   "source": [
    "print(\"Accuracy score: \", accuracy_score(Y_generated, predictions_generated))"
   ]
  },
  {
   "cell_type": "markdown",
   "metadata": {},
   "source": [
    "*** Confusion Matrix ***"
   ]
  },
  {
   "cell_type": "code",
   "execution_count": 98,
   "metadata": {},
   "outputs": [
    {
     "data": {
      "image/png": "[encoded data removed]",
      "text/plain": [
       "<matplotlib.figure.Figure at 0x23bb26bc438>"
      ]
     },
     "metadata": {},
     "output_type": "display_data"
    }
   ],
   "source": [
    "sn.heatmap(confusion_matrix(Y_generated, predictions_generated), annot=True)\n",
    "plt.show()"
   ]
  },
  {
   "cell_type": "markdown",
   "metadata": {},
   "source": [
    "*** Classification Report ***"
   ]
  },
  {
   "cell_type": "code",
   "execution_count": 99,
   "metadata": {
    "scrolled": true
   },
   "outputs": [
    {
     "name": "stdout",
     "output_type": "stream",
     "text": [
      "             precision    recall  f1-score   support\n",
      "\n",
      "        0.0       0.96      1.00      0.98        24\n",
      "        1.0       1.00      0.96      0.98        24\n",
      "        2.0       1.00      1.00      1.00        24\n",
      "\n",
      "avg / total       0.99      0.99      0.99        72\n",
      "\n"
     ]
    }
   ],
   "source": [
    "print(classification_report(Y_generated, predictions_generated))"
   ]
  },
  {
   "cell_type": "markdown",
   "metadata": {},
   "source": [
    "---"
   ]
  },
  {
   "cell_type": "markdown",
   "metadata": {},
   "source": [
    "## Summary"
   ]
  },
  {
   "cell_type": "markdown",
   "metadata": {},
   "source": [
    "__The project was incredably interesting because we managed to work on the following subjects:__\n",
    ">_1. Textual Data Collection_  \n",
    "_2. Data Preprocessing_  \n",
    "_3. Text Classification_  \n",
    "_4. Training RNN LSTM Models On Textual Data_  \n",
    "_5. Predicting Speeches_  \n",
    "_6. Testing A Trained Classification Model On Computer Generated Speeches(!)_  \n",
    "_7. Evaluation Techniques_  \n",
    "_8. Working On The Cloud Using Google Colab_  \n",
    "_9. Understanding The Power Of GPUs_"
   ]
  },
  {
   "cell_type": "markdown",
   "metadata": {},
   "source": [
    "*** What could we have done better ***\n",
    "> _1. Predicting the next letter instead of word - We had bad experience with it (No meaning of sentences AT ALL)_  \n",
    "_2. Not removing the punctuation_  \n",
    "_3. Having a more elegant way to calculate the length of each speech_  \n",
    "_4. Reducing the size of the dictionary only to occurences more than some value_"
   ]
  },
  {
   "cell_type": "markdown",
   "metadata": {},
   "source": [
    "*** Overall thoughts ***"
   ]
  },
  {
   "cell_type": "markdown",
   "metadata": {},
   "source": [
    "> _We think we did a descent job overall in this project. It took us a really long time to do it well.  \n",
    "We learned a lot and got real 'hands on' experience on some of the most fascinating aspects in data science,  \n",
    "And we thank you for that._"
   ]
  }
 ],
 "metadata": {
  "kernelspec": {
   "display_name": "Python 3",
   "language": "python",
   "name": "python3"
  },
  "language_info": {
   "codemirror_mode": {
    "name": "ipython",
    "version": 3
   },
   "file_extension": ".py",
   "mimetype": "text/x-python",
   "name": "python",
   "nbconvert_exporter": "python",
   "pygments_lexer": "ipython3",
   "version": "3.6.3"
  }
 },
 "nbformat": 4,
 "nbformat_minor": 2
}
